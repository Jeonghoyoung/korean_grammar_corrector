{
 "cells": [
  {
   "cell_type": "code",
   "execution_count": 31,
   "metadata": {},
   "outputs": [],
   "source": [
    "import re\n",
    "import pandas as pd\n",
    "import matplotlib.pyplot as plt\n",
    "from sklearn.model_selection import train_test_split\n",
    "\n",
    "import tensorflow as tf\n",
    "from tensorflow import keras\n",
    "from tensorflow.keras import layers\n",
    "from tensorflow.keras.layers.experimental.preprocessing import TextVectorization\n",
    "\n",
    "from tqdm import tqdm\n",
    "\n",
    "# keras_transformer Module\n",
    "from keras_layer_normalization import LayerNormalization\n",
    "from keras_multi_head import MultiHeadAttention\n",
    "from keras_pos_embd import TrigPosEmbedding\n",
    "from keras_embed_sim import EmbeddingRet, EmbeddingSim\n"
   ]
  },
  {
   "attachments": {},
   "cell_type": "markdown",
   "metadata": {},
   "source": [
    "## 구조\n",
    "1. text vectorize\n",
    "    - sentence -> sequence of number\n",
    "\n",
    "2. Embedding\n",
    "    - token embedding & positional embedding\n",
    "        - token embedding -> 단어 index 를 지정된 크기의 벡터로 맵핑\n",
    "\n",
    "        - positional embedding -> 각 단어의 위치 값에 대한 embedding\n",
    "\n",
    "\n",
    "3. Encoding Layer\n",
    "\n",
    "\n",
    "4. Decoding Layer\n",
    "\n",
    "\n",
    "\n",
    "** pip install keras_transformer\n",
    "        "
   ]
  },
  {
   "cell_type": "code",
   "execution_count": 2,
   "metadata": {},
   "outputs": [
    {
     "name": "stderr",
     "output_type": "stream",
     "text": [
      "/var/folders/71/zzhz1j712c90w725hts969l00000gn/T/ipykernel_42975/2368892654.py:1: FutureWarning: The error_bad_lines argument has been deprecated and will be removed in a future version. Use on_bad_lines in the future.\n",
      "\n",
      "\n",
      "  df = pd.read_csv('../../data/train/korean_corpus_train_20221201.shuf.csv', error_bad_lines=False, names=['src', 'tgt'])\n",
      "b'Skipping line 768178: expected 2 fields, saw 3\\n'\n"
     ]
    }
   ],
   "source": [
    "df = pd.read_csv('../../data/train/korean_corpus_train_20221201.shuf.csv', error_bad_lines=False, names=['src', 'tgt'])"
   ]
  },
  {
   "cell_type": "code",
   "execution_count": 3,
   "metadata": {},
   "outputs": [
    {
     "data": {
      "text/html": [
       "<div>\n",
       "<style scoped>\n",
       "    .dataframe tbody tr th:only-of-type {\n",
       "        vertical-align: middle;\n",
       "    }\n",
       "\n",
       "    .dataframe tbody tr th {\n",
       "        vertical-align: top;\n",
       "    }\n",
       "\n",
       "    .dataframe thead th {\n",
       "        text-align: right;\n",
       "    }\n",
       "</style>\n",
       "<table border=\"1\" class=\"dataframe\">\n",
       "  <thead>\n",
       "    <tr style=\"text-align: right;\">\n",
       "      <th></th>\n",
       "      <th>src</th>\n",
       "      <th>tgt</th>\n",
       "    </tr>\n",
       "  </thead>\n",
       "  <tbody>\n",
       "    <tr>\n",
       "      <th>0</th>\n",
       "      <td>그런데도 왜 아힉도 수영모를 쓰고 계신지 궁금해요.</td>\n",
       "      <td>그런데도 왜 아직도 수영모를 쓰고 계신지 궁금해요.</td>\n",
       "    </tr>\n",
       "    <tr>\n",
       "      <th>1</th>\n",
       "      <td>이에 따랇 이동제한 등 봉쇄조치는 이달 말까지 연장된다.</td>\n",
       "      <td>이에 따라 이동제한 등 봉쇄조치는 이달 말까지 연장된다.</td>\n",
       "    </tr>\n",
       "    <tr>\n",
       "      <th>2</th>\n",
       "      <td>이러한 교류와 접초근 도시의 개방도와 국쩨화 정도를 로펴준다는 저메서 크 늬미를 가...</td>\n",
       "      <td>이러한 교류와 접촉은 도시의 개방도와 국제화 정도를 높여준다는 점에서 큰 의미를 가...</td>\n",
       "    </tr>\n",
       "    <tr>\n",
       "      <th>3</th>\n",
       "      <td>저희는 사고가 발생한 것을 증몽하는 영상이나 파일을 보내드릴 숬 있습니다.</td>\n",
       "      <td>저희는 사고가 발생한 것을 증명하는 영상이나 파일을 보내드릴 수 있습니다.</td>\n",
       "    </tr>\n",
       "    <tr>\n",
       "      <th>4</th>\n",
       "      <td>이 세이버는 펴늬성과 스타일 미 텩씬적 층며네서 궁극쩌긴 시스테므로 디자인되얻씀니다.</td>\n",
       "      <td>이 세이버는 편의성과 스타일 및 혁신적 측면에서 궁극적인 시스템으로 디자인되었습니다.</td>\n",
       "    </tr>\n",
       "  </tbody>\n",
       "</table>\n",
       "</div>"
      ],
      "text/plain": [
       "                                                 src  \\\n",
       "0                       그런데도 왜 아힉도 수영모를 쓰고 계신지 궁금해요.   \n",
       "1                    이에 따랇 이동제한 등 봉쇄조치는 이달 말까지 연장된다.   \n",
       "2  이러한 교류와 접초근 도시의 개방도와 국쩨화 정도를 로펴준다는 저메서 크 늬미를 가...   \n",
       "3          저희는 사고가 발생한 것을 증몽하는 영상이나 파일을 보내드릴 숬 있습니다.   \n",
       "4    이 세이버는 펴늬성과 스타일 미 텩씬적 층며네서 궁극쩌긴 시스테므로 디자인되얻씀니다.   \n",
       "\n",
       "                                                 tgt  \n",
       "0                       그런데도 왜 아직도 수영모를 쓰고 계신지 궁금해요.  \n",
       "1                    이에 따라 이동제한 등 봉쇄조치는 이달 말까지 연장된다.  \n",
       "2  이러한 교류와 접촉은 도시의 개방도와 국제화 정도를 높여준다는 점에서 큰 의미를 가...  \n",
       "3          저희는 사고가 발생한 것을 증명하는 영상이나 파일을 보내드릴 수 있습니다.  \n",
       "4    이 세이버는 편의성과 스타일 및 혁신적 측면에서 궁극적인 시스템으로 디자인되었습니다.  "
      ]
     },
     "execution_count": 3,
     "metadata": {},
     "output_type": "execute_result"
    }
   ],
   "source": [
    "df.head()"
   ]
  },
  {
   "cell_type": "code",
   "execution_count": null,
   "metadata": {},
   "outputs": [
    {
     "name": "stderr",
     "output_type": "stream",
     "text": [
      "1619999it [01:10, 23006.84it/s]"
     ]
    },
    {
     "name": "stdout",
     "output_type": "stream",
     "text": [
      "문장당 평균 어절 길이 : 10.371815044330274\n"
     ]
    },
    {
     "name": "stderr",
     "output_type": "stream",
     "text": [
      "\n"
     ]
    }
   ],
   "source": [
    "sentence_length = 0\n",
    "\n",
    "for i, row in tqdm(df.iterrows()):\n",
    "    s = row['tgt']\n",
    "    sentence_length += len(s.split()) # 어절 개수 합산\n",
    "print(f'문장당 평균 어절 길이 : {sentence_length / len(df)}')"
   ]
  },
  {
   "cell_type": "code",
   "execution_count": 4,
   "metadata": {},
   "outputs": [
    {
     "data": {
      "image/png": "[encoded data removed]",
      "text/plain": [
       "<Figure size 640x480 with 1 Axes>"
      ]
     },
     "metadata": {},
     "output_type": "display_data"
    }
   ],
   "source": [
    "plt.hist([len(row['tgt'].split()) for i , row in df.iterrows()], bins=30)\n",
    "plt.show()"
   ]
  },
  {
   "cell_type": "code",
   "execution_count": 5,
   "metadata": {},
   "outputs": [
    {
     "data": {
      "text/plain": [
       "1619999"
      ]
     },
     "execution_count": 5,
     "metadata": {},
     "output_type": "execute_result"
    }
   ],
   "source": [
    "len(df)"
   ]
  },
  {
   "cell_type": "code",
   "execution_count": 22,
   "metadata": {},
   "outputs": [],
   "source": [
    "def text_preprocess(text):\n",
    "    text = '[START] ' + text + ' [END]'\n",
    "    return text"
   ]
  },
  {
   "cell_type": "code",
   "execution_count": 24,
   "metadata": {},
   "outputs": [],
   "source": [
    "test_vec = df['src'][:5]"
   ]
  },
  {
   "cell_type": "code",
   "execution_count": 26,
   "metadata": {},
   "outputs": [],
   "source": [
    "t = TextVectorization(standardize=text_preprocess, max_tokens=10)\n",
    "t.adapt(test_vec)"
   ]
  },
  {
   "cell_type": "code",
   "execution_count": 28,
   "metadata": {},
   "outputs": [
    {
     "data": {
      "text/plain": [
       "<tf.Tensor: shape=(5, 25), dtype=int64, numpy=\n",
       "array([[2, 1, 1, 1, 1, 3, 0, 0, 0, 0, 0, 0, 0, 0, 0, 0, 0, 0, 0, 0, 0, 0,\n",
       "        0, 0, 0],\n",
       "       [2, 1, 1, 1, 1, 1, 3, 0, 0, 0, 0, 0, 0, 0, 0, 0, 0, 0, 0, 0, 0, 0,\n",
       "        0, 0, 0],\n",
       "       [2, 1, 1, 1, 1, 1, 1, 1, 1, 1, 1, 1, 1, 1, 1, 1, 1, 1, 1, 1, 1, 1,\n",
       "        1, 1, 3],\n",
       "       [2, 1, 1, 3, 0, 0, 0, 0, 0, 0, 0, 0, 0, 0, 0, 0, 0, 0, 0, 0, 0, 0,\n",
       "        0, 0, 0],\n",
       "       [2, 1, 1, 1, 1, 1, 1, 1, 1, 1, 1, 1, 1, 1, 1, 1, 1, 1, 3, 0, 0, 0,\n",
       "        0, 0, 0]])>"
      ]
     },
     "execution_count": 28,
     "metadata": {},
     "output_type": "execute_result"
    }
   ],
   "source": [
    "t2 = t(df['src'][5:10])\n",
    "t2"
   ]
  },
  {
   "cell_type": "code",
   "execution_count": 32,
   "metadata": {},
   "outputs": [],
   "source": [
    "src = df['src'].apply(lambda x: text_preprocess(x))\n",
    "tgt = df['tgt'].apply(lambda x: text_preprocess(x))"
   ]
  },
  {
   "cell_type": "code",
   "execution_count": 36,
   "metadata": {},
   "outputs": [
    {
     "data": {
      "text/plain": [
       "0                 [START] 그런데도 왜 아직도 수영모를 쓰고 계신지 궁금해요. [END]\n",
       "1              [START] 이에 따라 이동제한 등 봉쇄조치는 이달 말까지 연장된다. [END]\n",
       "2          [START] 이러한 교류와 접촉은 도시의 개방도와 국제화 정도를 높여준다는 점에서...\n",
       "3          [START] 저희는 사고가 발생한 것을 증명하는 영상이나 파일을 보내드릴 수 있습...\n",
       "4          [START] 이 세이버는 편의성과 스타일 및 혁신적 측면에서 궁극적인 시스템으로 ...\n",
       "                                 ...                        \n",
       "1619994                [START] 손끝에서 편안한 사용간을 주는 그립입니다. [END]\n",
       "1619995    [START] 앞으로 무슨 일이 일어날지 안내받지 못했던 콕스는 공연 중 \"일어나서...\n",
       "1619996             [START] 응, 그리고 그들 인생의 남자에게는 더욱 그래. [END]\n",
       "1619997    [START] 뛰어난 내구성을 가지고 안전 테스트를 거친 소재로 제작되어 비행 중에...\n",
       "1619998    [START] 초기 개척이 완성되어 삶이 안정화된 후에는 새로 이주하는 조선인들의 ...\n",
       "Name: tgt, Length: 1619999, dtype: object"
      ]
     },
     "execution_count": 36,
     "metadata": {},
     "output_type": "execute_result"
    }
   ],
   "source": [
    "tgt"
   ]
  },
  {
   "cell_type": "code",
   "execution_count": 37,
   "metadata": {},
   "outputs": [],
   "source": [
    "import numpy as np"
   ]
  },
  {
   "attachments": {},
   "cell_type": "markdown",
   "metadata": {},
   "source": [
    "### Model"
   ]
  },
  {
   "cell_type": "code",
   "execution_count": 75,
   "metadata": {},
   "outputs": [],
   "source": [
    "def Vectorizing(inputs, outputs, vocab_size, max_length):\n",
    "    def __full_stop_filter(text):\n",
    "        return re.sub(r'([?.!,])', r' \\1', str(text)).strip()\n",
    "\n",
    "    data= inputs + outputs\n",
    "    data = [i for d in data for i in d.split()]\n",
    "    dataset = tf.data.Dataset.from_tensor_slices(data)\n",
    "\n",
    "    text_vectorization = TextVectorization(\n",
    "        # standardize= __full_stop_filter,\n",
    "        max_tokens = vocab_size -1,\n",
    "        output_mode = 'int',\n",
    "        output_sequence_length = max_length + 1\n",
    "    )\n",
    "    text_vectorization.adapt(dataset)\n",
    "    return text_vectorization\n",
    "    \n"
   ]
  },
  {
   "cell_type": "code",
   "execution_count": 76,
   "metadata": {},
   "outputs": [],
   "source": [
    "data = src.tolist()[:5] + tgt.tolist()[:5]\n",
    "data = [i for d in data for i in d.split()]\n",
    "# data\n",
    "dataset = tf.data.Dataset.from_tensor_slices(data)"
   ]
  },
  {
   "cell_type": "code",
   "execution_count": 77,
   "metadata": {},
   "outputs": [
    {
     "data": {
      "text/plain": [
       "<keras.layers.preprocessing.text_vectorization.TextVectorization at 0x7f958e27fd00>"
      ]
     },
     "execution_count": 77,
     "metadata": {},
     "output_type": "execute_result"
    }
   ],
   "source": [
    "t = Vectorizing(src.tolist()[:5], tgt.tolist()[:5], 1000, 30)\n",
    "t"
   ]
  },
  {
   "cell_type": "code",
   "execution_count": 78,
   "metadata": {},
   "outputs": [
    {
     "data": {
      "text/plain": [
       "<keras.layers.preprocessing.text_vectorization.TextVectorization at 0x7f958e27fd00>"
      ]
     },
     "execution_count": 78,
     "metadata": {},
     "output_type": "execute_result"
    }
   ],
   "source": [
    "t."
   ]
  },
  {
   "cell_type": "code",
   "execution_count": 55,
   "metadata": {},
   "outputs": [
    {
     "name": "stderr",
     "output_type": "stream",
     "text": [
      "/Users/hoyoung/opt/anaconda3/envs/ko_grammer_checker/lib/python3.8/site-packages/keras/engine/data_adapter.py:656: VisibleDeprecationWarning: Creating an ndarray from ragged nested sequences (which is a list-or-tuple of lists-or-tuples-or ndarrays with different lengths or shapes) is deprecated. If you meant to do this, you must specify 'dtype=object' when creating the ndarray.\n",
      "  x = np.asarray(x)\n"
     ]
    },
    {
     "ename": "ValueError",
     "evalue": "Failed to convert a NumPy array to a Tensor (Unsupported object type list).",
     "output_type": "error",
     "traceback": [
      "\u001b[0;31m---------------------------------------------------------------------------\u001b[0m",
      "\u001b[0;31mValueError\u001b[0m                                Traceback (most recent call last)",
      "\u001b[1;32m/Users/hoyoung/Desktop/pycharm_work/korean_grammar_corrector/bin/keras_model_v2/textvectorization.ipynb 셀 17\u001b[0m in \u001b[0;36m<cell line: 1>\u001b[0;34m()\u001b[0m\n\u001b[0;32m----> <a href='vscode-notebook-cell:/Users/hoyoung/Desktop/pycharm_work/korean_grammar_corrector/bin/keras_model_v2/textvectorization.ipynb#Y106sZmlsZQ%3D%3D?line=0'>1</a>\u001b[0m test \u001b[39m=\u001b[39m Vectorizing(src, tgt, vocab_size\u001b[39m=\u001b[39;49m\u001b[39m10000\u001b[39;49m, max_length\u001b[39m=\u001b[39;49m\u001b[39m70\u001b[39;49m)\n",
      "\u001b[1;32m/Users/hoyoung/Desktop/pycharm_work/korean_grammar_corrector/bin/keras_model_v2/textvectorization.ipynb 셀 17\u001b[0m in \u001b[0;36mVectorizing\u001b[0;34m(inputs, outputs, vocab_size, max_length)\u001b[0m\n\u001b[1;32m      <a href='vscode-notebook-cell:/Users/hoyoung/Desktop/pycharm_work/korean_grammar_corrector/bin/keras_model_v2/textvectorization.ipynb#Y106sZmlsZQ%3D%3D?line=5'>6</a>\u001b[0m data \u001b[39m=\u001b[39m [d\u001b[39m.\u001b[39msplit() \u001b[39mfor\u001b[39;00m d \u001b[39min\u001b[39;00m data]\n\u001b[1;32m      <a href='vscode-notebook-cell:/Users/hoyoung/Desktop/pycharm_work/korean_grammar_corrector/bin/keras_model_v2/textvectorization.ipynb#Y106sZmlsZQ%3D%3D?line=7'>8</a>\u001b[0m text_vectorization \u001b[39m=\u001b[39m TextVectorization(\n\u001b[1;32m      <a href='vscode-notebook-cell:/Users/hoyoung/Desktop/pycharm_work/korean_grammar_corrector/bin/keras_model_v2/textvectorization.ipynb#Y106sZmlsZQ%3D%3D?line=8'>9</a>\u001b[0m     standardize\u001b[39m=\u001b[39m __full_stop_filter,\n\u001b[1;32m     <a href='vscode-notebook-cell:/Users/hoyoung/Desktop/pycharm_work/korean_grammar_corrector/bin/keras_model_v2/textvectorization.ipynb#Y106sZmlsZQ%3D%3D?line=9'>10</a>\u001b[0m     max_tokens \u001b[39m=\u001b[39m vocab_size \u001b[39m-\u001b[39m\u001b[39m1\u001b[39m,\n\u001b[1;32m     <a href='vscode-notebook-cell:/Users/hoyoung/Desktop/pycharm_work/korean_grammar_corrector/bin/keras_model_v2/textvectorization.ipynb#Y106sZmlsZQ%3D%3D?line=10'>11</a>\u001b[0m     output_mode \u001b[39m=\u001b[39m \u001b[39m'\u001b[39m\u001b[39mint\u001b[39m\u001b[39m'\u001b[39m,\n\u001b[1;32m     <a href='vscode-notebook-cell:/Users/hoyoung/Desktop/pycharm_work/korean_grammar_corrector/bin/keras_model_v2/textvectorization.ipynb#Y106sZmlsZQ%3D%3D?line=11'>12</a>\u001b[0m     output_sequence_length \u001b[39m=\u001b[39m max_length \u001b[39m+\u001b[39m \u001b[39m1\u001b[39m\n\u001b[1;32m     <a href='vscode-notebook-cell:/Users/hoyoung/Desktop/pycharm_work/korean_grammar_corrector/bin/keras_model_v2/textvectorization.ipynb#Y106sZmlsZQ%3D%3D?line=12'>13</a>\u001b[0m )\n\u001b[0;32m---> <a href='vscode-notebook-cell:/Users/hoyoung/Desktop/pycharm_work/korean_grammar_corrector/bin/keras_model_v2/textvectorization.ipynb#Y106sZmlsZQ%3D%3D?line=13'>14</a>\u001b[0m text_vectorization\u001b[39m.\u001b[39;49madapt(data)\n\u001b[1;32m     <a href='vscode-notebook-cell:/Users/hoyoung/Desktop/pycharm_work/korean_grammar_corrector/bin/keras_model_v2/textvectorization.ipynb#Y106sZmlsZQ%3D%3D?line=14'>15</a>\u001b[0m \u001b[39mreturn\u001b[39;00m text_vectorization\n",
      "File \u001b[0;32m~/opt/anaconda3/envs/ko_grammer_checker/lib/python3.8/site-packages/keras/layers/preprocessing/text_vectorization.py:428\u001b[0m, in \u001b[0;36mTextVectorization.adapt\u001b[0;34m(self, data, batch_size, steps)\u001b[0m\n\u001b[1;32m    381\u001b[0m \u001b[39mdef\u001b[39;00m \u001b[39madapt\u001b[39m(\u001b[39mself\u001b[39m, data, batch_size\u001b[39m=\u001b[39m\u001b[39mNone\u001b[39;00m, steps\u001b[39m=\u001b[39m\u001b[39mNone\u001b[39;00m):\n\u001b[1;32m    382\u001b[0m   \u001b[39m\"\"\"Computes a vocabulary of string terms from tokens in a dataset.\u001b[39;00m\n\u001b[1;32m    383\u001b[0m \n\u001b[1;32m    384\u001b[0m \u001b[39m  Calling `adapt()` on a `TextVectorization` layer is an alternative to\u001b[39;00m\n\u001b[0;32m   (...)\u001b[0m\n\u001b[1;32m    426\u001b[0m \u001b[39m        argument is not supported with array inputs.\u001b[39;00m\n\u001b[1;32m    427\u001b[0m \u001b[39m  \"\"\"\u001b[39;00m\n\u001b[0;32m--> 428\u001b[0m   \u001b[39msuper\u001b[39;49m()\u001b[39m.\u001b[39;49madapt(data, batch_size\u001b[39m=\u001b[39;49mbatch_size, steps\u001b[39m=\u001b[39;49msteps)\n",
      "File \u001b[0;32m~/opt/anaconda3/envs/ko_grammer_checker/lib/python3.8/site-packages/keras/engine/base_preprocessing_layer.py:238\u001b[0m, in \u001b[0;36mPreprocessingLayer.adapt\u001b[0;34m(self, data, batch_size, steps)\u001b[0m\n\u001b[1;32m    236\u001b[0m \u001b[39mif\u001b[39;00m \u001b[39mself\u001b[39m\u001b[39m.\u001b[39mbuilt:\n\u001b[1;32m    237\u001b[0m   \u001b[39mself\u001b[39m\u001b[39m.\u001b[39mreset_state()\n\u001b[0;32m--> 238\u001b[0m data_handler \u001b[39m=\u001b[39m data_adapter\u001b[39m.\u001b[39;49mDataHandler(\n\u001b[1;32m    239\u001b[0m     data,\n\u001b[1;32m    240\u001b[0m     batch_size\u001b[39m=\u001b[39;49mbatch_size,\n\u001b[1;32m    241\u001b[0m     steps_per_epoch\u001b[39m=\u001b[39;49msteps,\n\u001b[1;32m    242\u001b[0m     epochs\u001b[39m=\u001b[39;49m\u001b[39m1\u001b[39;49m,\n\u001b[1;32m    243\u001b[0m     steps_per_execution\u001b[39m=\u001b[39;49m\u001b[39mself\u001b[39;49m\u001b[39m.\u001b[39;49m_steps_per_execution,\n\u001b[1;32m    244\u001b[0m     distribute\u001b[39m=\u001b[39;49m\u001b[39mFalse\u001b[39;49;00m)\n\u001b[1;32m    245\u001b[0m \u001b[39mself\u001b[39m\u001b[39m.\u001b[39m_adapt_function \u001b[39m=\u001b[39m \u001b[39mself\u001b[39m\u001b[39m.\u001b[39mmake_adapt_function()\n\u001b[1;32m    246\u001b[0m \u001b[39mfor\u001b[39;00m _, iterator \u001b[39min\u001b[39;00m data_handler\u001b[39m.\u001b[39menumerate_epochs():\n",
      "File \u001b[0;32m~/opt/anaconda3/envs/ko_grammer_checker/lib/python3.8/site-packages/keras/engine/data_adapter.py:1151\u001b[0m, in \u001b[0;36mDataHandler.__init__\u001b[0;34m(self, x, y, sample_weight, batch_size, steps_per_epoch, initial_epoch, epochs, shuffle, class_weight, max_queue_size, workers, use_multiprocessing, model, steps_per_execution, distribute)\u001b[0m\n\u001b[1;32m   1148\u001b[0m   \u001b[39mself\u001b[39m\u001b[39m.\u001b[39m_steps_per_execution \u001b[39m=\u001b[39m steps_per_execution\n\u001b[1;32m   1150\u001b[0m adapter_cls \u001b[39m=\u001b[39m select_data_adapter(x, y)\n\u001b[0;32m-> 1151\u001b[0m \u001b[39mself\u001b[39m\u001b[39m.\u001b[39m_adapter \u001b[39m=\u001b[39m adapter_cls(\n\u001b[1;32m   1152\u001b[0m     x,\n\u001b[1;32m   1153\u001b[0m     y,\n\u001b[1;32m   1154\u001b[0m     batch_size\u001b[39m=\u001b[39;49mbatch_size,\n\u001b[1;32m   1155\u001b[0m     steps\u001b[39m=\u001b[39;49msteps_per_epoch,\n\u001b[1;32m   1156\u001b[0m     epochs\u001b[39m=\u001b[39;49mepochs \u001b[39m-\u001b[39;49m initial_epoch,\n\u001b[1;32m   1157\u001b[0m     sample_weights\u001b[39m=\u001b[39;49msample_weight,\n\u001b[1;32m   1158\u001b[0m     shuffle\u001b[39m=\u001b[39;49mshuffle,\n\u001b[1;32m   1159\u001b[0m     max_queue_size\u001b[39m=\u001b[39;49mmax_queue_size,\n\u001b[1;32m   1160\u001b[0m     workers\u001b[39m=\u001b[39;49mworkers,\n\u001b[1;32m   1161\u001b[0m     use_multiprocessing\u001b[39m=\u001b[39;49muse_multiprocessing,\n\u001b[1;32m   1162\u001b[0m     distribution_strategy\u001b[39m=\u001b[39;49mtf\u001b[39m.\u001b[39;49mdistribute\u001b[39m.\u001b[39;49mget_strategy(),\n\u001b[1;32m   1163\u001b[0m     model\u001b[39m=\u001b[39;49mmodel)\n\u001b[1;32m   1165\u001b[0m strategy \u001b[39m=\u001b[39m tf\u001b[39m.\u001b[39mdistribute\u001b[39m.\u001b[39mget_strategy()\n\u001b[1;32m   1167\u001b[0m \u001b[39mself\u001b[39m\u001b[39m.\u001b[39m_current_step \u001b[39m=\u001b[39m \u001b[39m0\u001b[39m\n",
      "File \u001b[0;32m~/opt/anaconda3/envs/ko_grammer_checker/lib/python3.8/site-packages/keras/engine/data_adapter.py:664\u001b[0m, in \u001b[0;36mListsOfScalarsDataAdapter.__init__\u001b[0;34m(self, x, y, sample_weights, sample_weight_modes, batch_size, shuffle, **kwargs)\u001b[0m\n\u001b[1;32m    660\u001b[0m   sample_weights \u001b[39m=\u001b[39m np\u001b[39m.\u001b[39masarray(sample_weights)\n\u001b[1;32m    661\u001b[0m sample_weight_modes \u001b[39m=\u001b[39m broadcast_sample_weight_modes(\n\u001b[1;32m    662\u001b[0m     sample_weights, sample_weight_modes)\n\u001b[0;32m--> 664\u001b[0m \u001b[39mself\u001b[39m\u001b[39m.\u001b[39m_internal_adapter \u001b[39m=\u001b[39m TensorLikeDataAdapter(\n\u001b[1;32m    665\u001b[0m     x,\n\u001b[1;32m    666\u001b[0m     y\u001b[39m=\u001b[39;49my,\n\u001b[1;32m    667\u001b[0m     sample_weights\u001b[39m=\u001b[39;49msample_weights,\n\u001b[1;32m    668\u001b[0m     sample_weight_modes\u001b[39m=\u001b[39;49msample_weight_modes,\n\u001b[1;32m    669\u001b[0m     batch_size\u001b[39m=\u001b[39;49mbatch_size,\n\u001b[1;32m    670\u001b[0m     shuffle\u001b[39m=\u001b[39;49mshuffle,\n\u001b[1;32m    671\u001b[0m     \u001b[39m*\u001b[39;49m\u001b[39m*\u001b[39;49mkwargs)\n",
      "File \u001b[0;32m~/opt/anaconda3/envs/ko_grammer_checker/lib/python3.8/site-packages/keras/engine/data_adapter.py:236\u001b[0m, in \u001b[0;36mTensorLikeDataAdapter.__init__\u001b[0;34m(self, x, y, sample_weights, sample_weight_modes, batch_size, epochs, steps, shuffle, **kwargs)\u001b[0m\n\u001b[1;32m    225\u001b[0m \u001b[39mdef\u001b[39;00m \u001b[39m__init__\u001b[39m(\u001b[39mself\u001b[39m,\n\u001b[1;32m    226\u001b[0m              x,\n\u001b[1;32m    227\u001b[0m              y\u001b[39m=\u001b[39m\u001b[39mNone\u001b[39;00m,\n\u001b[0;32m   (...)\u001b[0m\n\u001b[1;32m    233\u001b[0m              shuffle\u001b[39m=\u001b[39m\u001b[39mFalse\u001b[39;00m,\n\u001b[1;32m    234\u001b[0m              \u001b[39m*\u001b[39m\u001b[39m*\u001b[39mkwargs):\n\u001b[1;32m    235\u001b[0m   \u001b[39msuper\u001b[39m(TensorLikeDataAdapter, \u001b[39mself\u001b[39m)\u001b[39m.\u001b[39m\u001b[39m__init__\u001b[39m(x, y, \u001b[39m*\u001b[39m\u001b[39m*\u001b[39mkwargs)\n\u001b[0;32m--> 236\u001b[0m   x, y, sample_weights \u001b[39m=\u001b[39m _process_tensorlike((x, y, sample_weights))\n\u001b[1;32m    237\u001b[0m   sample_weight_modes \u001b[39m=\u001b[39m broadcast_sample_weight_modes(\n\u001b[1;32m    238\u001b[0m       sample_weights, sample_weight_modes)\n\u001b[1;32m    240\u001b[0m   \u001b[39m# If sample_weights are not specified for an output use 1.0 as weights.\u001b[39;00m\n",
      "File \u001b[0;32m~/opt/anaconda3/envs/ko_grammer_checker/lib/python3.8/site-packages/keras/engine/data_adapter.py:1044\u001b[0m, in \u001b[0;36m_process_tensorlike\u001b[0;34m(inputs)\u001b[0m\n\u001b[1;32m   1041\u001b[0m     \u001b[39mreturn\u001b[39;00m _scipy_sparse_to_sparse_tensor(x)\n\u001b[1;32m   1042\u001b[0m   \u001b[39mreturn\u001b[39;00m x\n\u001b[0;32m-> 1044\u001b[0m inputs \u001b[39m=\u001b[39m tf\u001b[39m.\u001b[39;49mnest\u001b[39m.\u001b[39;49mmap_structure(_convert_single_tensor, inputs)\n\u001b[1;32m   1045\u001b[0m \u001b[39mreturn\u001b[39;00m tf\u001b[39m.\u001b[39m__internal__\u001b[39m.\u001b[39mnest\u001b[39m.\u001b[39mlist_to_tuple(inputs)\n",
      "File \u001b[0;32m~/opt/anaconda3/envs/ko_grammer_checker/lib/python3.8/site-packages/tensorflow/python/util/nest.py:916\u001b[0m, in \u001b[0;36mmap_structure\u001b[0;34m(func, *structure, **kwargs)\u001b[0m\n\u001b[1;32m    912\u001b[0m flat_structure \u001b[39m=\u001b[39m (flatten(s, expand_composites) \u001b[39mfor\u001b[39;00m s \u001b[39min\u001b[39;00m structure)\n\u001b[1;32m    913\u001b[0m entries \u001b[39m=\u001b[39m \u001b[39mzip\u001b[39m(\u001b[39m*\u001b[39mflat_structure)\n\u001b[1;32m    915\u001b[0m \u001b[39mreturn\u001b[39;00m pack_sequence_as(\n\u001b[0;32m--> 916\u001b[0m     structure[\u001b[39m0\u001b[39m], [func(\u001b[39m*\u001b[39mx) \u001b[39mfor\u001b[39;00m x \u001b[39min\u001b[39;00m entries],\n\u001b[1;32m    917\u001b[0m     expand_composites\u001b[39m=\u001b[39mexpand_composites)\n",
      "File \u001b[0;32m~/opt/anaconda3/envs/ko_grammer_checker/lib/python3.8/site-packages/tensorflow/python/util/nest.py:916\u001b[0m, in \u001b[0;36m<listcomp>\u001b[0;34m(.0)\u001b[0m\n\u001b[1;32m    912\u001b[0m flat_structure \u001b[39m=\u001b[39m (flatten(s, expand_composites) \u001b[39mfor\u001b[39;00m s \u001b[39min\u001b[39;00m structure)\n\u001b[1;32m    913\u001b[0m entries \u001b[39m=\u001b[39m \u001b[39mzip\u001b[39m(\u001b[39m*\u001b[39mflat_structure)\n\u001b[1;32m    915\u001b[0m \u001b[39mreturn\u001b[39;00m pack_sequence_as(\n\u001b[0;32m--> 916\u001b[0m     structure[\u001b[39m0\u001b[39m], [func(\u001b[39m*\u001b[39;49mx) \u001b[39mfor\u001b[39;00m x \u001b[39min\u001b[39;00m entries],\n\u001b[1;32m    917\u001b[0m     expand_composites\u001b[39m=\u001b[39mexpand_composites)\n",
      "File \u001b[0;32m~/opt/anaconda3/envs/ko_grammer_checker/lib/python3.8/site-packages/keras/engine/data_adapter.py:1039\u001b[0m, in \u001b[0;36m_process_tensorlike.<locals>._convert_single_tensor\u001b[0;34m(x)\u001b[0m\n\u001b[1;32m   1037\u001b[0m   \u001b[39mif\u001b[39;00m \u001b[39missubclass\u001b[39m(x\u001b[39m.\u001b[39mdtype\u001b[39m.\u001b[39mtype, np\u001b[39m.\u001b[39mfloating):\n\u001b[1;32m   1038\u001b[0m     dtype \u001b[39m=\u001b[39m backend\u001b[39m.\u001b[39mfloatx()\n\u001b[0;32m-> 1039\u001b[0m   \u001b[39mreturn\u001b[39;00m tf\u001b[39m.\u001b[39;49mconvert_to_tensor(x, dtype\u001b[39m=\u001b[39;49mdtype)\n\u001b[1;32m   1040\u001b[0m \u001b[39melif\u001b[39;00m _is_scipy_sparse(x):\n\u001b[1;32m   1041\u001b[0m   \u001b[39mreturn\u001b[39;00m _scipy_sparse_to_sparse_tensor(x)\n",
      "File \u001b[0;32m~/opt/anaconda3/envs/ko_grammer_checker/lib/python3.8/site-packages/tensorflow/python/util/traceback_utils.py:153\u001b[0m, in \u001b[0;36mfilter_traceback.<locals>.error_handler\u001b[0;34m(*args, **kwargs)\u001b[0m\n\u001b[1;32m    151\u001b[0m \u001b[39mexcept\u001b[39;00m \u001b[39mException\u001b[39;00m \u001b[39mas\u001b[39;00m e:\n\u001b[1;32m    152\u001b[0m   filtered_tb \u001b[39m=\u001b[39m _process_traceback_frames(e\u001b[39m.\u001b[39m__traceback__)\n\u001b[0;32m--> 153\u001b[0m   \u001b[39mraise\u001b[39;00m e\u001b[39m.\u001b[39mwith_traceback(filtered_tb) \u001b[39mfrom\u001b[39;00m \u001b[39mNone\u001b[39m\n\u001b[1;32m    154\u001b[0m \u001b[39mfinally\u001b[39;00m:\n\u001b[1;32m    155\u001b[0m   \u001b[39mdel\u001b[39;00m filtered_tb\n",
      "File \u001b[0;32m~/opt/anaconda3/envs/ko_grammer_checker/lib/python3.8/site-packages/tensorflow/python/framework/constant_op.py:102\u001b[0m, in \u001b[0;36mconvert_to_eager_tensor\u001b[0;34m(value, ctx, dtype)\u001b[0m\n\u001b[1;32m    100\u001b[0m     dtype \u001b[39m=\u001b[39m dtypes\u001b[39m.\u001b[39mas_dtype(dtype)\u001b[39m.\u001b[39mas_datatype_enum\n\u001b[1;32m    101\u001b[0m ctx\u001b[39m.\u001b[39mensure_initialized()\n\u001b[0;32m--> 102\u001b[0m \u001b[39mreturn\u001b[39;00m ops\u001b[39m.\u001b[39;49mEagerTensor(value, ctx\u001b[39m.\u001b[39;49mdevice_name, dtype)\n",
      "\u001b[0;31mValueError\u001b[0m: Failed to convert a NumPy array to a Tensor (Unsupported object type list)."
     ]
    }
   ],
   "source": [
    "test = Vectorizing(src, tgt, vocab_size=10000, max_length=70)"
   ]
  },
  {
   "cell_type": "code",
   "execution_count": 69,
   "metadata": {},
   "outputs": [],
   "source": [
    "def Embedding(vocab_size, embed_dim, hidden_dim):\n",
    "    inputs = keras.Input(shape=(1,), name='input_data', dtype=tf.string)\n",
    "    token_emb = layers.Embedding(vocab_size, embed_dim)(inputs)\n",
    "    maxlen = tf.shape(inputs)[-1]\n",
    "    positions = tf.range(start=0, limit=maxlen, delta=1)\n",
    "    positions = layers.Embedding(vocab_size, embed_dim)(positions)\n",
    "    result = token_emb + positions\n",
    "    return tf.keras.Model(inputs=input_raw_text, outputs=result)"
   ]
  },
  {
   "cell_type": "code",
   "execution_count": 62,
   "metadata": {},
   "outputs": [
    {
     "ename": "TypeError",
     "evalue": "Inputs to a layer should be tensors. Got: <START>그런데도 왜 아힉도 수영모를 쓰고 계신지 궁금해요.<END><PAD><PAD><PAD><PAD><PAD><PAD><PAD><PAD><PAD><PAD><PAD><PAD><PAD><PAD><PAD><PAD><PAD><PAD><PAD><PAD><PAD><PAD><PAD><PAD><PAD><PAD><PAD><PAD><PAD><PAD><PAD><PAD><PAD><PAD><PAD><PAD><PAD><PAD><PAD><PAD><PAD><PAD>",
     "output_type": "error",
     "traceback": [
      "\u001b[0;31m---------------------------------------------------------------------------\u001b[0m",
      "\u001b[0;31mTypeError\u001b[0m                                 Traceback (most recent call last)",
      "\u001b[1;32m/Users/hoyoung/Desktop/pycharm_work/korean_grammar_corrector/bin/keras_model_v2/textvectorization.ipynb 셀 12\u001b[0m in \u001b[0;36m<cell line: 1>\u001b[0;34m()\u001b[0m\n\u001b[0;32m----> <a href='vscode-notebook-cell:/Users/hoyoung/Desktop/pycharm_work/korean_grammar_corrector/bin/keras_model_v2/textvectorization.ipynb#X11sZmlsZQ%3D%3D?line=0'>1</a>\u001b[0m Embedding(\u001b[39m2000\u001b[39;49m, \u001b[39m16\u001b[39;49m, \u001b[39m32\u001b[39;49m, \u001b[39m70\u001b[39;49m)(src[\u001b[39m0\u001b[39;49m])\n",
      "File \u001b[0;32m~/opt/anaconda3/envs/ko_grammer_checker/lib/python3.8/site-packages/keras/utils/traceback_utils.py:67\u001b[0m, in \u001b[0;36mfilter_traceback.<locals>.error_handler\u001b[0;34m(*args, **kwargs)\u001b[0m\n\u001b[1;32m     65\u001b[0m \u001b[39mexcept\u001b[39;00m \u001b[39mException\u001b[39;00m \u001b[39mas\u001b[39;00m e:  \u001b[39m# pylint: disable=broad-except\u001b[39;00m\n\u001b[1;32m     66\u001b[0m   filtered_tb \u001b[39m=\u001b[39m _process_traceback_frames(e\u001b[39m.\u001b[39m__traceback__)\n\u001b[0;32m---> 67\u001b[0m   \u001b[39mraise\u001b[39;00m e\u001b[39m.\u001b[39mwith_traceback(filtered_tb) \u001b[39mfrom\u001b[39;00m \u001b[39mNone\u001b[39m\n\u001b[1;32m     68\u001b[0m \u001b[39mfinally\u001b[39;00m:\n\u001b[1;32m     69\u001b[0m   \u001b[39mdel\u001b[39;00m filtered_tb\n",
      "File \u001b[0;32m~/opt/anaconda3/envs/ko_grammer_checker/lib/python3.8/site-packages/keras/engine/input_spec.py:197\u001b[0m, in \u001b[0;36massert_input_compatibility\u001b[0;34m(input_spec, inputs, layer_name)\u001b[0m\n\u001b[1;32m    191\u001b[0m \u001b[39mfor\u001b[39;00m x \u001b[39min\u001b[39;00m inputs:\n\u001b[1;32m    192\u001b[0m   \u001b[39m# Having a shape/dtype is the only commonality of the various tensor-like\u001b[39;00m\n\u001b[1;32m    193\u001b[0m   \u001b[39m# objects that may be passed. The most common kind of invalid type we are\u001b[39;00m\n\u001b[1;32m    194\u001b[0m   \u001b[39m# guarding for is a Layer instance (Functional API), which does not\u001b[39;00m\n\u001b[1;32m    195\u001b[0m   \u001b[39m# have a `shape` attribute.\u001b[39;00m\n\u001b[1;32m    196\u001b[0m   \u001b[39mif\u001b[39;00m \u001b[39mnot\u001b[39;00m \u001b[39mhasattr\u001b[39m(x, \u001b[39m'\u001b[39m\u001b[39mshape\u001b[39m\u001b[39m'\u001b[39m):\n\u001b[0;32m--> 197\u001b[0m     \u001b[39mraise\u001b[39;00m \u001b[39mTypeError\u001b[39;00m(\u001b[39mf\u001b[39m\u001b[39m'\u001b[39m\u001b[39mInputs to a layer should be tensors. Got: \u001b[39m\u001b[39m{\u001b[39;00mx\u001b[39m}\u001b[39;00m\u001b[39m'\u001b[39m)\n\u001b[1;32m    199\u001b[0m \u001b[39mif\u001b[39;00m \u001b[39mlen\u001b[39m(inputs) \u001b[39m!=\u001b[39m \u001b[39mlen\u001b[39m(input_spec):\n\u001b[1;32m    200\u001b[0m   \u001b[39mraise\u001b[39;00m \u001b[39mValueError\u001b[39;00m(\u001b[39mf\u001b[39m\u001b[39m'\u001b[39m\u001b[39mLayer \u001b[39m\u001b[39m\"\u001b[39m\u001b[39m{\u001b[39;00mlayer_name\u001b[39m}\u001b[39;00m\u001b[39m\"\u001b[39m\u001b[39m expects \u001b[39m\u001b[39m{\u001b[39;00m\u001b[39mlen\u001b[39m(input_spec)\u001b[39m}\u001b[39;00m\u001b[39m input(s),\u001b[39m\u001b[39m'\u001b[39m\n\u001b[1;32m    201\u001b[0m                    \u001b[39mf\u001b[39m\u001b[39m'\u001b[39m\u001b[39m but it received \u001b[39m\u001b[39m{\u001b[39;00m\u001b[39mlen\u001b[39m(inputs)\u001b[39m}\u001b[39;00m\u001b[39m input tensors. \u001b[39m\u001b[39m'\u001b[39m\n\u001b[1;32m    202\u001b[0m                    \u001b[39mf\u001b[39m\u001b[39m'\u001b[39m\u001b[39mInputs received: \u001b[39m\u001b[39m{\u001b[39;00minputs\u001b[39m}\u001b[39;00m\u001b[39m'\u001b[39m)\n",
      "\u001b[0;31mTypeError\u001b[0m: Inputs to a layer should be tensors. Got: <START>그런데도 왜 아힉도 수영모를 쓰고 계신지 궁금해요.<END><PAD><PAD><PAD><PAD><PAD><PAD><PAD><PAD><PAD><PAD><PAD><PAD><PAD><PAD><PAD><PAD><PAD><PAD><PAD><PAD><PAD><PAD><PAD><PAD><PAD><PAD><PAD><PAD><PAD><PAD><PAD><PAD><PAD><PAD><PAD><PAD><PAD><PAD><PAD><PAD><PAD><PAD>"
     ]
    }
   ],
   "source": [
    "Embedding(2000, 16, 32, 70)"
   ]
  },
  {
   "cell_type": "code",
   "execution_count": 39,
   "metadata": {},
   "outputs": [],
   "source": [
    "def Encoder(embed_dim, hidden_dim, num_heads, name='encoder_layer'):\n",
    "    encoder_inputs = keras.Input(shape=(None, embed_dim), name=\"inputs\")\n",
    "    # 패딩마스크\n",
    "    # padding_mask = tf.keras.Input(shape=(1, 1, None), name=\"padding_mask\")\n",
    "\n",
    "    attention = MultiHeadAttention(head_num=num_heads, activation='relu'\n",
    "    , history_only=True,trainable=True)(encoder_inputs)\n",
    "    attention = layers.Dropout(0.1)(attention)\n",
    "    attention = layers.Normalization()(encoder_inputs + attention)\n",
    "\n",
    "    outputs = layers.Dense(hidden_dim, activation='relu')(attention)\n",
    "    outputs = layers.Dense(embed_dim)(outputs)\n",
    "\n",
    "    outputs = layers.Dropout(0.1)(outputs)\n",
    "    outputs = layers.Normalization()(attention + outputs)\n",
    "\n",
    "    return keras.Model(\n",
    "        inputs = encoder_inputs,\n",
    "        outputs = outputs,\n",
    "        name = name\n",
    "    )"
   ]
  },
  {
   "cell_type": "code",
   "execution_count": 40,
   "metadata": {},
   "outputs": [],
   "source": [
    "def Decoder(embed_dim, hidden_dim, num_heads, name='decoder_layer'):\n",
    "    decoder_inputs = keras.Input(shape=(None, embed_dim), name=\"inputs\")\n",
    "    encoder_outputs = keras.Input(shape=(None, embed_dim), name=\"encoder_outputs\")\n",
    "\n",
    "    attention1 =  MultiHeadAttention(head_num=num_heads, activation='relu'\n",
    "    , history_only=True,trainable=True)(decoder_inputs)\n",
    "    attention1 = layers.Normalization()(decoder_inputs + attention1)\n",
    "\n",
    "    attention2 = MultiHeadAttention(name='multyhead-attention', head_num=num_heads, activation='relu'\n",
    "    , history_only=True,trainable=True)([decoder_inputs, encoder_outputs, encoder_outputs])\n",
    "\n",
    "    attention2 = layers.Dropout(0.1)(attention2)\n",
    "    attention2 = layers.Normalization()(attention1 + attention2)\n",
    "\n",
    "    outputs = layers.Dense(hidden_dim, activation='relu')(attention2)\n",
    "    outputs = layers.Dense(embed_dim)(outputs)\n",
    "\n",
    "    outputs = layers.Dropout(0.1)(outputs)\n",
    "    outputs = layers.Normalization()(attention2 + outputs)\n",
    "\n",
    "    return keras.Model(\n",
    "        inputs = [decoder_inputs, encoder_outputs],\n",
    "        outputs = outputs,\n",
    "        name=name\n",
    "    )\n",
    "\n",
    "\n"
   ]
  },
  {
   "cell_type": "code",
   "execution_count": 41,
   "metadata": {},
   "outputs": [],
   "source": [
    "def get_encoders(vocab_size, max_length, num_layers, embed_dim, hidden_dim, num_heads, dropout):\n",
    "    inputs = keras.Input(shape=(None,), name=\"inputs\")\n",
    "\n",
    "    embedding = Embedding(vocab_size, embed_dim, hidden_dim, max_length)(inputs)\n",
    "    outputs = layers.Dropout(dropout)(embedding)\n",
    "\n",
    "    for i in range(num_layers):\n",
    "        outputs = Encoder(embed_dim, hidden_dim, num_heads, name = f'encoder_layer_{i+1}')(outputs)\n",
    "    \n",
    "\n",
    "    return keras.Model(\n",
    "        inputs=inputs,\n",
    "        outputs = outputs\n",
    "    )\n"
   ]
  },
  {
   "cell_type": "code",
   "execution_count": 42,
   "metadata": {},
   "outputs": [],
   "source": [
    "def get_decoders(vocab_size, max_length, num_layers, embed_dim, hidden_dim, num_heads, dropout):\n",
    "    inputs = keras.Input(shape=(None,), name=\"inputs\")\n",
    "    encoder_outputs = keras.Input(shape=(None, embed_dim), name=\"encoder_outputs\")\n",
    "\n",
    "    embedding = Embedding(vocab_size, embed_dim, hidden_dim, max_length)(inputs)\n",
    "    outputs = layers.Dropout(dropout)(embedding)\n",
    "\n",
    "    for i in range(num_layers):\n",
    "        outputs = Decoder(embed_dim, hidden_dim, num_heads, name=f'decoder_layer_{i+1}')([outputs, encoder_outputs])\n",
    "    \n",
    "    return keras.Model(\n",
    "        inputs=[inputs, encoder_outputs],\n",
    "        outputs = outputs\n",
    "    )"
   ]
  },
  {
   "cell_type": "code",
   "execution_count": 43,
   "metadata": {},
   "outputs": [],
   "source": [
    "def get_transformer(vocab_size, embed_dim, hidden_dim, encoder_num, decoder_num, num_heads, dropout, max_length, name='transformer'):\n",
    "    inputs = keras.Input(shape=(None,), name=\"inputs\")\n",
    "    decoder_inputs = keras.Input(shape=(None,), name=\"decoder_inputs\")\n",
    "\n",
    "    encoder_outputs = get_encoders(vocab_size, max_length, encoder_num, embed_dim, hidden_dim, num_heads, dropout)(inputs)\n",
    "\n",
    "    decoder_outputs = get_decoders(vocab_size, max_length, decoder_num, embed_dim, hidden_dim, num_heads, dropout)([inputs, encoder_outputs])\n",
    "\n",
    "    outputs = layers.Dense(vocab_size, name='outputs')(decoder_outputs)\n",
    "\n",
    "    return keras.Model(inputs = [inputs, decoder_inputs], outputs=outputs, name=name)"
   ]
  },
  {
   "attachments": {},
   "cell_type": "markdown",
   "metadata": {},
   "source": []
  },
  {
   "cell_type": "code",
   "execution_count": 44,
   "metadata": {},
   "outputs": [],
   "source": [
    "test_model = get_transformer(vocab_size=8000,\n",
    "embed_dim=128,\n",
    "hidden_dim=256,\n",
    "encoder_num=4,\n",
    "decoder_num=4,\n",
    "num_heads=4,\n",
    "dropout=0.1,\n",
    "max_length=35)"
   ]
  },
  {
   "cell_type": "code",
   "execution_count": 46,
   "metadata": {},
   "outputs": [],
   "source": [
    "test_model.compile(\n",
    "    optimizer='adam',\n",
    "    loss='sparse_categorical_crossentropy',)"
   ]
  },
  {
   "cell_type": "code",
   "execution_count": 47,
   "metadata": {},
   "outputs": [
    {
     "name": "stdout",
     "output_type": "stream",
     "text": [
      "Model: \"transformer\"\n",
      "__________________________________________________________________________________________________\n",
      " Layer (type)                   Output Shape         Param #     Connected to                     \n",
      "==================================================================================================\n",
      " inputs (InputLayer)            [(None, None)]       0           []                               \n",
      "                                                                                                  \n",
      " model_9 (Functional)           (None, 36, 128)      2577928     ['inputs[0][0]']                 \n",
      "                                                                                                  \n",
      " model_11 (Functional)          (None, 36, 128)      2843148     ['inputs[0][0]',                 \n",
      "                                                                  'model_9[0][0]']                \n",
      "                                                                                                  \n",
      " decoder_inputs (InputLayer)    [(None, None)]       0           []                               \n",
      "                                                                                                  \n",
      " outputs (Dense)                (None, 36, 8000)     1032000     ['model_11[0][0]']               \n",
      "                                                                                                  \n",
      "==================================================================================================\n",
      "Total params: 6,453,076\n",
      "Trainable params: 6,447,936\n",
      "Non-trainable params: 5,140\n",
      "__________________________________________________________________________________________________\n"
     ]
    }
   ],
   "source": [
    "test_model.summary()"
   ]
  },
  {
   "cell_type": "code",
   "execution_count": null,
   "metadata": {},
   "outputs": [],
   "source": []
  },
  {
   "cell_type": "code",
   "execution_count": null,
   "metadata": {},
   "outputs": [],
   "source": []
  },
  {
   "cell_type": "code",
   "execution_count": null,
   "metadata": {},
   "outputs": [],
   "source": []
  }
 ],
 "metadata": {
  "kernelspec": {
   "display_name": "Python 3.8.13 ('ko_grammer_checker')",
   "language": "python",
   "name": "python3"
  },
  "language_info": {
   "codemirror_mode": {
    "name": "ipython",
    "version": 3
   },
   "file_extension": ".py",
   "mimetype": "text/x-python",
   "name": "python",
   "nbconvert_exporter": "python",
   "pygments_lexer": "ipython3",
   "version": "3.8.13"
  },
  "orig_nbformat": 4,
  "vscode": {
   "interpreter": {
    "hash": "a836cf7ca6b519c98c7fd6811d6f732b6df88dee37c990b7a838f21f96c41064"
   }
  }
 },
 "nbformat": 4,
 "nbformat_minor": 2
}
