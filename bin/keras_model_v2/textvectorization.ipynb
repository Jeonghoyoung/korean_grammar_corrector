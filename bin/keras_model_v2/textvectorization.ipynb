{
 "cells": [
  {
   "cell_type": "code",
   "execution_count": 1,
   "metadata": {},
   "outputs": [],
   "source": [
    "import re\n",
    "import pandas as pd\n",
    "import matplotlib.pyplot as plt\n",
    "from sklearn.model_selection import train_test_split\n",
    "\n",
    "import tensorflow as tf\n",
    "from tensorflow import keras\n",
    "from tensorflow.keras import layers\n",
    "from tensorflow.keras.layers.experimental.preprocessing import TextVectorization\n",
    "\n",
    "from tqdm import tqdm\n",
    "\n",
    "# keras_transformer Module\n",
    "from keras_layer_normalization import LayerNormalization\n",
    "from keras_multi_head import MultiHeadAttention\n",
    "from keras_pos_embd import TrigPosEmbedding\n",
    "from keras_embed_sim import EmbeddingRet, EmbeddingSim\n"
   ]
  },
  {
   "attachments": {},
   "cell_type": "markdown",
   "metadata": {},
   "source": [
    "## 구조\n",
    "1. text vectorize\n",
    "    - sentence -> sequence of number\n",
    "\n",
    "2. Embedding\n",
    "    - token embedding & positional embedding\n",
    "        - token embedding -> 단어 index 를 지정된 크기의 벡터로 맵핑\n",
    "\n",
    "        - positional embedding -> 각 단어의 위치 값에 대한 embedding\n",
    "\n",
    "\n",
    "3. Encoding Layer\n",
    "\n",
    "\n",
    "4. Decoding Layer\n",
    "\n",
    "\n",
    "\n",
    "** pip install keras_transformer\n",
    "        "
   ]
  },
  {
   "cell_type": "code",
   "execution_count": 2,
   "metadata": {},
   "outputs": [
    {
     "name": "stderr",
     "output_type": "stream",
     "text": [
      "/var/folders/71/zzhz1j712c90w725hts969l00000gn/T/ipykernel_1794/2368892654.py:1: FutureWarning: The error_bad_lines argument has been deprecated and will be removed in a future version. Use on_bad_lines in the future.\n",
      "\n",
      "\n",
      "  df = pd.read_csv('../../data/train/korean_corpus_train_20221201.shuf.csv', error_bad_lines=False, names=['src', 'tgt'])\n",
      "b'Skipping line 768178: expected 2 fields, saw 3\\n'\n"
     ]
    }
   ],
   "source": [
    "df = pd.read_csv('../../data/train/korean_corpus_train_20221201.shuf.csv', error_bad_lines=False, names=['src', 'tgt'])"
   ]
  },
  {
   "cell_type": "code",
   "execution_count": 3,
   "metadata": {},
   "outputs": [
    {
     "data": {
      "text/html": [
       "<div>\n",
       "<style scoped>\n",
       "    .dataframe tbody tr th:only-of-type {\n",
       "        vertical-align: middle;\n",
       "    }\n",
       "\n",
       "    .dataframe tbody tr th {\n",
       "        vertical-align: top;\n",
       "    }\n",
       "\n",
       "    .dataframe thead th {\n",
       "        text-align: right;\n",
       "    }\n",
       "</style>\n",
       "<table border=\"1\" class=\"dataframe\">\n",
       "  <thead>\n",
       "    <tr style=\"text-align: right;\">\n",
       "      <th></th>\n",
       "      <th>src</th>\n",
       "      <th>tgt</th>\n",
       "    </tr>\n",
       "  </thead>\n",
       "  <tbody>\n",
       "    <tr>\n",
       "      <th>0</th>\n",
       "      <td>그런데도 왜 아힉도 수영모를 쓰고 계신지 궁금해요.</td>\n",
       "      <td>그런데도 왜 아직도 수영모를 쓰고 계신지 궁금해요.</td>\n",
       "    </tr>\n",
       "    <tr>\n",
       "      <th>1</th>\n",
       "      <td>이에 따랇 이동제한 등 봉쇄조치는 이달 말까지 연장된다.</td>\n",
       "      <td>이에 따라 이동제한 등 봉쇄조치는 이달 말까지 연장된다.</td>\n",
       "    </tr>\n",
       "    <tr>\n",
       "      <th>2</th>\n",
       "      <td>이러한 교류와 접초근 도시의 개방도와 국쩨화 정도를 로펴준다는 저메서 크 늬미를 가...</td>\n",
       "      <td>이러한 교류와 접촉은 도시의 개방도와 국제화 정도를 높여준다는 점에서 큰 의미를 가...</td>\n",
       "    </tr>\n",
       "    <tr>\n",
       "      <th>3</th>\n",
       "      <td>저희는 사고가 발생한 것을 증몽하는 영상이나 파일을 보내드릴 숬 있습니다.</td>\n",
       "      <td>저희는 사고가 발생한 것을 증명하는 영상이나 파일을 보내드릴 수 있습니다.</td>\n",
       "    </tr>\n",
       "    <tr>\n",
       "      <th>4</th>\n",
       "      <td>이 세이버는 펴늬성과 스타일 미 텩씬적 층며네서 궁극쩌긴 시스테므로 디자인되얻씀니다.</td>\n",
       "      <td>이 세이버는 편의성과 스타일 및 혁신적 측면에서 궁극적인 시스템으로 디자인되었습니다.</td>\n",
       "    </tr>\n",
       "  </tbody>\n",
       "</table>\n",
       "</div>"
      ],
      "text/plain": [
       "                                                 src  \\\n",
       "0                       그런데도 왜 아힉도 수영모를 쓰고 계신지 궁금해요.   \n",
       "1                    이에 따랇 이동제한 등 봉쇄조치는 이달 말까지 연장된다.   \n",
       "2  이러한 교류와 접초근 도시의 개방도와 국쩨화 정도를 로펴준다는 저메서 크 늬미를 가...   \n",
       "3          저희는 사고가 발생한 것을 증몽하는 영상이나 파일을 보내드릴 숬 있습니다.   \n",
       "4    이 세이버는 펴늬성과 스타일 미 텩씬적 층며네서 궁극쩌긴 시스테므로 디자인되얻씀니다.   \n",
       "\n",
       "                                                 tgt  \n",
       "0                       그런데도 왜 아직도 수영모를 쓰고 계신지 궁금해요.  \n",
       "1                    이에 따라 이동제한 등 봉쇄조치는 이달 말까지 연장된다.  \n",
       "2  이러한 교류와 접촉은 도시의 개방도와 국제화 정도를 높여준다는 점에서 큰 의미를 가...  \n",
       "3          저희는 사고가 발생한 것을 증명하는 영상이나 파일을 보내드릴 수 있습니다.  \n",
       "4    이 세이버는 편의성과 스타일 및 혁신적 측면에서 궁극적인 시스템으로 디자인되었습니다.  "
      ]
     },
     "execution_count": 3,
     "metadata": {},
     "output_type": "execute_result"
    }
   ],
   "source": [
    "df.head()"
   ]
  },
  {
   "cell_type": "code",
   "execution_count": 4,
   "metadata": {},
   "outputs": [
    {
     "name": "stderr",
     "output_type": "stream",
     "text": [
      "1619999it [01:13, 21925.02it/s]"
     ]
    },
    {
     "name": "stdout",
     "output_type": "stream",
     "text": [
      "문장당 평균 어절 길이 : 10.371815044330274\n"
     ]
    },
    {
     "name": "stderr",
     "output_type": "stream",
     "text": [
      "\n"
     ]
    }
   ],
   "source": [
    "sentence_length = 0\n",
    "\n",
    "for i, row in tqdm(df.iterrows()):\n",
    "    s = row['tgt']\n",
    "    sentence_length += len(s.split()) # 어절 개수 합산\n",
    "print(f'문장당 평균 어절 길이 : {sentence_length / len(df)}')"
   ]
  },
  {
   "cell_type": "code",
   "execution_count": 5,
   "metadata": {},
   "outputs": [
    {
     "data": {
      "image/png": "[encoded data removed]",
      "text/plain": [
       "<Figure size 640x480 with 1 Axes>"
      ]
     },
     "metadata": {},
     "output_type": "display_data"
    }
   ],
   "source": [
    "plt.hist([len(row['tgt'].split()) for i , row in df.iterrows()], bins=30)\n",
    "plt.show()"
   ]
  },
  {
   "cell_type": "code",
   "execution_count": 6,
   "metadata": {},
   "outputs": [
    {
     "data": {
      "text/plain": [
       "1619999"
      ]
     },
     "execution_count": 6,
     "metadata": {},
     "output_type": "execute_result"
    }
   ],
   "source": [
    "len(df)"
   ]
  },
  {
   "cell_type": "code",
   "execution_count": 23,
   "metadata": {},
   "outputs": [],
   "source": [
    "def text_preprocess(text):\n",
    "    text = '[START] ' + text + ' [END]'\n",
    "    return text\n",
    "# src = df['src'].apply(lambda x: text_preprocess(x))\n",
    "# tgt = df['tgt'].apply(lambda x: text_preprocess(x))\n",
    "\n",
    "src = df['src'].tolist()\n",
    "tgt = df['tgt'].tolist()"
   ]
  },
  {
   "cell_type": "code",
   "execution_count": 24,
   "metadata": {},
   "outputs": [],
   "source": [
    "test_vec = df['src'][:5]"
   ]
  },
  {
   "cell_type": "code",
   "execution_count": 26,
   "metadata": {},
   "outputs": [],
   "source": [
    "t = TextVectorization(standardize=text_preprocess, max_tokens=10)\n",
    "t.adapt(test_vec)"
   ]
  },
  {
   "cell_type": "code",
   "execution_count": 28,
   "metadata": {},
   "outputs": [
    {
     "data": {
      "text/plain": [
       "<tf.Tensor: shape=(5, 25), dtype=int64, numpy=\n",
       "array([[2, 1, 1, 1, 1, 3, 0, 0, 0, 0, 0, 0, 0, 0, 0, 0, 0, 0, 0, 0, 0, 0,\n",
       "        0, 0, 0],\n",
       "       [2, 1, 1, 1, 1, 1, 3, 0, 0, 0, 0, 0, 0, 0, 0, 0, 0, 0, 0, 0, 0, 0,\n",
       "        0, 0, 0],\n",
       "       [2, 1, 1, 1, 1, 1, 1, 1, 1, 1, 1, 1, 1, 1, 1, 1, 1, 1, 1, 1, 1, 1,\n",
       "        1, 1, 3],\n",
       "       [2, 1, 1, 3, 0, 0, 0, 0, 0, 0, 0, 0, 0, 0, 0, 0, 0, 0, 0, 0, 0, 0,\n",
       "        0, 0, 0],\n",
       "       [2, 1, 1, 1, 1, 1, 1, 1, 1, 1, 1, 1, 1, 1, 1, 1, 1, 1, 3, 0, 0, 0,\n",
       "        0, 0, 0]])>"
      ]
     },
     "execution_count": 28,
     "metadata": {},
     "output_type": "execute_result"
    }
   ],
   "source": [
    "t2 = t(df['src'][5:10])\n",
    "t2"
   ]
  },
  {
   "cell_type": "code",
   "execution_count": 8,
   "metadata": {},
   "outputs": [],
   "source": []
  },
  {
   "cell_type": "code",
   "execution_count": 9,
   "metadata": {},
   "outputs": [
    {
     "data": {
      "text/plain": [
       "0                 [START] 그런데도 왜 아직도 수영모를 쓰고 계신지 궁금해요. [END]\n",
       "1              [START] 이에 따라 이동제한 등 봉쇄조치는 이달 말까지 연장된다. [END]\n",
       "2          [START] 이러한 교류와 접촉은 도시의 개방도와 국제화 정도를 높여준다는 점에서...\n",
       "3          [START] 저희는 사고가 발생한 것을 증명하는 영상이나 파일을 보내드릴 수 있습...\n",
       "4          [START] 이 세이버는 편의성과 스타일 및 혁신적 측면에서 궁극적인 시스템으로 ...\n",
       "                                 ...                        \n",
       "1619994                [START] 손끝에서 편안한 사용간을 주는 그립입니다. [END]\n",
       "1619995    [START] 앞으로 무슨 일이 일어날지 안내받지 못했던 콕스는 공연 중 \"일어나서...\n",
       "1619996             [START] 응, 그리고 그들 인생의 남자에게는 더욱 그래. [END]\n",
       "1619997    [START] 뛰어난 내구성을 가지고 안전 테스트를 거친 소재로 제작되어 비행 중에...\n",
       "1619998    [START] 초기 개척이 완성되어 삶이 안정화된 후에는 새로 이주하는 조선인들의 ...\n",
       "Name: tgt, Length: 1619999, dtype: object"
      ]
     },
     "execution_count": 9,
     "metadata": {},
     "output_type": "execute_result"
    }
   ],
   "source": [
    "# vocab에 0번째에 START, -1 번째에 END 추가 "
   ]
  },
  {
   "attachments": {},
   "cell_type": "markdown",
   "metadata": {},
   "source": [
    "### Model"
   ]
  },
  {
   "cell_type": "code",
   "execution_count": 87,
   "metadata": {},
   "outputs": [],
   "source": [
    "def Vectorizing(inputs, outputs, vocab_size, max_length):\n",
    "    data= inputs + outputs\n",
    "    data = [i for d in data for i in d.split()]\n",
    "    dataset = tf.data.Dataset.from_tensor_slices(data)\n",
    "\n",
    "    text_vectorization = TextVectorization(\n",
    "        max_tokens = vocab_size -1,\n",
    "        output_mode = 'int',\n",
    "        output_sequence_length = max_length + 1\n",
    "    )\n",
    "    text_vectorization.adapt(dataset)\n",
    "\n",
    "    model = keras.models.Sequential()\n",
    "    model.add(keras.Input(shape=(1,), dtype=tf.string))\n",
    "    model.add(text_vectorization)\n",
    "\n",
    "    src_encode = model.predict(inputs)\n",
    "    tgt_encode = model.predict(outputs)\n",
    "\n",
    "    vocabulary = text_vectorization.get_vocabulary()\n",
    "    vocabulary.insert(0, '[START]')\n",
    "    vocabulary.insert(len(vocabulary), '[END]')\n",
    "\n",
    "    vocab_dict = {}\n",
    "    for i, k in enumerate(vocabulary):\n",
    "        vocab_dict[k] = i\n",
    "   \n",
    "    return src_encode, tgt_encode, text_vectorization, vocab_dict\n",
    "    \n"
   ]
  },
  {
   "cell_type": "code",
   "execution_count": 94,
   "metadata": {},
   "outputs": [],
   "source": [
    "def create_train_dataset(inputs, outputs, batch_size = 64, buffer_size=1024):\n",
    "    '''\n",
    "    :param inputs: Source data :list\n",
    "    :param outputs: Target data :list\n",
    "    :param batch_size: batch_size\n",
    "    :param buffer_size: 고정된 버퍼 크기로 데이터를 섞는데, 데이터가 완전히 랜덤적으로 뒤섞기 위해서는 입력된 데이터 크기보다 큰 수를 입력해 주셔야 한다.\n",
    "    :return:\n",
    "    '''\n",
    "    dataset = tf.data.Dataset.from_tensor_slices((\n",
    "        {\n",
    "            'inputs': inputs,\n",
    "            'decoder_inputs': outputs[:, :-1]\n",
    "        },\n",
    "        {\n",
    "            'outputs': outputs[:, 1:]\n",
    "        },\n",
    "    ))\n",
    "\n",
    "    dataset = dataset.cache() # cache를 활용해서 데이터를 로드할 때 빠른 처리를 기대해 봄\n",
    "    dataset = dataset.shuffle(buffer_size) # buffer_size를 전체 데이터 수보다 크게하여 완전하게 섞음\n",
    "    dataset = dataset.batch(batch_size)\n",
    "    dataset = dataset.prefetch(tf.data.experimental.AUTOTUNE)\n",
    "    return dataset"
   ]
  },
  {
   "cell_type": "code",
   "execution_count": 95,
   "metadata": {},
   "outputs": [
    {
     "name": "stdout",
     "output_type": "stream",
     "text": [
      "1/1 [==============================] - 0s 69ms/step\n",
      "1/1 [==============================] - 0s 31ms/step\n"
     ]
    },
    {
     "data": {
      "text/plain": [
       "array([[ 60,  31,  97,  40,  38,  64,  61,   0,   0,   0,   0,   0,   0,\n",
       "          0,   0,   0,   0,   0,   0,   0,   0,   0,   0,   0,   0,   0,\n",
       "          0,   0,   0,   0,   0,   0,   0,   0,   0,   0,   0,   0,   0,\n",
       "          0,   0,   0,   0,   0,   0,   0,   0,   0,   0,   0,   0,   0,\n",
       "          0,   0,   0,   0,   0,   0,   0,   0,   0,   0,   0,   0,   0,\n",
       "          0,   0,   0,   0,   0,   0],\n",
       "       [  5, 104,  26,   6,  49,  27,  57,  33,   0,   0,   0,   0,   0,\n",
       "          0,   0,   0,   0,   0,   0,   0,   0,   0,   0,   0,   0,   0,\n",
       "          0,   0,   0,   0,   0,   0,   0,   0,   0,   0,   0,   0,   0,\n",
       "          0,   0,   0,   0,   0,   0,   0,   0,   0,   0,   0,   0,   0,\n",
       "          0,   0,   0,   0,   0,   0,   0,   0,   0,   0,   0,   0,   0,\n",
       "          0,   0,   0,   0,   0,   0],\n",
       "       [ 25,  62,  89,  58,  66, 111,  21, 103,  91,  78, 107,   7,  93,\n",
       "          0,   0,   0,   0,   0,   0,   0,   0,   0,   0,   0,   0,   0,\n",
       "          0,   0,   0,   0,   0,   0,   0,   0,   0,   0,   0,   0,   0,\n",
       "          0,   0,   0,   0,   0,   0,   0,   0,   0,   0,   0,   0,   0,\n",
       "          0,   0,   0,   0,   0,   0,   0,   0,   0,   0,   0,   0,   0,\n",
       "          0,   0,   0,   0,   0,   0],\n",
       "       [ 23,  46,  54,  65,  82,  32,  18,  51, 101,   9,   0,   0,   0,\n",
       "          0,   0,   0,   0,   0,   0,   0,   0,   0,   0,   0,   0,   0,\n",
       "          0,   0,   0,   0,   0,   0,   0,   0,   0,   0,   0,   0,   0,\n",
       "          0,   0,   0,   0,   0,   0,   0,   0,   0,   0,   0,   0,   0,\n",
       "          0,   0,   0,   0,   0,   0,   0,   0,   0,   0,   0,   0,   0,\n",
       "          0,   0,   0,   0,   0,   0],\n",
       "       [ 28,  43,  73,  39, 102,  76,  79, 109, 100, 106,   0,   0,   0,\n",
       "          0,   0,   0,   0,   0,   0,   0,   0,   0,   0,   0,   0,   0,\n",
       "          0,   0,   0,   0,   0,   0,   0,   0,   0,   0,   0,   0,   0,\n",
       "          0,   0,   0,   0,   0,   0,   0,   0,   0,   0,   0,   0,   0,\n",
       "          0,   0,   0,   0,   0,   0,   0,   0,   0,   0,   0,   0,   0,\n",
       "          0,   0,   0,   0,   0,   0],\n",
       "       [  3,  75,  35,  17,   0,   0,   0,   0,   0,   0,   0,   0,   0,\n",
       "          0,   0,   0,   0,   0,   0,   0,   0,   0,   0,   0,   0,   0,\n",
       "          0,   0,   0,   0,   0,   0,   0,   0,   0,   0,   0,   0,   0,\n",
       "          0,   0,   0,   0,   0,   0,   0,   0,   0,   0,   0,   0,   0,\n",
       "          0,   0,   0,   0,   0,   0,   0,   0,   0,   0,   0,   0,   0,\n",
       "          0,   0,   0,   0,   0,   0],\n",
       "       [ 36,  30,  71,   7,  92,   0,   0,   0,   0,   0,   0,   0,   0,\n",
       "          0,   0,   0,   0,   0,   0,   0,   0,   0,   0,   0,   0,   0,\n",
       "          0,   0,   0,   0,   0,   0,   0,   0,   0,   0,   0,   0,   0,\n",
       "          0,   0,   0,   0,   0,   0,   0,   0,   0,   0,   0,   0,   0,\n",
       "          0,   0,   0,   0,   0,   0,   0,   0,   0,   0,   0,   0,   0,\n",
       "          0,   0,   0,   0,   0,   0],\n",
       "       [ 47,  84,   5,  13,  45,  52,  56,  48,  55,  34,  67,  15,   6,\n",
       "         37,  19,  59,   3,  14,  50,  63,  22,  24,  53,   0,   0,   0,\n",
       "          0,   0,   0,   0,   0,   0,   0,   0,   0,   0,   0,   0,   0,\n",
       "          0,   0,   0,   0,   0,   0,   0,   0,   0,   0,   0,   0,   0,\n",
       "          0,   0,   0,   0,   0,   0,   0,   0,   0,   0,   0,   0,   0,\n",
       "          0,   0,   0,   0,   0,   0],\n",
       "       [ 68,  86,   0,   0,   0,   0,   0,   0,   0,   0,   0,   0,   0,\n",
       "          0,   0,   0,   0,   0,   0,   0,   0,   0,   0,   0,   0,   0,\n",
       "          0,   0,   0,   0,   0,   0,   0,   0,   0,   0,   0,   0,   0,\n",
       "          0,   0,   0,   0,   0,   0,   0,   0,   0,   0,   0,   0,   0,\n",
       "          0,   0,   0,   0,   0,   0,   0,   0,   0,   0,   0,   0,   0,\n",
       "          0,   0,   0,   0,   0,   0],\n",
       "       [ 44,   2,  20,   2,  81,  95,   4,  29,  12,   2,   8,  42,   4,\n",
       "         41,  16,  11,  10,   0,   0,   0,   0,   0,   0,   0,   0,   0,\n",
       "          0,   0,   0,   0,   0,   0,   0,   0,   0,   0,   0,   0,   0,\n",
       "          0,   0,   0,   0,   0,   0,   0,   0,   0,   0,   0,   0,   0,\n",
       "          0,   0,   0,   0,   0,   0,   0,   0,   0,   0,   0,   0,   0,\n",
       "          0,   0,   0,   0,   0,   0]])"
      ]
     },
     "execution_count": 95,
     "metadata": {},
     "output_type": "execute_result"
    }
   ],
   "source": [
    "i, o, t, v = Vectorizing(src[:10], tgt[:10], 2000, 70)\n",
    "i\n"
   ]
  },
  {
   "cell_type": "code",
   "execution_count": 96,
   "metadata": {},
   "outputs": [
    {
     "data": {
      "text/plain": [
       "<PrefetchDataset element_spec=({'inputs': TensorSpec(shape=(None, 71), dtype=tf.int64, name=None), 'decoder_inputs': TensorSpec(shape=(None, 70), dtype=tf.int64, name=None)}, {'outputs': TensorSpec(shape=(None, 70), dtype=tf.int64, name=None)})>"
      ]
     },
     "execution_count": 96,
     "metadata": {},
     "output_type": "execute_result"
    }
   ],
   "source": [
    "a = create_train_dataset(i,o, 2, 11)\n",
    "a"
   ]
  },
  {
   "cell_type": "code",
   "execution_count": 65,
   "metadata": {},
   "outputs": [],
   "source": [
    "def Embedding_layer(vocab_size, embed_dim, hidden_dim):\n",
    "    inputs = keras.Input(shape=(None, embed_dim), name=\"inputs\")\n",
    "    token_emb = layers.Embedding(vocab_size, embed_dim)(inputs)\n",
    "    maxlen = tf.shape(inputs)[-1]\n",
    "    positions = tf.range(start=0, limit=maxlen, delta=1)\n",
    "    positions = layers.Embedding(vocab_size, embed_dim)(positions)\n",
    "    result = token_emb + positions\n",
    "    return tf.keras.Model(inputs=inputs, outputs=result)"
   ]
  },
  {
   "cell_type": "code",
   "execution_count": 66,
   "metadata": {},
   "outputs": [],
   "source": [
    "def Encoder(embed_dim, hidden_dim, num_heads, name='encoder_layer'):\n",
    "    encoder_inputs = keras.Input(shape=(None, embed_dim), name=\"inputs\")\n",
    "    # 패딩마스크\n",
    "    # padding_mask = tf.keras.Input(shape=(1, 1, None), name=\"padding_mask\")\n",
    "\n",
    "    attention = MultiHeadAttention(head_num=num_heads, activation='relu'\n",
    "    , history_only=True,trainable=True)(encoder_inputs)\n",
    "    attention = layers.Dropout(0.1)(attention)\n",
    "    attention = layers.Normalization()(encoder_inputs + attention)\n",
    "\n",
    "    outputs = layers.Dense(hidden_dim, activation='relu')(attention)\n",
    "    outputs = layers.Dense(embed_dim)(outputs)\n",
    "\n",
    "    outputs = layers.Dropout(0.1)(outputs)\n",
    "    outputs = layers.Normalization()(attention + outputs)\n",
    "\n",
    "    return keras.Model(\n",
    "        inputs = encoder_inputs,\n",
    "        outputs = outputs,\n",
    "        name = name\n",
    "    )"
   ]
  },
  {
   "cell_type": "code",
   "execution_count": 67,
   "metadata": {},
   "outputs": [],
   "source": [
    "def Decoder(embed_dim, hidden_dim, num_heads, name='decoder_layer'):\n",
    "    decoder_inputs = keras.Input(shape=(None, embed_dim), name=\"inputs\")\n",
    "    encoder_outputs = keras.Input(shape=(None, embed_dim), name=\"encoder_outputs\")\n",
    "\n",
    "    attention1 =  MultiHeadAttention(head_num=num_heads, activation='relu'\n",
    "    , history_only=True,trainable=True)(decoder_inputs)\n",
    "    attention1 = layers.Normalization()(decoder_inputs + attention1)\n",
    "\n",
    "    attention2 = MultiHeadAttention(name='multyhead-attention', head_num=num_heads, activation='relu'\n",
    "    , history_only=True,trainable=True)([decoder_inputs, encoder_outputs, encoder_outputs])\n",
    "\n",
    "    attention2 = layers.Dropout(0.1)(attention2)\n",
    "    attention2 = layers.Normalization()(attention1 + attention2)\n",
    "\n",
    "    outputs = layers.Dense(hidden_dim, activation='relu')(attention2)\n",
    "    outputs = layers.Dense(embed_dim)(outputs)\n",
    "\n",
    "    outputs = layers.Dropout(0.1)(outputs)\n",
    "    outputs = layers.Normalization()(attention2 + outputs)\n",
    "\n",
    "    return keras.Model(\n",
    "        inputs = [decoder_inputs, encoder_outputs],\n",
    "        outputs = outputs,\n",
    "        name=name\n",
    "    )\n",
    "\n",
    "\n"
   ]
  },
  {
   "cell_type": "code",
   "execution_count": 72,
   "metadata": {},
   "outputs": [],
   "source": [
    "def get_encoders(vocab_size, num_layers, embed_dim, hidden_dim, num_heads, dropout):\n",
    "    inputs = keras.Input(shape=(None,), name=\"inputs\")\n",
    "\n",
    "    embedding = Embedding_layer(vocab_size, embed_dim, hidden_dim)(inputs)\n",
    "    outputs = layers.Dropout(dropout)(embedding)\n",
    "\n",
    "    for i in range(num_layers):\n",
    "        outputs = Encoder(embed_dim, hidden_dim, num_heads, name = f'encoder_layer_{i+1}')(outputs)\n",
    "    \n",
    "\n",
    "    return keras.Model(\n",
    "        inputs=inputs,\n",
    "        outputs = outputs\n",
    "    )\n"
   ]
  },
  {
   "cell_type": "code",
   "execution_count": 73,
   "metadata": {},
   "outputs": [],
   "source": [
    "def get_decoders(vocab_size, num_layers, embed_dim, hidden_dim, num_heads, dropout):\n",
    "    inputs = keras.Input(shape=(None,), name=\"inputs\")\n",
    "    encoder_outputs = keras.Input(shape=(None, embed_dim), name=\"encoder_outputs\")\n",
    "\n",
    "    embedding = Embedding_layer(vocab_size, embed_dim, hidden_dim)(inputs)\n",
    "    outputs = layers.Dropout(dropout)(embedding)\n",
    "\n",
    "    for i in range(num_layers):\n",
    "        outputs = Decoder(embed_dim, hidden_dim, num_heads, name=f'decoder_layer_{i+1}')([outputs, encoder_outputs])\n",
    "    \n",
    "    return keras.Model(\n",
    "        inputs=[inputs, encoder_outputs],\n",
    "        outputs = outputs\n",
    "    )"
   ]
  },
  {
   "cell_type": "code",
   "execution_count": 102,
   "metadata": {},
   "outputs": [],
   "source": [
    "def get_transformer(vocab_size, embed_dim, hidden_dim, encoder_num, decoder_num, num_heads, dropout, name='transformer'):\n",
    "    inputs = keras.Input(shape=(None,), name=\"inputs\")\n",
    "    decoder_inputs = keras.Input(shape=(None,), name=\"decoder_inputs\")\n",
    "\n",
    "    encoder_outputs = get_encoders(vocab_size,encoder_num, embed_dim, hidden_dim, num_heads, dropout)(inputs)\n",
    "\n",
    "    decoder_outputs = get_decoders(vocab_size, decoder_num, embed_dim, hidden_dim, num_heads, dropout)([decoder_inputs, encoder_outputs])\n",
    "\n",
    "    outputs = layers.Dense(vocab_size, name='outputs')(decoder_outputs)\n",
    "\n",
    "    return keras.Model(inputs = [inputs, decoder_inputs], outputs=outputs, name=name)"
   ]
  },
  {
   "cell_type": "code",
   "execution_count": 103,
   "metadata": {},
   "outputs": [
    {
     "name": "stdout",
     "output_type": "stream",
     "text": [
      "WARNING:tensorflow:Model was constructed with shape (None, None, 128) for input KerasTensor(type_spec=TensorSpec(shape=(None, None, 128), dtype=tf.float32, name='inputs'), name='inputs', description=\"created by layer 'inputs'\"), but it was called on an input with incompatible shape (None, None).\n",
      "WARNING:tensorflow:Model was constructed with shape (None, None, 128) for input KerasTensor(type_spec=TensorSpec(shape=(None, None, 128), dtype=tf.float32, name='inputs'), name='inputs', description=\"created by layer 'inputs'\"), but it was called on an input with incompatible shape (None, None).\n",
      "WARNING:tensorflow:Model was constructed with shape (None, None, 128) for input KerasTensor(type_spec=TensorSpec(shape=(None, None, 128), dtype=tf.float32, name='inputs'), name='inputs', description=\"created by layer 'inputs'\"), but it was called on an input with incompatible shape (None, None).\n",
      "WARNING:tensorflow:Model was constructed with shape (None, None, 128) for input KerasTensor(type_spec=TensorSpec(shape=(None, None, 128), dtype=tf.float32, name='inputs'), name='inputs', description=\"created by layer 'inputs'\"), but it was called on an input with incompatible shape (None, None).\n"
     ]
    }
   ],
   "source": [
    "test_model = get_transformer(vocab_size=8000,\n",
    "embed_dim=128,\n",
    "hidden_dim=256,\n",
    "encoder_num=4,\n",
    "decoder_num=4,\n",
    "num_heads=4,\n",
    "dropout=0.1)"
   ]
  },
  {
   "cell_type": "code",
   "execution_count": 105,
   "metadata": {},
   "outputs": [],
   "source": [
    "test_model.compile(\n",
    "    optimizer='adam',\n",
    "    loss='sparse_categorical_crossentropy',)"
   ]
  },
  {
   "cell_type": "code",
   "execution_count": 106,
   "metadata": {},
   "outputs": [
    {
     "name": "stdout",
     "output_type": "stream",
     "text": [
      "Model: \"transformer\"\n",
      "__________________________________________________________________________________________________\n",
      " Layer (type)                   Output Shape         Param #     Connected to                     \n",
      "==================================================================================================\n",
      " inputs (InputLayer)            [(None, None)]       0           []                               \n",
      "                                                                                                  \n",
      " decoder_inputs (InputLayer)    [(None, None)]       0           []                               \n",
      "                                                                                                  \n",
      " model_9 (Functional)           (None, None, 128)    2577928     ['inputs[0][0]']                 \n",
      "                                                                                                  \n",
      " model_11 (Functional)          (None, None, 128)    2843148     ['decoder_inputs[0][0]',         \n",
      "                                                                  'model_9[0][0]']                \n",
      "                                                                                                  \n",
      " outputs (Dense)                (None, None, 8000)   1032000     ['model_11[0][0]']               \n",
      "                                                                                                  \n",
      "==================================================================================================\n",
      "Total params: 6,453,076\n",
      "Trainable params: 6,447,936\n",
      "Non-trainable params: 5,140\n",
      "__________________________________________________________________________________________________\n"
     ]
    }
   ],
   "source": [
    "test_model.summary()"
   ]
  },
  {
   "cell_type": "code",
   "execution_count": 107,
   "metadata": {},
   "outputs": [
    {
     "data": {
      "image/png": "[encoded data removed]",
      "text/plain": [
       "<IPython.core.display.Image object>"
      ]
     },
     "execution_count": 107,
     "metadata": {},
     "output_type": "execute_result"
    }
   ],
   "source": [
    "keras.utils.plot_model(test_model, show_shapes=True)"
   ]
  },
  {
   "cell_type": "code",
   "execution_count": 108,
   "metadata": {},
   "outputs": [
    {
     "name": "stdout",
     "output_type": "stream",
     "text": [
      "WARNING:tensorflow:Model was constructed with shape (None, None, 128) for input KerasTensor(type_spec=TensorSpec(shape=(None, None, 128), dtype=tf.float32, name='inputs'), name='inputs', description=\"created by layer 'inputs'\"), but it was called on an input with incompatible shape (None, 71).\n",
      "WARNING:tensorflow:Model was constructed with shape (None, None, 128) for input KerasTensor(type_spec=TensorSpec(shape=(None, None, 128), dtype=tf.float32, name='inputs'), name='inputs', description=\"created by layer 'inputs'\"), but it was called on an input with incompatible shape (None, 70).\n",
      "WARNING:tensorflow:Model was constructed with shape (None, None, 128) for input KerasTensor(type_spec=TensorSpec(shape=(None, None, 128), dtype=tf.float32, name='inputs'), name='inputs', description=\"created by layer 'inputs'\"), but it was called on an input with incompatible shape (None, 71).\n",
      "WARNING:tensorflow:Model was constructed with shape (None, None, 128) for input KerasTensor(type_spec=TensorSpec(shape=(None, None, 128), dtype=tf.float32, name='inputs'), name='inputs', description=\"created by layer 'inputs'\"), but it was called on an input with incompatible shape (None, 70).\n",
      "5/5 [==============================] - 13s 103ms/step - loss: 9.6835\n"
     ]
    },
    {
     "data": {
      "text/plain": [
       "<keras.callbacks.History at 0x7ff5eebd9df0>"
      ]
     },
     "execution_count": 108,
     "metadata": {},
     "output_type": "execute_result"
    }
   ],
   "source": [
    "test_model.fit(a, epochs=1)"
   ]
  },
  {
   "attachments": {},
   "cell_type": "markdown",
   "metadata": {},
   "source": [
    "#### Predict 구현"
   ]
  },
  {
   "cell_type": "code",
   "execution_count": null,
   "metadata": {},
   "outputs": [],
   "source": []
  }
 ],
 "metadata": {
  "kernelspec": {
   "display_name": "Python 3.8.13 ('ko_grammer_checker')",
   "language": "python",
   "name": "python3"
  },
  "language_info": {
   "codemirror_mode": {
    "name": "ipython",
    "version": 3
   },
   "file_extension": ".py",
   "mimetype": "text/x-python",
   "name": "python",
   "nbconvert_exporter": "python",
   "pygments_lexer": "ipython3",
   "version": "3.8.13"
  },
  "orig_nbformat": 4,
  "vscode": {
   "interpreter": {
    "hash": "a836cf7ca6b519c98c7fd6811d6f732b6df88dee37c990b7a838f21f96c41064"
   }
  }
 },
 "nbformat": 4,
 "nbformat_minor": 2
}
