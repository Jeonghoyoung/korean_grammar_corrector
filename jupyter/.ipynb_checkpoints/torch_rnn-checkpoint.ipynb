{
 "cells": [
  {
   "cell_type": "code",
   "execution_count": 6,
   "id": "68637265",
   "metadata": {},
   "outputs": [],
   "source": [
    "import torch.nn as nn\n",
    "import pandas as pd"
   ]
  },
  {
   "cell_type": "code",
   "execution_count": 4,
   "id": "b39038f4",
   "metadata": {},
   "outputs": [],
   "source": [
    "path = '../data/sample'"
   ]
  },
  {
   "cell_type": "code",
   "execution_count": 5,
   "id": "0a0e9019",
   "metadata": {},
   "outputs": [],
   "source": [
    "df = pd.read_csv(f'{path}/korean_correct_train_data_100000.csv')"
   ]
  },
  {
   "cell_type": "code",
   "execution_count": null,
   "id": "6d45dd45",
   "metadata": {},
   "outputs": [],
   "source": [
    "class RNNModel(nn.Module):\n",
    "    def __init__(\n",
    "    self,\n",
    "    input_size,\n",
    "    word_vec_size,\n",
    "    hidden_size,\n",
    "    n_layers=4,\n",
    "    dropout_p = .3):\n",
    "    \n",
    "    self.input_size = input_size\n",
    "    self.word_vec_size = word_vec_size\n",
    "    self.hidden_size = hidden_size\n",
    "    self.n_layers = n_layers\n",
    "    self.dropout_p = dropout_p\n",
    "    \n",
    "    super().__init__()\n",
    "    \n",
    "    self.emb = nn.Embedding(input_size, word_vec_size)\n",
    "    self.rnn = nn.LSTM(\n",
    "    input_size = word_vec_size,\n",
    "    hidden_size = hidden_size,\n",
    "    num_layers=n_layers,\n",
    "    dropout = dropout_p,\n",
    "    batch_first = True,\n",
    "    bidirectional = True)\n",
    "    \n",
    "    self.generator = nn.Linear(hidden_size * 2, )"
   ]
  }
 ],
 "metadata": {
  "kernelspec": {
   "display_name": "torch_repair",
   "language": "python",
   "name": "korean_repair_torch"
  },
  "language_info": {
   "codemirror_mode": {
    "name": "ipython",
    "version": 3
   },
   "file_extension": ".py",
   "mimetype": "text/x-python",
   "name": "python",
   "nbconvert_exporter": "python",
   "pygments_lexer": "ipython3",
   "version": "3.7.13"
  }
 },
 "nbformat": 4,
 "nbformat_minor": 5
}
