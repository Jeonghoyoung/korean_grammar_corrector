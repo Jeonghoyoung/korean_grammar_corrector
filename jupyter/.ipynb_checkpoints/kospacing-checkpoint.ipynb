{
 "cells": [
  {
   "cell_type": "code",
   "execution_count": 1,
   "id": "7d42b070",
   "metadata": {},
   "outputs": [],
   "source": [
    "def makeCorpus(s):\n",
    "    status= []\n",
    "    \n",
    "    char = s.replace(' ', '')\n",
    "    nchar = len(char)\n",
    "    \n",
    "    for i in range(len(s)):\n",
    "        if s[i] != \" \":\n",
    "            if i + 1 < len(s):\n",
    "                if s[i+1] == \" \":\n",
    "                    status.append(1)\n",
    "                else:\n",
    "                    status.append(0)\n",
    "            else:\n",
    "                status.append(1)\n",
    "    return (status, char, nchar)"
   ]
  },
  {
   "cell_type": "code",
   "execution_count": null,
   "id": "7ee6ac1c",
   "metadata": {},
   "outputs": [],
   "source": []
  }
 ],
 "metadata": {
  "kernelspec": {
   "display_name": "grammar-Correcter",
   "language": "python",
   "name": "kogrammer_checker"
  },
  "language_info": {
   "codemirror_mode": {
    "name": "ipython",
    "version": 3
   },
   "file_extension": ".py",
   "mimetype": "text/x-python",
   "name": "python",
   "nbconvert_exporter": "python",
   "pygments_lexer": "ipython3",
   "version": "3.8.13"
  }
 },
 "nbformat": 4,
 "nbformat_minor": 5
}
