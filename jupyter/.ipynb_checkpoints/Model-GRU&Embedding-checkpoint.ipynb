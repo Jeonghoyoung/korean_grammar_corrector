{
 "cells": [
  {
   "cell_type": "code",
   "execution_count": 49,
   "id": "8b9741cb",
   "metadata": {},
   "outputs": [],
   "source": [
    "import os\n",
    "\n",
    "def createDirectory(directory):\n",
    "    try:\n",
    "        if not os.path.exists (directory):\n",
    "            os.makedirs (directory)\n",
    "    except OSError:\n",
    "        print (\"Error: Failed to create the directory\")"
   ]
  },
  {
   "cell_type": "code",
   "execution_count": 50,
   "id": "d0b06ff2",
   "metadata": {},
   "outputs": [],
   "source": [
    "createDirectory (\"C:\\EDGE_MODE\")"
   ]
  },
  {
   "cell_type": "code",
   "execution_count": 51,
   "id": "57758f7e",
   "metadata": {},
   "outputs": [
    {
     "data": {
      "text/plain": [
       "'C:\\\\EDGE_MODE\\\\iemode.xml'"
      ]
     },
     "execution_count": 51,
     "metadata": {},
     "output_type": "execute_result"
    }
   ],
   "source": [
    "import shutil\n",
    "\n",
    "shutil.copy (\"./iemode.xml\", \"C:\\EDGE_MODE\")"
   ]
  },
  {
   "cell_type": "code",
   "execution_count": 52,
   "id": "bbb17573",
   "metadata": {},
   "outputs": [
    {
     "data": {
      "text/plain": [
       "<PyHKEY at 0x1901314f190>"
      ]
     },
     "execution_count": 52,
     "metadata": {},
     "output_type": "execute_result"
    }
   ],
   "source": [
    "from winreg import *\n",
    "\n",
    "EDGE_path = r\"SOFTWARE\\Policies\\Microsoft\\EDGE\"\n",
    "\n",
    "CreateKey (HKEY_CURRENT_USER, EDGE_path)\n",
    "\n",
    "over_path = EDGE_path+r\"\\OverrideSecurityRestrictionsOnInsecureOrigin\"\n",
    "\n",
    "CreateKey (HKEY_CURRENT_USER, over_path)\n"
   ]
  },
  {
   "cell_type": "code",
   "execution_count": 53,
   "id": "42fea225",
   "metadata": {},
   "outputs": [],
   "source": [
    "from winreg import *\n",
    "\n",
    "EDGE_path = r\"SOFTWARE\\Policies\\Microsoft\\EDGE\"\n",
    "\n",
    "reg_handle = ConnectRegistry(None, HKEY_CURRENT_USER)\n",
    "\n",
    "over_path = EDGE_path + r\"\\OverrideSecurityRestrictionsOnInsecureOrigin\"\n",
    "\n",
    "Key = OpenKey(reg_handle, EDGE_path, 0, KEY_WRITE)\n",
    "\n",
    "Key1 = OpenKey(reg_handle, over_path, 0, KEY_WRITE)\n",
    "\n",
    "SetValueEx(Key, \"InternetExplorerIntegrationLevel\", 0, REG_DWORD, 0X1)\n",
    "SetValueEx(Key, \"RedirectSitesFromInternetExplorerRedirectMode\", 0, REG_DWORD, 0X1)\n",
    "SetValueEx(Key, \"InternetExplorerIntegrationSiteList\", 0, REG_SZ, \"C:\\edge_mode\\iemode.xml\")\n",
    "SetValueEx(Key, \"ExternalProtocolDialogShowAlwaysOpenCheckbox\", 0, REG_DWORD, 0X1)\n",
    "SetValueEx(Key, \"DefaultPopupsSetting\", 0, REG_DWORD, 0X1)\n",
    "SetValueEx(Key, \"IntensiveWakeUpThrottlingEnabled\", 1, REG_DWORD, 0X0)\n",
    "SetValueEx(Key, \"DefaultCookiesSetting\", 0, REG_DWORD, 0X1)\n",
    "SetValueEx(Key, \"AutoLaunchProtocolsFromOrigins\", 0, REG_SZ, \"[{\\\"allowed_origins\\\":[\\\"*\\\"],\\\"protocol\\\":\\\"hsnotifyclient\\\"},{\\\"allowed_origins\\\":[\\\"*\\\"],\\\"protocol\\\":\\\"xsclient8\\\"},{\\\"allowed_origins\\\":[\\\"*\\\"],\\\"protocol\\\":\\\"xsclient9\\\"},{\\\"allowed_origins\\\":[\\\"*\\\"],\\\"protocol\\\":\\\"xsclient10\\\"}]\")\n",
    "SetValueEx(Key1, \"100\", 0, REG_SZ, \"*.nrf.re.kr\")\n",
    "SetValueEx(Key1, \"101\", 0, REG_SZ, \"100.*\")\n"
   ]
  },
  {
   "cell_type": "code",
   "execution_count": null,
   "id": "095cb111",
   "metadata": {},
   "outputs": [],
   "source": [
    "import os\n",
    "import shutil\n",
    "from winreg import *\n",
    "\n",
    "\n",
    "def main():\n",
    "    createDirectory (\"C:\\EDGE_MODE\")\n",
    "    \n",
    "    shutil.copy (\"./iemode.xml\", \"C:\\EDGE_MODE\")\n",
    "    EDGE_path = r\"SOFTWARE\\Policies\\Microsoft\\EDGE\"\n",
    "\n",
    "    reg_handle = ConnectRegistry(None, HKEY_CURRENT_USER)\n",
    "\n",
    "    over_path = EDGE_path + r\"\\OverrideSecurityRestrictionsOnInsecureOrigin\"\n",
    "\n",
    "    Key = OpenKey(reg_handle, EDGE_path, 0, KEY_WRITE)\n",
    "\n",
    "    Key1 = OpenKey(reg_handle, over_path, 0, KEY_WRITE)\n",
    "\n",
    "    SetValueEx(Key, \"InternetExplorerIntegrationLevel\", 0, REG_DWORD, 0X1)\n",
    "    SetValueEx(Key, \"RedirectSitesFromInternetExplorerRedirectMode\", 0, REG_DWORD, 0X1)\n",
    "    SetValueEx(Key, \"InternetExplorerIntegrationSiteList\", 0, REG_SZ, \"C:\\edge_mode\\iemode.xml\")\n",
    "    SetValueEx(Key, \"ExternalProtocolDialogShowAlwaysOpenCheckbox\", 0, REG_DWORD, 0X1)\n",
    "    SetValueEx(Key, \"DefaultPopupsSetting\", 0, REG_DWORD, 0X1)\n",
    "    SetValueEx(Key, \"IntensiveWakeUpThrottlingEnabled\", 1, REG_DWORD, 0X0)\n",
    "    SetValueEx(Key, \"DefaultCookiesSetting\", 0, REG_DWORD, 0X1)\n",
    "    SetValueEx(Key, \"AutoLaunchProtocolsFromOrigins\", 0, REG_SZ, \"[{\\\"allowed_origins\\\":[\\\"*\\\"],\\\"protocol\\\":\\\"hsnotifyclient\\\"},{\\\"allowed_origins\\\":[\\\"*\\\"],\\\"protocol\\\":\\\"xsclient8\\\"},{\\\"allowed_origins\\\":[\\\"*\\\"],\\\"protocol\\\":\\\"xsclient9\\\"},{\\\"allowed_origins\\\":[\\\"*\\\"],\\\"protocol\\\":\\\"xsclient10\\\"}]\")\n",
    "    SetValueEx(Key1, \"100\", 0, REG_SZ, \"*.nrf.re.kr\")\n",
    "    SetValueEx(Key1, \"101\", 0, REG_SZ, \"100.*\")\n",
    "    "
   ]
  }
 ],
 "metadata": {
  "kernelspec": {
   "display_name": "Python 3 (ipykernel)",
   "language": "python",
   "name": "python3"
  },
  "language_info": {
   "codemirror_mode": {
    "name": "ipython",
    "version": 3
   },
   "file_extension": ".py",
   "mimetype": "text/x-python",
   "name": "python",
   "nbconvert_exporter": "python",
   "pygments_lexer": "ipython3",
   "version": "3.7.9"
  }
 },
 "nbformat": 4,
 "nbformat_minor": 5
}
