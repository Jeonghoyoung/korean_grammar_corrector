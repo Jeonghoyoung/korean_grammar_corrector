{
 "cells": [
  {
   "cell_type": "markdown",
   "id": "66b3a086",
   "metadata": {},
   "source": [
    "### 시퀀스 모델링\n",
    "\n",
    "- 순차적으로 입력을 넣고, 입력에 따라 모델의 은닉 상태가 순차적으로 변하며 상태에 따라 출력 결과가 순차적으로 반환되는 함수\n",
    "- 이러한 시간 개념 또는 순서 정보를 사용하여 입력을 학습하는 것을 시퀀셜 모델링이라 한다."
   ]
  },
  {
   "cell_type": "code",
   "execution_count": null,
   "id": "83a0d4c3",
   "metadata": {},
   "outputs": [],
   "source": []
  }
 ],
 "metadata": {
  "kernelspec": {
   "display_name": "Python [conda env:korean_repair_torch]",
   "language": "python",
   "name": "conda-env-korean_repair_torch-py"
  },
  "language_info": {
   "codemirror_mode": {
    "name": "ipython",
    "version": 3
   },
   "file_extension": ".py",
   "mimetype": "text/x-python",
   "name": "python",
   "nbconvert_exporter": "python",
   "pygments_lexer": "ipython3",
   "version": "3.7.13"
  }
 },
 "nbformat": 4,
 "nbformat_minor": 5
}
