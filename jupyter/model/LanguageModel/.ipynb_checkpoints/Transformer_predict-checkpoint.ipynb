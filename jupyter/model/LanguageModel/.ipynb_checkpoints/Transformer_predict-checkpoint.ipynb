{
 "cells": [
  {
   "cell_type": "code",
   "execution_count": 1,
   "id": "75b79f74",
   "metadata": {},
   "outputs": [],
   "source": [
    "import tensorflow as tf\n",
    "import pandas as pd\n",
    "import os\n",
    "import sys\n",
    "sys.path.append('/Users/hoyoung/Desktop/pycharm_work/korean_grammar_corrector/bin')\n",
    "sys.path.append('/Users/hoyoung/Desktop/pycharm_work/korean_grammar_corrector/utils')\n",
    "\n",
    "from tensorflow_preprocess import *\n",
    "from model.transformer_model import *\n",
    "from model.predict import *"
   ]
  },
  {
   "cell_type": "code",
   "execution_count": 2,
   "id": "678970fe",
   "metadata": {},
   "outputs": [],
   "source": [
    "df = pd.read_csv('../../../data/train/korean_corpus_test_20221201.csv', names=['src', 'tgt'])"
   ]
  },
  {
   "cell_type": "code",
   "execution_count": 3,
   "id": "caf0f2fc",
   "metadata": {},
   "outputs": [
    {
     "data": {
      "text/html": [
       "<div>\n",
       "<style scoped>\n",
       "    .dataframe tbody tr th:only-of-type {\n",
       "        vertical-align: middle;\n",
       "    }\n",
       "\n",
       "    .dataframe tbody tr th {\n",
       "        vertical-align: top;\n",
       "    }\n",
       "\n",
       "    .dataframe thead th {\n",
       "        text-align: right;\n",
       "    }\n",
       "</style>\n",
       "<table border=\"1\" class=\"dataframe\">\n",
       "  <thead>\n",
       "    <tr style=\"text-align: right;\">\n",
       "      <th></th>\n",
       "      <th>src</th>\n",
       "      <th>tgt</th>\n",
       "    </tr>\n",
       "  </thead>\n",
       "  <tbody>\n",
       "    <tr>\n",
       "      <th>0</th>\n",
       "      <td>연방정부느 니와 함께 현재 판타나우에서 소방대를 통해 이뤄지는 진화자거블 확때하기 ...</td>\n",
       "      <td>연방정부는 이와 함께 현재 판타나우에서 소방대를 통해 이뤄지는 진화작업을 확대하기 ...</td>\n",
       "    </tr>\n",
       "    <tr>\n",
       "      <th>1</th>\n",
       "      <td>누르 에딘박싸는 \"현재 이슬람방물관과 콥틱빵물과늬 히귀 소장푸메 라베를 부착쭝이며 ...</td>\n",
       "      <td>누르 에딘박사는 \"현재 이슬람박물관과 콥틱박물관의 희귀 소장품에 라벨을 부착중이며 ...</td>\n",
       "    </tr>\n",
       "    <tr>\n",
       "      <th>2</th>\n",
       "      <td>델타 규치근 다닐-층 뉴럴 레트워크드르 뤼해 설계되얻끼 때무네, 그거싀 일반화이 녁...</td>\n",
       "      <td>델타 규칙은 단일-층 뉴럴 네트워크들을 위해 설계되었기 때문에, 그것의 일반화인 역...</td>\n",
       "    </tr>\n",
       "    <tr>\n",
       "      <th>3</th>\n",
       "      <td>이러한 실처늘 가능하게 호근 성공저그로 만든 멷 까지 구조저 교건드를 지저캐 둘 피...</td>\n",
       "      <td>이러한 실천을 가능하게 혹은 성공적으로 만든 몇 가지 구조적 요건들을 지적해 둘 필...</td>\n",
       "    </tr>\n",
       "    <tr>\n",
       "      <th>4</th>\n",
       "      <td>궁내에 세책쩌미 등장한 거시 화긴된다면, 세계 세챙 문화사를 로코 볼 때 이른 시기...</td>\n",
       "      <td>국내에 세책점이 등장한 것이 확인된다면, 세계 세책 문화사를 놓고 볼 때 이른 시기...</td>\n",
       "    </tr>\n",
       "  </tbody>\n",
       "</table>\n",
       "</div>"
      ],
      "text/plain": [
       "                                                 src  \\\n",
       "0  연방정부느 니와 함께 현재 판타나우에서 소방대를 통해 이뤄지는 진화자거블 확때하기 ...   \n",
       "1  누르 에딘박싸는 \"현재 이슬람방물관과 콥틱빵물과늬 히귀 소장푸메 라베를 부착쭝이며 ...   \n",
       "2  델타 규치근 다닐-층 뉴럴 레트워크드르 뤼해 설계되얻끼 때무네, 그거싀 일반화이 녁...   \n",
       "3  이러한 실처늘 가능하게 호근 성공저그로 만든 멷 까지 구조저 교건드를 지저캐 둘 피...   \n",
       "4  궁내에 세책쩌미 등장한 거시 화긴된다면, 세계 세챙 문화사를 로코 볼 때 이른 시기...   \n",
       "\n",
       "                                                 tgt  \n",
       "0  연방정부는 이와 함께 현재 판타나우에서 소방대를 통해 이뤄지는 진화작업을 확대하기 ...  \n",
       "1  누르 에딘박사는 \"현재 이슬람박물관과 콥틱박물관의 희귀 소장품에 라벨을 부착중이며 ...  \n",
       "2  델타 규칙은 단일-층 뉴럴 네트워크들을 위해 설계되었기 때문에, 그것의 일반화인 역...  \n",
       "3  이러한 실천을 가능하게 혹은 성공적으로 만든 몇 가지 구조적 요건들을 지적해 둘 필...  \n",
       "4  국내에 세책점이 등장한 것이 확인된다면, 세계 세책 문화사를 놓고 볼 때 이른 시기...  "
      ]
     },
     "execution_count": 3,
     "metadata": {},
     "output_type": "execute_result"
    }
   ],
   "source": [
    "df.head()"
   ]
  },
  {
   "cell_type": "code",
   "execution_count": 20,
   "id": "ed810450",
   "metadata": {},
   "outputs": [
    {
     "data": {
      "text/plain": [
       "<tensorflow.python.training.tracking.util.CheckpointLoadStatus at 0x7f8f6697d940>"
      ]
     },
     "execution_count": 20,
     "metadata": {},
     "output_type": "execute_result"
    }
   ],
   "source": [
    "model_70_path = '../../../checkpoint_maxlength70/cp.ckpt'\n",
    "tokenizer_70_path = '../../../tokenizer/tokenizer_maxlength_70.tok'\n",
    "\n",
    "tokenizer_70 = load_tokenizer(tokenizer_70_path)\n",
    "\n",
    "model_70 = Transformer_Model(vocab_size=tokenizer.vocab_size+2, d_model=128, num_layers=4, num_heads=4, dff=256, dropout=0.1, name='test')\n",
    "model_70.load_weights(model_70_path)"
   ]
  },
  {
   "cell_type": "code",
   "execution_count": 21,
   "id": "42331f2f",
   "metadata": {},
   "outputs": [
    {
     "data": {
      "text/plain": [
       "<tensorflow.python.training.tracking.util.CheckpointLoadStatus at 0x7f8f66282eb0>"
      ]
     },
     "execution_count": 21,
     "metadata": {},
     "output_type": "execute_result"
    }
   ],
   "source": [
    "model_24_path = '../../../checkpoint_maxlength24/cp.ckpt'\n",
    "tokenizer_24_path = '../../../tokenizer/tokenizer_maxlength_24.tok'\n",
    "\n",
    "tokenizer_24 = load_tokenizer(tokenizer_24_path)\n",
    "\n",
    "model_24 = Transformer_Model(vocab_size=tokenizer.vocab_size+2, d_model=128, num_layers=4, num_heads=4, dff=256, dropout=0.1, name='test')\n",
    "model_24.load_weights(model_24_path)"
   ]
  },
  {
   "cell_type": "code",
   "execution_count": 9,
   "id": "12333c64",
   "metadata": {},
   "outputs": [
    {
     "name": "stdout",
     "output_type": "stream",
     "text": [
      "Model: \"test\"\n",
      "__________________________________________________________________________________________________\n",
      " Layer (type)                   Output Shape         Param #     Connected to                     \n",
      "==================================================================================================\n",
      " inputs (InputLayer)            [(None, None)]       0           []                               \n",
      "                                                                                                  \n",
      " dec_inputs (InputLayer)        [(None, None)]       0           []                               \n",
      "                                                                                                  \n",
      " enc_padding_mask (Lambda)      (None, 1, 1, None)   0           ['inputs[0][0]']                 \n",
      "                                                                                                  \n",
      " encoder (Functional)           (None, None, 128)    1577600     ['inputs[0][0]',                 \n",
      "                                                                  'enc_padding_mask[0][0]']       \n",
      "                                                                                                  \n",
      " look_ahead_mask (Lambda)       (None, 1, None, Non  0           ['dec_inputs[0][0]']             \n",
      "                                e)                                                                \n",
      "                                                                                                  \n",
      " dec_padding_mask (Lambda)      (None, 1, 1, None)   0           ['inputs[0][0]']                 \n",
      "                                                                                                  \n",
      " decoder (Functional)           (None, None, 128)    1842816     ['dec_inputs[0][0]',             \n",
      "                                                                  'encoder[0][0]',                \n",
      "                                                                  'look_ahead_mask[0][0]',        \n",
      "                                                                  'dec_padding_mask[0][0]']       \n",
      "                                                                                                  \n",
      " outputs (Dense)                (None, None, 8185)   1055865     ['decoder[0][0]']                \n",
      "                                                                                                  \n",
      "==================================================================================================\n",
      "Total params: 4,476,281\n",
      "Trainable params: 4,476,281\n",
      "Non-trainable params: 0\n",
      "__________________________________________________________________________________________________\n"
     ]
    }
   ],
   "source": [
    "model_70.summary()"
   ]
  },
  {
   "cell_type": "code",
   "execution_count": 10,
   "id": "33a4b3c5",
   "metadata": {},
   "outputs": [
    {
     "name": "stdout",
     "output_type": "stream",
     "text": [
      "Model: \"test\"\n",
      "__________________________________________________________________________________________________\n",
      " Layer (type)                   Output Shape         Param #     Connected to                     \n",
      "==================================================================================================\n",
      " inputs (InputLayer)            [(None, None)]       0           []                               \n",
      "                                                                                                  \n",
      " dec_inputs (InputLayer)        [(None, None)]       0           []                               \n",
      "                                                                                                  \n",
      " enc_padding_mask (Lambda)      (None, 1, 1, None)   0           ['inputs[0][0]']                 \n",
      "                                                                                                  \n",
      " encoder (Functional)           (None, None, 128)    1577600     ['inputs[0][0]',                 \n",
      "                                                                  'enc_padding_mask[0][0]']       \n",
      "                                                                                                  \n",
      " look_ahead_mask (Lambda)       (None, 1, None, Non  0           ['dec_inputs[0][0]']             \n",
      "                                e)                                                                \n",
      "                                                                                                  \n",
      " dec_padding_mask (Lambda)      (None, 1, 1, None)   0           ['inputs[0][0]']                 \n",
      "                                                                                                  \n",
      " decoder (Functional)           (None, None, 128)    1842816     ['dec_inputs[0][0]',             \n",
      "                                                                  'encoder[0][0]',                \n",
      "                                                                  'look_ahead_mask[0][0]',        \n",
      "                                                                  'dec_padding_mask[0][0]']       \n",
      "                                                                                                  \n",
      " outputs (Dense)                (None, None, 8185)   1055865     ['decoder[0][0]']                \n",
      "                                                                                                  \n",
      "==================================================================================================\n",
      "Total params: 4,476,281\n",
      "Trainable params: 4,476,281\n",
      "Non-trainable params: 0\n",
      "__________________________________________________________________________________________________\n"
     ]
    }
   ],
   "source": [
    "model_24.summary()"
   ]
  },
  {
   "cell_type": "code",
   "execution_count": 22,
   "id": "0cbe29b6",
   "metadata": {},
   "outputs": [],
   "source": [
    "sent = '안뇽하셂요'\n",
    "predict_70 = Predictor(70, model_70, tokenizer_70)\n",
    "predict_24 = Predictor(24, model_24, tokenizer_24)"
   ]
  },
  {
   "cell_type": "code",
   "execution_count": 23,
   "id": "e9c0d905",
   "metadata": {},
   "outputs": [
    {
     "name": "stdout",
     "output_type": "stream",
     "text": [
      "Input: 연방정부느 니와 함께 현재 판타나우에서 소방대를 통해 이뤄지는 진화자거블 확때하기 위한 재정지원 방안도 검토하고 읻따.\n",
      "Output: 연방정부는 이와 함께 현재 판타나우에서 소방대를 통해 이뤄지는 진화작업을 확대하기 위한 재정지원 방안도 검토하고 있다 .\n"
     ]
    },
    {
     "data": {
      "text/plain": [
       "'연방정부는 이와 함께 현재 판타나우에서 소방대를 통해 이뤄지는 진화작업을 확대하기 위한 재정지원 방안도 검토하고 있다 .'"
      ]
     },
     "execution_count": 23,
     "metadata": {},
     "output_type": "execute_result"
    }
   ],
   "source": [
    "predict_70.predict(df['src'][0], model_70, debug=True)"
   ]
  },
  {
   "cell_type": "code",
   "execution_count": 24,
   "id": "c7b6da01",
   "metadata": {},
   "outputs": [
    {
     "name": "stdout",
     "output_type": "stream",
     "text": [
      "Input: 연방정부느 니와 함께 현재 판타나우에서 소방대를 통해 이뤄지는 진화자거블 확때하기 위한 재정지원 방안도 검토하고 읻따.\n",
      "Output: 연방정부는 이와 함께 현재 판타나우에서 소방대를 통해 이뤄지는 진화작업을 확대하기 위한 재정지원 방안\n"
     ]
    },
    {
     "data": {
      "text/plain": [
       "'연방정부는 이와 함께 현재 판타나우에서 소방대를 통해 이뤄지는 진화작업을 확대하기 위한 재정지원 방안'"
      ]
     },
     "execution_count": 24,
     "metadata": {},
     "output_type": "execute_result"
    }
   ],
   "source": [
    "predict_24.predict(df['src'][0], model_70, debug=True)"
   ]
  },
  {
   "cell_type": "code",
   "execution_count": 16,
   "id": "1c0b3784",
   "metadata": {},
   "outputs": [],
   "source": [
    "# sampling\n",
    "from random_sample_util import *"
   ]
  },
  {
   "cell_type": "code",
   "execution_count": 17,
   "id": "dbb9030b",
   "metadata": {},
   "outputs": [],
   "source": [
    "test = random_sampling(df, random_seed=123, sample_num=100, data='test')"
   ]
  },
  {
   "cell_type": "code",
   "execution_count": 26,
   "id": "8d07fa69",
   "metadata": {},
   "outputs": [],
   "source": [
    "predict_70 = Predictor(70, model_70, tokenizer)\n",
    "predict_24 = Predictor(24, model_24, tokenizer)\n",
    "\n",
    "pred_70 = test['src'].apply(lambda x: predict_70.predict(x, model_70))\n",
    "pred_24 = test['src'].apply(lambda x: predict_24.predict(x, model_24))"
   ]
  },
  {
   "cell_type": "code",
   "execution_count": 29,
   "id": "b9cc438f",
   "metadata": {},
   "outputs": [],
   "source": [
    "test['predict_70'] = pred_70\n",
    "test['predict_24'] = pred_24"
   ]
  },
  {
   "cell_type": "code",
   "execution_count": 32,
   "id": "fa2c1d95",
   "metadata": {},
   "outputs": [],
   "source": [
    "test.to_excel('../../../data/testsets_sample100.xlsx', index=False)"
   ]
  },
  {
   "cell_type": "code",
   "execution_count": 57,
   "id": "370e1a59",
   "metadata": {},
   "outputs": [],
   "source": [
    "num_test_text = '연방정부느 니와 함께 현재 판타나우에서 A소방대를 통해 이뤄지는 진화자거블 2배 확때하기 위한 재정지원 방안도 검토하고 읻따'"
   ]
  },
  {
   "cell_type": "code",
   "execution_count": 67,
   "id": "5629c118",
   "metadata": {},
   "outputs": [],
   "source": [
    "space_test = '아버지가방에들어가시다'"
   ]
  },
  {
   "cell_type": "code",
   "execution_count": 71,
   "id": "1d9db67e",
   "metadata": {},
   "outputs": [
    {
     "name": "stdout",
     "output_type": "stream",
     "text": [
      "Input: 연방정부느 니와 함께 현재 판타나우에서 A소방대를 통해 이뤄지는 진화자거블 2배 확때하기 위한 재정지원 방안도 검토하고 읻따\n",
      "Output: 연방정부는 이와 함께 현재 판타나우에서 시간이 소방대를 통해 이뤄지는 진화작업을 자가 배 확대하기 위한 재정지원 방안도 검토하고 있다 .\n"
     ]
    },
    {
     "data": {
      "text/plain": [
       "'연방정부는 이와 함께 현재 판타나우에서 시간이 소방대를 통해 이뤄지는 진화작업을 자가 배 확대하기 위한 재정지원 방안도 검토하고 있다 .'"
      ]
     },
     "execution_count": 71,
     "metadata": {},
     "output_type": "execute_result"
    }
   ],
   "source": [
    "# 숫자와 영문을 제외한 데이터로만 훈련을 해서 숫자 또는 영문이 들어간 경우 비정상적으로 교정됨.\n",
    "predict_70.predict(num_test_text, model_70, debug=True)"
   ]
  },
  {
   "cell_type": "code",
   "execution_count": 59,
   "id": "9c03a99c",
   "metadata": {},
   "outputs": [],
   "source": [
    "from bleu_score import *"
   ]
  },
  {
   "cell_type": "code",
   "execution_count": 60,
   "id": "dc9a8467",
   "metadata": {},
   "outputs": [],
   "source": [
    "bleu = BleuModule(weight=(0.25, 0.25, 0.25, 0.25))"
   ]
  },
  {
   "cell_type": "code",
   "execution_count": 69,
   "id": "cbb87028",
   "metadata": {},
   "outputs": [],
   "source": [
    "test['predict_ref'] = test.apply(lambda x: bleu.calculate(x['tgt'], x['src']), axis=1)\n",
    "test['predict_70_bleu'] = test.apply(lambda x: bleu.calculate(x['tgt'], x['predict_70']), axis=1)\n",
    "test['predict_24_bleu'] = test.apply(lambda x: bleu.calculate(x['tgt'], x['predict_24']), axis=1)"
   ]
  },
  {
   "cell_type": "code",
   "execution_count": 70,
   "id": "db84de2c",
   "metadata": {},
   "outputs": [],
   "source": [
    "test.to_excel('../../../data/testsets_sample100.xlsx', index=False)"
   ]
  },
  {
   "cell_type": "markdown",
   "id": "8dd02404",
   "metadata": {},
   "source": [
    "- 학습 절차 개선\n",
    "- 학습된 모델 로드 -> 인터페이스화\n",
    "- 인퍼런스 서버 (인터페이스, 서버, Restful)\n",
    "\n",
    "1. 리펙토링 (api class) -> 인퍼런스 클래스화\n",
    "2. Restful api \n"
   ]
  },
  {
   "cell_type": "code",
   "execution_count": 55,
   "id": "0c650244",
   "metadata": {},
   "outputs": [],
   "source": []
  },
  {
   "cell_type": "code",
   "execution_count": null,
   "id": "70272c78",
   "metadata": {},
   "outputs": [],
   "source": []
  }
 ],
 "metadata": {
  "kernelspec": {
   "display_name": "Python [conda env:ko_grammer_checker] *",
   "language": "python",
   "name": "conda-env-ko_grammer_checker-py"
  },
  "language_info": {
   "codemirror_mode": {
    "name": "ipython",
    "version": 3
   },
   "file_extension": ".py",
   "mimetype": "text/x-python",
   "name": "python",
   "nbconvert_exporter": "python",
   "pygments_lexer": "ipython3",
   "version": "3.8.13"
  }
 },
 "nbformat": 4,
 "nbformat_minor": 5
}
