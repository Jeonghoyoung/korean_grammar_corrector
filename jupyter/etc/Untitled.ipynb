{
 "cells": [
  {
   "cell_type": "code",
   "execution_count": 1,
   "id": "bb302b70",
   "metadata": {},
   "outputs": [],
   "source": [
    "import csv\n",
    "import pandas as pd\n"
   ]
  },
  {
   "cell_type": "code",
   "execution_count": 3,
   "id": "4376aa86",
   "metadata": {},
   "outputs": [],
   "source": [
    "path = '/Users/hoyoung/Desktop/pycharm_work/work-with-corpus/data/enko/ai_voucher_2022/20221027/input/matched_문학데이터 9만 정제완료.csv'"
   ]
  },
  {
   "cell_type": "code",
   "execution_count": 4,
   "id": "8946be57",
   "metadata": {},
   "outputs": [],
   "source": [
    "with open(path, 'rt') as f:\n",
    "    data = csv.reader(f)\n",
    "    csv_list = []\n",
    "    for line in data:\n",
    "        csv_list.append(line)\n"
   ]
  },
  {
   "cell_type": "code",
   "execution_count": 13,
   "id": "46415b97",
   "metadata": {
    "scrolled": true
   },
   "outputs": [
    {
     "name": "stdout",
     "output_type": "stream",
     "text": [
      "['[;는 ~k', 'ytevOp.n; l \"', ') is ~k,ytevOp.n; l']\n",
      "['[ tq;xu( ', '[ tq;xu', ' ~l\\'wO \"', \"), ~l'wO\"]\n",
      "['[oO( ', '[oO', ' hl\\' \"', \"), hl'\"]\n",
      "[\"[if'( \", \"[if'\", ' ry \"', '), ry']\n"
     ]
    }
   ],
   "source": [
    "for c in csv_list:\n",
    "    if len(c) > 2:\n",
    "        print(c)"
   ]
  },
  {
   "cell_type": "code",
   "execution_count": 14,
   "id": "f8007bd0",
   "metadata": {},
   "outputs": [
    {
     "data": {
      "text/plain": [
       "89760"
      ]
     },
     "execution_count": 14,
     "metadata": {},
     "output_type": "execute_result"
    }
   ],
   "source": [
    "len(csv_list)"
   ]
  },
  {
   "cell_type": "code",
   "execution_count": 15,
   "id": "5d699091",
   "metadata": {},
   "outputs": [],
   "source": [
    "filter_df = pd.read_csv('/Users/hoyoung/Desktop/pycharm_work/work-with-corpus/data/enko/ai_voucher_2022/20221027/output/matched_문학데이터 9만 정제완료.filter.csv')"
   ]
  },
  {
   "cell_type": "code",
   "execution_count": 16,
   "id": "53bce9e6",
   "metadata": {},
   "outputs": [
    {
     "data": {
      "text/html": [
       "<div>\n",
       "<style scoped>\n",
       "    .dataframe tbody tr th:only-of-type {\n",
       "        vertical-align: middle;\n",
       "    }\n",
       "\n",
       "    .dataframe tbody tr th {\n",
       "        vertical-align: top;\n",
       "    }\n",
       "\n",
       "    .dataframe thead th {\n",
       "        text-align: right;\n",
       "    }\n",
       "</style>\n",
       "<table border=\"1\" class=\"dataframe\">\n",
       "  <thead>\n",
       "    <tr style=\"text-align: right;\">\n",
       "      <th></th>\n",
       "      <th>src</th>\n",
       "      <th>tgt</th>\n",
       "      <th>uni_ratio</th>\n",
       "      <th>latin</th>\n",
       "    </tr>\n",
       "  </thead>\n",
       "  <tbody>\n",
       "    <tr>\n",
       "      <th>0</th>\n",
       "      <td>아</td>\n",
       "      <td>Ah</td>\n",
       "      <td>True</td>\n",
       "      <td>True</td>\n",
       "    </tr>\n",
       "    <tr>\n",
       "      <th>1</th>\n",
       "      <td>뭐</td>\n",
       "      <td>What</td>\n",
       "      <td>True</td>\n",
       "      <td>True</td>\n",
       "    </tr>\n",
       "    <tr>\n",
       "      <th>2</th>\n",
       "      <td>흥</td>\n",
       "      <td>Hmph</td>\n",
       "      <td>True</td>\n",
       "      <td>True</td>\n",
       "    </tr>\n",
       "    <tr>\n",
       "      <th>3</th>\n",
       "      <td>으</td>\n",
       "      <td>Huh</td>\n",
       "      <td>True</td>\n",
       "      <td>True</td>\n",
       "    </tr>\n",
       "    <tr>\n",
       "      <th>4</th>\n",
       "      <td>응</td>\n",
       "      <td>Yeah</td>\n",
       "      <td>True</td>\n",
       "      <td>True</td>\n",
       "    </tr>\n",
       "    <tr>\n",
       "      <th>...</th>\n",
       "      <td>...</td>\n",
       "      <td>...</td>\n",
       "      <td>...</td>\n",
       "      <td>...</td>\n",
       "    </tr>\n",
       "    <tr>\n",
       "      <th>70557</th>\n",
       "      <td>추기라는 제나라 재상은 키가 팔 척에 인물도 훤칠했다.</td>\n",
       "      <td>Zou Ji, the prime minister of the Kingdom of Q...</td>\n",
       "      <td>True</td>\n",
       "      <td>True</td>\n",
       "    </tr>\n",
       "    <tr>\n",
       "      <th>70558</th>\n",
       "      <td>추기는 일찍부터 전기 장군과 사이가 좋지 못했다.</td>\n",
       "      <td>Zouji and General Tianji were not on good term...</td>\n",
       "      <td>True</td>\n",
       "      <td>True</td>\n",
       "    </tr>\n",
       "    <tr>\n",
       "      <th>70559</th>\n",
       "      <td>먼저 추기가 말했다.</td>\n",
       "      <td>Zouji spoke first.</td>\n",
       "      <td>True</td>\n",
       "      <td>True</td>\n",
       "    </tr>\n",
       "    <tr>\n",
       "      <th>70560</th>\n",
       "      <td>이번 싸움에 추기가 장군을 대장으로 삼도록 왕에게 건의한 것도 그 저의가 수상한 일...</td>\n",
       "      <td>Zouji's intention should be questioned for pro...</td>\n",
       "      <td>True</td>\n",
       "      <td>True</td>\n",
       "    </tr>\n",
       "    <tr>\n",
       "      <th>70561</th>\n",
       "      <td>추기의 문하생인 공손간이 추기에게 이렇게 말했던 것이다.</td>\n",
       "      <td>Zouji's pupil Gongsun Gan said the following t...</td>\n",
       "      <td>True</td>\n",
       "      <td>True</td>\n",
       "    </tr>\n",
       "  </tbody>\n",
       "</table>\n",
       "<p>70562 rows × 4 columns</p>\n",
       "</div>"
      ],
      "text/plain": [
       "                                                     src  \\\n",
       "0                                                      아   \n",
       "1                                                      뭐   \n",
       "2                                                      흥   \n",
       "3                                                      으   \n",
       "4                                                      응   \n",
       "...                                                  ...   \n",
       "70557                     추기라는 제나라 재상은 키가 팔 척에 인물도 훤칠했다.   \n",
       "70558                        추기는 일찍부터 전기 장군과 사이가 좋지 못했다.   \n",
       "70559                                        먼저 추기가 말했다.   \n",
       "70560  이번 싸움에 추기가 장군을 대장으로 삼도록 왕에게 건의한 것도 그 저의가 수상한 일...   \n",
       "70561                    추기의 문하생인 공손간이 추기에게 이렇게 말했던 것이다.   \n",
       "\n",
       "                                                     tgt  uni_ratio  latin  \n",
       "0                                                     Ah       True   True  \n",
       "1                                                   What       True   True  \n",
       "2                                                   Hmph       True   True  \n",
       "3                                                    Huh       True   True  \n",
       "4                                                   Yeah       True   True  \n",
       "...                                                  ...        ...    ...  \n",
       "70557  Zou Ji, the prime minister of the Kingdom of Q...       True   True  \n",
       "70558  Zouji and General Tianji were not on good term...       True   True  \n",
       "70559                                 Zouji spoke first.       True   True  \n",
       "70560  Zouji's intention should be questioned for pro...       True   True  \n",
       "70561  Zouji's pupil Gongsun Gan said the following t...       True   True  \n",
       "\n",
       "[70562 rows x 4 columns]"
      ]
     },
     "execution_count": 16,
     "metadata": {},
     "output_type": "execute_result"
    }
   ],
   "source": []
  },
  {
   "cell_type": "code",
   "execution_count": null,
   "id": "b4136600",
   "metadata": {},
   "outputs": [],
   "source": []
  }
 ],
 "metadata": {
  "kernelspec": {
   "display_name": "Python [conda env:ko_grammer_checker] *",
   "language": "python",
   "name": "conda-env-ko_grammer_checker-py"
  },
  "language_info": {
   "codemirror_mode": {
    "name": "ipython",
    "version": 3
   },
   "file_extension": ".py",
   "mimetype": "text/x-python",
   "name": "python",
   "nbconvert_exporter": "python",
   "pygments_lexer": "ipython3",
   "version": "3.8.13"
  }
 },
 "nbformat": 4,
 "nbformat_minor": 5
}
