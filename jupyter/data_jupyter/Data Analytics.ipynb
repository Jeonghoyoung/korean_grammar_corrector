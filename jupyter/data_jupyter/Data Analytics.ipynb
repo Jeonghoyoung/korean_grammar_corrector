{
 "cells": [
  {
   "cell_type": "code",
   "execution_count": 16,
   "id": "bb4e6a4b",
   "metadata": {},
   "outputs": [],
   "source": [
    "%matplotlib inline\n",
    "import re\n",
    "import random\n",
    "\n",
    "import pandas as pd\n",
    "import matplotlib.pyplot as plt\n",
    "\n",
    "from mecab import MeCab\n",
    "\n",
    "from sklearn.model_selection import train_test_split"
   ]
  },
  {
   "cell_type": "markdown",
   "id": "ba5fe77c",
   "metadata": {},
   "source": [
    "### DATA\n",
    "\n",
    "1. 텍스트 데이터 분석 \n",
    "2. 에러 데이터 생성"
   ]
  },
  {
   "cell_type": "code",
   "execution_count": 2,
   "id": "1ab86324",
   "metadata": {},
   "outputs": [],
   "source": [
    "df = pd.read_csv('../../data/raw/colloquial_ko.csv')"
   ]
  },
  {
   "cell_type": "code",
   "execution_count": 3,
   "id": "72f3f3f5",
   "metadata": {},
   "outputs": [
    {
     "data": {
      "text/html": [
       "<div>\n",
       "<style scoped>\n",
       "    .dataframe tbody tr th:only-of-type {\n",
       "        vertical-align: middle;\n",
       "    }\n",
       "\n",
       "    .dataframe tbody tr th {\n",
       "        vertical-align: top;\n",
       "    }\n",
       "\n",
       "    .dataframe thead th {\n",
       "        text-align: right;\n",
       "    }\n",
       "</style>\n",
       "<table border=\"1\" class=\"dataframe\">\n",
       "  <thead>\n",
       "    <tr style=\"text-align: right;\">\n",
       "      <th></th>\n",
       "      <th>tgt</th>\n",
       "    </tr>\n",
       "  </thead>\n",
       "  <tbody>\n",
       "    <tr>\n",
       "      <th>0</th>\n",
       "      <td>그 말을 들으니 기쁘고, 저희와 거래하는 것을 고려해 주셨으면 합니다.</td>\n",
       "    </tr>\n",
       "    <tr>\n",
       "      <th>1</th>\n",
       "      <td>확실히 생각하고 있습니다만, 몇 가지 여쭤보고 싶은 게 있어요.</td>\n",
       "    </tr>\n",
       "    <tr>\n",
       "      <th>2</th>\n",
       "      <td>그들에게 말하면, 저희가 그 아이들을 돌볼 것입니다.</td>\n",
       "    </tr>\n",
       "    <tr>\n",
       "      <th>3</th>\n",
       "      <td>좋아요, 수영은 어떤가요?</td>\n",
       "    </tr>\n",
       "    <tr>\n",
       "      <th>4</th>\n",
       "      <td>현재 두 개의 수영장이 있습니다.</td>\n",
       "    </tr>\n",
       "  </tbody>\n",
       "</table>\n",
       "</div>"
      ],
      "text/plain": [
       "                                       tgt\n",
       "0  그 말을 들으니 기쁘고, 저희와 거래하는 것을 고려해 주셨으면 합니다.\n",
       "1      확실히 생각하고 있습니다만, 몇 가지 여쭤보고 싶은 게 있어요.\n",
       "2            그들에게 말하면, 저희가 그 아이들을 돌볼 것입니다.\n",
       "3                           좋아요, 수영은 어떤가요?\n",
       "4                       현재 두 개의 수영장이 있습니다."
      ]
     },
     "execution_count": 3,
     "metadata": {},
     "output_type": "execute_result"
    }
   ],
   "source": [
    "df.head()"
   ]
  },
  {
   "cell_type": "code",
   "execution_count": 4,
   "id": "137a55bd",
   "metadata": {},
   "outputs": [],
   "source": [
    "mecab = MeCab()"
   ]
  },
  {
   "cell_type": "code",
   "execution_count": 5,
   "id": "284dec4b",
   "metadata": {},
   "outputs": [],
   "source": [
    "df['morphs_ko'] = df['tgt'].apply(lambda x: mecab.morphs(str(x)))"
   ]
  },
  {
   "cell_type": "code",
   "execution_count": 6,
   "id": "83adf968",
   "metadata": {},
   "outputs": [],
   "source": [
    "df['morphs_length'] = df['morphs_ko'].apply(lambda x: len(x))"
   ]
  },
  {
   "cell_type": "code",
   "execution_count": 7,
   "id": "93c59bce",
   "metadata": {
    "scrolled": true
   },
   "outputs": [
    {
     "data": {
      "text/html": [
       "<div>\n",
       "<style scoped>\n",
       "    .dataframe tbody tr th:only-of-type {\n",
       "        vertical-align: middle;\n",
       "    }\n",
       "\n",
       "    .dataframe tbody tr th {\n",
       "        vertical-align: top;\n",
       "    }\n",
       "\n",
       "    .dataframe thead th {\n",
       "        text-align: right;\n",
       "    }\n",
       "</style>\n",
       "<table border=\"1\" class=\"dataframe\">\n",
       "  <thead>\n",
       "    <tr style=\"text-align: right;\">\n",
       "      <th></th>\n",
       "      <th>morphs_length</th>\n",
       "    </tr>\n",
       "  </thead>\n",
       "  <tbody>\n",
       "    <tr>\n",
       "      <th>count</th>\n",
       "      <td>1.260280e+06</td>\n",
       "    </tr>\n",
       "    <tr>\n",
       "      <th>mean</th>\n",
       "      <td>1.391222e+01</td>\n",
       "    </tr>\n",
       "    <tr>\n",
       "      <th>std</th>\n",
       "      <td>5.386720e+00</td>\n",
       "    </tr>\n",
       "    <tr>\n",
       "      <th>min</th>\n",
       "      <td>1.000000e+00</td>\n",
       "    </tr>\n",
       "    <tr>\n",
       "      <th>25%</th>\n",
       "      <td>1.000000e+01</td>\n",
       "    </tr>\n",
       "    <tr>\n",
       "      <th>50%</th>\n",
       "      <td>1.300000e+01</td>\n",
       "    </tr>\n",
       "    <tr>\n",
       "      <th>75%</th>\n",
       "      <td>1.700000e+01</td>\n",
       "    </tr>\n",
       "    <tr>\n",
       "      <th>max</th>\n",
       "      <td>7.800000e+01</td>\n",
       "    </tr>\n",
       "  </tbody>\n",
       "</table>\n",
       "</div>"
      ],
      "text/plain": [
       "       morphs_length\n",
       "count   1.260280e+06\n",
       "mean    1.391222e+01\n",
       "std     5.386720e+00\n",
       "min     1.000000e+00\n",
       "25%     1.000000e+01\n",
       "50%     1.300000e+01\n",
       "75%     1.700000e+01\n",
       "max     7.800000e+01"
      ]
     },
     "execution_count": 7,
     "metadata": {},
     "output_type": "execute_result"
    }
   ],
   "source": [
    "df.describe()"
   ]
  },
  {
   "cell_type": "code",
   "execution_count": 15,
   "id": "0568b99b",
   "metadata": {},
   "outputs": [
    {
     "data": {
      "text/plain": [
       "0          21\n",
       "1          19\n",
       "2          17\n",
       "3           8\n",
       "4           9\n",
       "           ..\n",
       "1260275     9\n",
       "1260276    13\n",
       "1260277     9\n",
       "1260278    18\n",
       "1260279    17\n",
       "Name: morphs_length, Length: 1260280, dtype: int64"
      ]
     },
     "execution_count": 15,
     "metadata": {},
     "output_type": "execute_result"
    }
   ],
   "source": [
    "plt."
   ]
  },
  {
   "cell_type": "markdown",
   "id": "6a022c04",
   "metadata": {},
   "source": [
    "- 텍스트 데이터 형태소 분석 결과 : 대부분 10개(전체 데이터의 약 25%) ~ 17개 (전체 데이터의 약 75%)의 형태소로 이루어져있음.\n",
    "\n",
    "- 학습 및 테스트 데이터 약 5만개 정도 샘플링 하되 위의 형태소 개수로 이루어진 데이터셋 구축 예정. "
   ]
  },
  {
   "cell_type": "code",
   "execution_count": 8,
   "id": "110cae17",
   "metadata": {},
   "outputs": [],
   "source": [
    "df_idx = [i for i in range(len(df)) if 10 <= df['morphs_length'][i] < 18]"
   ]
  },
  {
   "cell_type": "code",
   "execution_count": 9,
   "id": "e8ed60c2",
   "metadata": {},
   "outputs": [
    {
     "name": "stdout",
     "output_type": "stream",
     "text": [
      "1260280\n",
      "729137\n"
     ]
    }
   ],
   "source": [
    "# 약 50만개의 데이터가 걸러짐\n",
    "print(len(df))\n",
    "print(len(df_idx))\n",
    "df2 = df.loc[df_idx]\n",
    "df2.reset_index(inplace=True, drop=True)"
   ]
  },
  {
   "cell_type": "code",
   "execution_count": 10,
   "id": "725d3d2c",
   "metadata": {},
   "outputs": [],
   "source": [
    "def random_sampling(df, random_seed:int, sample_num:int, data:str):\n",
    "    random.seed(random_seed)\n",
    "    if sample_num > len(df):\n",
    "        random_sample_index = random.sample(range(len(df)), len(df))\n",
    "    else:\n",
    "        random_sample_index = random.sample(range(len(df)), sample_num)\n",
    "\n",
    "    if data == 'train':\n",
    "        result_df = df.drop(random_sample_index)\n",
    "        result_df.reset_index(inplace=True, drop=True)\n",
    "        return result_df\n",
    "    elif data == 'test':\n",
    "        result_df = df.loc[random_sample_index]\n",
    "        result_df.reset_index(inplace=True, drop=True)\n",
    "        return result_df "
   ]
  },
  {
   "cell_type": "code",
   "execution_count": 11,
   "id": "251928fc",
   "metadata": {},
   "outputs": [],
   "source": [
    "sample = random_sampling(df2, random_seed=123, sample_num=50000, data = 'test')"
   ]
  },
  {
   "cell_type": "markdown",
   "id": "4f0a3ca3",
   "metadata": {},
   "source": [
    "#### Subword 분절\n",
    "\n",
    "- 서브워드 분절은 기본적으로 '단어는 의미를 가진 더 작은 서브워드들의 조합으로 이루어진다'는 가정하에 적용되는 알고리즘\n",
    "\n",
    "- 적절한 서브워드를 발견하여 해당 단위로 쪼개어주면 어휘수를 줄일 수 있고 희소성을 효과적으로 줄일 수 있다.\n",
    "\n",
    "- 신조어나 오타와 같은 UNK에 대해 서브워드 단위나 문자 단위로 쪼개줌으로써 기존 훈련 데이터에서 보았던 토큰들의 조합으로 만들 수 있다.\n",
    "\n",
    "- 자연어 전처리에 필수 절차"
   ]
  },
  {
   "cell_type": "code",
   "execution_count": null,
   "id": "6fdf8bdc",
   "metadata": {},
   "outputs": [],
   "source": []
  }
 ],
 "metadata": {
  "kernelspec": {
   "display_name": "Python [conda env:ko_grammer_checker] *",
   "language": "python",
   "name": "conda-env-ko_grammer_checker-py"
  },
  "language_info": {
   "codemirror_mode": {
    "name": "ipython",
    "version": 3
   },
   "file_extension": ".py",
   "mimetype": "text/x-python",
   "name": "python",
   "nbconvert_exporter": "python",
   "pygments_lexer": "ipython3",
   "version": "3.8.13"
  }
 },
 "nbformat": 4,
 "nbformat_minor": 5
}
