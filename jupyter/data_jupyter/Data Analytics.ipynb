{
 "cells": [
  {
   "cell_type": "code",
   "execution_count": 83,
   "id": "bb4e6a4b",
   "metadata": {},
   "outputs": [],
   "source": [
    "%matplotlib inline\n",
    "import sys\n",
    "from collections import Counter\n",
    "import re\n",
    "import random\n",
    "\n",
    "import pandas as pd\n",
    "import matplotlib.pyplot as plt\n",
    "\n",
    "from mecab import MeCab\n",
    "\n",
    "from sklearn.model_selection import train_test_split"
   ]
  },
  {
   "cell_type": "markdown",
   "id": "ba5fe77c",
   "metadata": {},
   "source": [
    "### DATA\n",
    "\n",
    "1. 텍스트 데이터 분석 \n",
    "2. 에러 데이터 생성"
   ]
  },
  {
   "cell_type": "code",
   "execution_count": 2,
   "id": "1ab86324",
   "metadata": {},
   "outputs": [],
   "source": [
    "df = pd.read_csv('../../data/raw/colloquial_ko.csv')"
   ]
  },
  {
   "cell_type": "code",
   "execution_count": 3,
   "id": "72f3f3f5",
   "metadata": {},
   "outputs": [
    {
     "data": {
      "text/html": [
       "<div>\n",
       "<style scoped>\n",
       "    .dataframe tbody tr th:only-of-type {\n",
       "        vertical-align: middle;\n",
       "    }\n",
       "\n",
       "    .dataframe tbody tr th {\n",
       "        vertical-align: top;\n",
       "    }\n",
       "\n",
       "    .dataframe thead th {\n",
       "        text-align: right;\n",
       "    }\n",
       "</style>\n",
       "<table border=\"1\" class=\"dataframe\">\n",
       "  <thead>\n",
       "    <tr style=\"text-align: right;\">\n",
       "      <th></th>\n",
       "      <th>tgt</th>\n",
       "    </tr>\n",
       "  </thead>\n",
       "  <tbody>\n",
       "    <tr>\n",
       "      <th>0</th>\n",
       "      <td>그 말을 들으니 기쁘고, 저희와 거래하는 것을 고려해 주셨으면 합니다.</td>\n",
       "    </tr>\n",
       "    <tr>\n",
       "      <th>1</th>\n",
       "      <td>확실히 생각하고 있습니다만, 몇 가지 여쭤보고 싶은 게 있어요.</td>\n",
       "    </tr>\n",
       "    <tr>\n",
       "      <th>2</th>\n",
       "      <td>그들에게 말하면, 저희가 그 아이들을 돌볼 것입니다.</td>\n",
       "    </tr>\n",
       "    <tr>\n",
       "      <th>3</th>\n",
       "      <td>좋아요, 수영은 어떤가요?</td>\n",
       "    </tr>\n",
       "    <tr>\n",
       "      <th>4</th>\n",
       "      <td>현재 두 개의 수영장이 있습니다.</td>\n",
       "    </tr>\n",
       "  </tbody>\n",
       "</table>\n",
       "</div>"
      ],
      "text/plain": [
       "                                       tgt\n",
       "0  그 말을 들으니 기쁘고, 저희와 거래하는 것을 고려해 주셨으면 합니다.\n",
       "1      확실히 생각하고 있습니다만, 몇 가지 여쭤보고 싶은 게 있어요.\n",
       "2            그들에게 말하면, 저희가 그 아이들을 돌볼 것입니다.\n",
       "3                           좋아요, 수영은 어떤가요?\n",
       "4                       현재 두 개의 수영장이 있습니다."
      ]
     },
     "execution_count": 3,
     "metadata": {},
     "output_type": "execute_result"
    }
   ],
   "source": [
    "df.head()"
   ]
  },
  {
   "cell_type": "code",
   "execution_count": 4,
   "id": "137a55bd",
   "metadata": {},
   "outputs": [],
   "source": [
    "mecab = MeCab()"
   ]
  },
  {
   "cell_type": "code",
   "execution_count": 5,
   "id": "284dec4b",
   "metadata": {},
   "outputs": [],
   "source": [
    "df['morphs_ko'] = df['tgt'].apply(lambda x: mecab.morphs(str(x)))"
   ]
  },
  {
   "cell_type": "code",
   "execution_count": 6,
   "id": "83adf968",
   "metadata": {},
   "outputs": [],
   "source": [
    "df['morphs_length'] = df['morphs_ko'].apply(lambda x: len(x))"
   ]
  },
  {
   "cell_type": "code",
   "execution_count": 7,
   "id": "93c59bce",
   "metadata": {
    "scrolled": false
   },
   "outputs": [
    {
     "data": {
      "text/html": [
       "<div>\n",
       "<style scoped>\n",
       "    .dataframe tbody tr th:only-of-type {\n",
       "        vertical-align: middle;\n",
       "    }\n",
       "\n",
       "    .dataframe tbody tr th {\n",
       "        vertical-align: top;\n",
       "    }\n",
       "\n",
       "    .dataframe thead th {\n",
       "        text-align: right;\n",
       "    }\n",
       "</style>\n",
       "<table border=\"1\" class=\"dataframe\">\n",
       "  <thead>\n",
       "    <tr style=\"text-align: right;\">\n",
       "      <th></th>\n",
       "      <th>morphs_length</th>\n",
       "    </tr>\n",
       "  </thead>\n",
       "  <tbody>\n",
       "    <tr>\n",
       "      <th>count</th>\n",
       "      <td>1.260280e+06</td>\n",
       "    </tr>\n",
       "    <tr>\n",
       "      <th>mean</th>\n",
       "      <td>1.391222e+01</td>\n",
       "    </tr>\n",
       "    <tr>\n",
       "      <th>std</th>\n",
       "      <td>5.386720e+00</td>\n",
       "    </tr>\n",
       "    <tr>\n",
       "      <th>min</th>\n",
       "      <td>1.000000e+00</td>\n",
       "    </tr>\n",
       "    <tr>\n",
       "      <th>25%</th>\n",
       "      <td>1.000000e+01</td>\n",
       "    </tr>\n",
       "    <tr>\n",
       "      <th>50%</th>\n",
       "      <td>1.300000e+01</td>\n",
       "    </tr>\n",
       "    <tr>\n",
       "      <th>75%</th>\n",
       "      <td>1.700000e+01</td>\n",
       "    </tr>\n",
       "    <tr>\n",
       "      <th>max</th>\n",
       "      <td>7.800000e+01</td>\n",
       "    </tr>\n",
       "  </tbody>\n",
       "</table>\n",
       "</div>"
      ],
      "text/plain": [
       "       morphs_length\n",
       "count   1.260280e+06\n",
       "mean    1.391222e+01\n",
       "std     5.386720e+00\n",
       "min     1.000000e+00\n",
       "25%     1.000000e+01\n",
       "50%     1.300000e+01\n",
       "75%     1.700000e+01\n",
       "max     7.800000e+01"
      ]
     },
     "execution_count": 7,
     "metadata": {},
     "output_type": "execute_result"
    }
   ],
   "source": [
    "df.describe()"
   ]
  },
  {
   "cell_type": "code",
   "execution_count": 28,
   "id": "96b8d94d",
   "metadata": {},
   "outputs": [
    {
     "data": {
      "image/png": "[encoded data removed]",
      "text/plain": [
       "<Figure size 640x480 with 1 Axes>"
      ]
     },
     "metadata": {},
     "output_type": "display_data"
    }
   ],
   "source": [
    "length_list = df['morphs_length'].tolist()\n",
    "length_list.sort()\n",
    "length_cnt = Counter(length_list)\n",
    "\n",
    "x = length_cnt.keys()\n",
    "y = length_cnt.values()\n",
    "\n",
    "plt.bar(x, y)\n",
    "plt.show()"
   ]
  },
  {
   "cell_type": "markdown",
   "id": "6a022c04",
   "metadata": {},
   "source": [
    "- 텍스트 데이터 형태소 분석 결과 : 대부분 10개(전체 데이터의 약 25%) ~ 17개 (전체 데이터의 약 75%)의 형태소로 이루어져있음.\n",
    "\n",
    "- 학습 및 테스트 데이터 약 5만개 정도 샘플링 하되 위의 형태소 개수로 이루어진 데이터셋 구축 예정. "
   ]
  },
  {
   "cell_type": "code",
   "execution_count": 29,
   "id": "110cae17",
   "metadata": {},
   "outputs": [],
   "source": [
    "df_idx = [i for i in range(len(df)) if 10 <= df['morphs_length'][i] < 18]"
   ]
  },
  {
   "cell_type": "code",
   "execution_count": 30,
   "id": "e8ed60c2",
   "metadata": {},
   "outputs": [
    {
     "name": "stdout",
     "output_type": "stream",
     "text": [
      "1260280\n",
      "729137\n"
     ]
    }
   ],
   "source": [
    "# 약 50만개의 데이터가 걸러짐\n",
    "print(len(df))\n",
    "print(len(df_idx))\n",
    "df2 = df.loc[df_idx]\n",
    "df2.reset_index(inplace=True, drop=True)"
   ]
  },
  {
   "cell_type": "code",
   "execution_count": 31,
   "id": "725d3d2c",
   "metadata": {},
   "outputs": [],
   "source": [
    "def random_sampling(df, random_seed:int, sample_num:int, data:str):\n",
    "    random.seed(random_seed)\n",
    "    if sample_num > len(df):\n",
    "        random_sample_index = random.sample(range(len(df)), len(df))\n",
    "    else:\n",
    "        random_sample_index = random.sample(range(len(df)), sample_num)\n",
    "\n",
    "    if data == 'train':\n",
    "        result_df = df.drop(random_sample_index)\n",
    "        result_df.reset_index(inplace=True, drop=True)\n",
    "        return result_df\n",
    "    elif data == 'test':\n",
    "        result_df = df.loc[random_sample_index]\n",
    "        result_df.reset_index(inplace=True, drop=True)\n",
    "        return result_df "
   ]
  },
  {
   "cell_type": "code",
   "execution_count": 32,
   "id": "251928fc",
   "metadata": {},
   "outputs": [],
   "source": [
    "sample = random_sampling(df2, random_seed=123, sample_num=50000, data = 'test')"
   ]
  },
  {
   "cell_type": "code",
   "execution_count": 71,
   "id": "fa10ad50",
   "metadata": {},
   "outputs": [],
   "source": [
    "sample['replace_morphs_text'] = sample['morphs_ko'].apply(lambda x: ' '.join(x))"
   ]
  },
  {
   "cell_type": "code",
   "execution_count": 73,
   "id": "e438582b",
   "metadata": {},
   "outputs": [],
   "source": [
    "with open('colloquial_replace_morphs.txt', 'w') as f:\n",
    "    for line in sample.replace_morphs_text.values:\n",
    "        try:\n",
    "            f.write(line + '\\n')\n",
    "        except:\n",
    "            print(line)"
   ]
  },
  {
   "cell_type": "markdown",
   "id": "4f0a3ca3",
   "metadata": {},
   "source": [
    "#### Subword 분절\n",
    "\n",
    "- 서브워드 분절은 기본적으로 '단어는 의미를 가진 더 작은 서브워드들의 조합으로 이루어진다'는 가정하에 적용되는 알고리즘\n",
    "\n",
    "- 적절한 서브워드를 발견하여 해당 단위로 쪼개어주면 어휘수를 줄일 수 있고 희소성을 효과적으로 줄일 수 있다.\n",
    "\n",
    "- 신조어나 오타와 같은 UNK에 대해 서브워드 단위나 문자 단위로 쪼개줌으로써 기존 훈련 데이터에서 보았던 토큰들의 조합으로 만들 수 있다.\n",
    "\n",
    "- 자연어 전처리에 필수 절차이다.\n",
    "\n",
    "\n",
    "- Huggingface tokenizer\n",
    "    - byte level bpe tokenizer\n",
    "    - char bpe tokenizer\n",
    "    - sentencepiece bpe tokenizer\n",
    "    - bert wordpiece tokenizer\n",
    "\n",
    "\n",
    "- 한국어 Subword 순서\n",
    "    * src, tgt 둘다 실행.\n",
    "    \n",
    "    1. 기존의 띄어쓰기 위치에 '▁' 삽입\n",
    "    2. Mecab 등의 분절기로 분절후 Subword 수행."
   ]
  },
  {
   "cell_type": "code",
   "execution_count": 74,
   "id": "6fdf8bdc",
   "metadata": {},
   "outputs": [],
   "source": [
    "from tokenizers import SentencePieceBPETokenizer, Tokenizer"
   ]
  },
  {
   "cell_type": "code",
   "execution_count": 75,
   "id": "aeaae8ac",
   "metadata": {},
   "outputs": [],
   "source": [
    "tokenizer = SentencePieceBPETokenizer()"
   ]
  },
  {
   "cell_type": "code",
   "execution_count": 76,
   "id": "f6705e45",
   "metadata": {},
   "outputs": [
    {
     "name": "stdout",
     "output_type": "stream",
     "text": [
      "\n",
      "\n",
      "\n",
      "CPU times: user 3.2 s, sys: 1.02 s, total: 4.22 s\n",
      "Wall time: 514 ms\n"
     ]
    },
    {
     "data": {
      "text/plain": [
       "Tokenizer(vocabulary_size=8138, model=SentencePieceBPE, unk_token=<unk>, replacement=▁, add_prefix_space=True, dropout=None)"
      ]
     },
     "execution_count": 76,
     "metadata": {},
     "output_type": "execute_result"
    }
   ],
   "source": [
    "%%time\n",
    "# train\n",
    "min_frequency = 5\n",
    "vocab_size = 30000\n",
    "\n",
    "tokenizer.train([\"../../data/sample/colloquial_replace_morphs.txt\"], vocab_size=vocab_size, min_frequency=min_frequency)\n",
    "tokenizer"
   ]
  },
  {
   "cell_type": "code",
   "execution_count": 77,
   "id": "d2af9021",
   "metadata": {
    "scrolled": true
   },
   "outputs": [
    {
     "name": "stdout",
     "output_type": "stream",
     "text": [
      "저희 엑스레이 검사 기계를 사용할 수 있습니다.\n",
      "[1058, 5581, 1441, 2818, 1537, 372, 1099, 942, 1019, 1011, 575, 1003, 10]\n",
      "['▁저희', '▁엑스', '레이', '▁검사', '▁기계', '를', '▁사용', '할', '▁수', '▁있', '습', '니다', '.']\n",
      "[(0, 2), (2, 5), (5, 7), (7, 10), (10, 13), (13, 14), (14, 17), (17, 18), (18, 20), (20, 22), (22, 23), (23, 25), (25, 26)] \n",
      "\n",
      "출시된지 약 일주일 정도 되었죠.\n",
      "[1594, 273, 755, 1323, 6135, 1700, 1054, 636, 740, 10]\n",
      "['▁출시', '된', '지', '▁약', '▁일주일', '▁정도', '▁되', '었', '죠', '.']\n",
      "[(0, 2), (2, 3), (3, 4), (4, 6), (6, 10), (10, 13), (13, 15), (15, 16), (16, 17), (17, 18)] \n",
      "\n",
      "따라서 투자자로서 해야 할 일이 있습니다.\n",
      "[1613, 3053, 351, 532, 1176, 1033, 1074, 693, 1011, 575, 1003, 10]\n",
      "['▁따라서', '▁투자자', '로', '서', '▁해야', '▁할', '▁일', '이', '▁있', '습', '니다', '.']\n",
      "[(0, 3), (3, 7), (7, 8), (8, 9), (9, 12), (12, 14), (14, 16), (16, 17), (17, 19), (19, 20), (20, 22), (22, 23)] \n",
      "\n",
      "투어 가이드가 현지 시장으로 안내해 줄 거예요.\n",
      "[2353, 3004, 69, 2565, 1455, 7544, 2137, 947, 1302, 1064, 651, 666, 10]\n",
      "['▁투어', '▁가이드', '가', '▁현지', '▁시장', '으로', '▁안내', '해', '▁줄', '▁거', '예', '요', '.']\n",
      "[(0, 2), (2, 6), (6, 7), (7, 10), (10, 13), (13, 15), (15, 18), (18, 19), (19, 21), (21, 23), (23, 24), (24, 25), (25, 26)] \n",
      "\n",
      "위를 청소하는 데 도움이 될 수 있습니다.\n",
      "[1077, 372, 1898, 939, 230, 1213, 1320, 693, 1212, 1019, 1011, 575, 1003, 10]\n",
      "['▁위', '를', '▁청소', '하', '는', '▁데', '▁도움', '이', '▁될', '▁수', '▁있', '습', '니다', '.']\n",
      "[(0, 1), (1, 2), (2, 5), (5, 6), (6, 7), (7, 9), (9, 12), (12, 13), (13, 15), (15, 17), (17, 19), (19, 20), (20, 22), (22, 23)] \n",
      "\n",
      "알겠습니다, 오디오 또는 비디오 콘텐츠에 관한 모든 것입니까?\n",
      "[1059, 96, 575, 1003, 8, 2867, 1530, 2232, 2338, 638, 1920, 1134, 1041, 700, 1152, 22]\n",
      "['▁알', '겠', '습', '니다', ',', '▁오디오', '▁또는', '▁비디오', '▁콘텐츠', '에', '▁관한', '▁모든', '▁것', '입', '니까', '?']\n",
      "[(0, 1), (1, 2), (2, 3), (3, 5), (5, 6), (6, 10), (10, 13), (13, 17), (17, 21), (21, 22), (22, 25), (25, 28), (28, 30), (30, 31), (31, 33), (33, 34)] \n",
      "\n",
      "거의 한달만에 집에 돌아온거야.\n",
      "[1771, 1022, 247, 386, 638, 1257, 638, 2074, 654, 86, 622, 10]\n",
      "['▁거의', '▁한', '달', '만', '에', '▁집', '에', '▁돌아', '온', '거', '야', '.']\n",
      "[(0, 2), (2, 4), (4, 5), (5, 6), (6, 7), (7, 9), (9, 10), (10, 13), (13, 14), (14, 15), (15, 16), (16, 17)] \n",
      "\n",
      "좋습니다, 가방이 어떻게 생겼는지 말씀해 주시겠어요?\n",
      "[1068, 575, 1003, 8, 1816, 693, 1336, 3047, 230, 755, 1354, 947, 7611, 96, 4872, 22]\n",
      "['▁좋', '습', '니다', ',', '▁가방', '이', '▁어떻게', '▁생겼', '는', '지', '▁말씀', '해', '▁주시', '겠', '어요', '?']\n",
      "[(0, 1), (1, 2), (2, 4), (4, 5), (5, 8), (8, 9), (9, 13), (13, 16), (16, 17), (17, 18), (18, 21), (21, 22), (22, 25), (25, 26), (26, 28), (28, 29)] \n",
      "\n",
      "하지만, 저는 당신에게 그 과정을 설명하고 싶습니다.\n",
      "[1210, 8, 1028, 230, 1159, 638, 93, 1021, 1826, 689, 1566, 939, 107, 1086, 575, 1003, 10]\n",
      "['▁하지만', ',', '▁저', '는', '▁당신', '에', '게', '▁그', '▁과정', '을', '▁설명', '하', '고', '▁싶', '습', '니다', '.']\n",
      "[(0, 3), (3, 4), (4, 6), (6, 7), (7, 10), (10, 11), (11, 12), (12, 14), (14, 17), (17, 18), (18, 21), (21, 22), (22, 23), (23, 25), (25, 26), (26, 28), (28, 29)] \n",
      "\n",
      "이 환상적인 기회를 놓치고 싶지 않습니다.\n",
      "[1004, 4646, 716, 695, 1872, 372, 3670, 107, 1086, 755, 1084, 575, 1003, 10]\n",
      "['▁이', '▁환상', '적', '인', '▁기회', '를', '▁놓치', '고', '▁싶', '지', '▁않', '습', '니다', '.']\n",
      "[(0, 1), (1, 4), (4, 5), (5, 6), (6, 9), (9, 10), (10, 13), (13, 14), (14, 16), (16, 17), (17, 19), (19, 20), (20, 22), (22, 23)] \n",
      "\n"
     ]
    }
   ],
   "source": [
    "for t in sample.tgt.values[:10]:\n",
    "    output = tokenizer.encode(t)\n",
    "    print(t)\n",
    "    print(output.ids)\n",
    "    print(output.tokens)\n",
    "    print(output.offsets, '\\n')"
   ]
  },
  {
   "cell_type": "code",
   "execution_count": 78,
   "id": "bd80128f",
   "metadata": {},
   "outputs": [],
   "source": [
    "# save\n",
    "tokenizer.save('../../data/subword_tokenizer/my-tokenizer.json')"
   ]
  },
  {
   "cell_type": "code",
   "execution_count": 79,
   "id": "94d1eaf0",
   "metadata": {},
   "outputs": [],
   "source": [
    "# load\n",
    "tokenizer2 = Tokenizer.from_file(\"../../data/subword_tokenizer/my-tokenizer.json\")"
   ]
  },
  {
   "cell_type": "code",
   "execution_count": 80,
   "id": "967963aa",
   "metadata": {
    "scrolled": true
   },
   "outputs": [
    {
     "name": "stdout",
     "output_type": "stream",
     "text": [
      "저희 엑스레이 검사 기계를 사용할 수 있습니다.\n",
      "[1058, 5581, 1441, 2818, 1537, 372, 1099, 942, 1019, 1011, 575, 1003, 10]\n",
      "['▁저희', '▁엑스', '레이', '▁검사', '▁기계', '를', '▁사용', '할', '▁수', '▁있', '습', '니다', '.']\n",
      "[(0, 2), (2, 5), (5, 7), (7, 10), (10, 13), (13, 14), (14, 17), (17, 18), (18, 20), (20, 22), (22, 23), (23, 25), (25, 26)] \n",
      "\n",
      "출시된지 약 일주일 정도 되었죠.\n",
      "[1594, 273, 755, 1323, 6135, 1700, 1054, 636, 740, 10]\n",
      "['▁출시', '된', '지', '▁약', '▁일주일', '▁정도', '▁되', '었', '죠', '.']\n",
      "[(0, 2), (2, 3), (3, 4), (4, 6), (6, 10), (10, 13), (13, 15), (15, 16), (16, 17), (17, 18)] \n",
      "\n",
      "따라서 투자자로서 해야 할 일이 있습니다.\n",
      "[1613, 3053, 351, 532, 1176, 1033, 1074, 693, 1011, 575, 1003, 10]\n",
      "['▁따라서', '▁투자자', '로', '서', '▁해야', '▁할', '▁일', '이', '▁있', '습', '니다', '.']\n",
      "[(0, 3), (3, 7), (7, 8), (8, 9), (9, 12), (12, 14), (14, 16), (16, 17), (17, 19), (19, 20), (20, 22), (22, 23)] \n",
      "\n",
      "투어 가이드가 현지 시장으로 안내해 줄 거예요.\n",
      "[2353, 3004, 69, 2565, 1455, 7544, 2137, 947, 1302, 1064, 651, 666, 10]\n",
      "['▁투어', '▁가이드', '가', '▁현지', '▁시장', '으로', '▁안내', '해', '▁줄', '▁거', '예', '요', '.']\n",
      "[(0, 2), (2, 6), (6, 7), (7, 10), (10, 13), (13, 15), (15, 18), (18, 19), (19, 21), (21, 23), (23, 24), (24, 25), (25, 26)] \n",
      "\n",
      "위를 청소하는 데 도움이 될 수 있습니다.\n",
      "[1077, 372, 1898, 939, 230, 1213, 1320, 693, 1212, 1019, 1011, 575, 1003, 10]\n",
      "['▁위', '를', '▁청소', '하', '는', '▁데', '▁도움', '이', '▁될', '▁수', '▁있', '습', '니다', '.']\n",
      "[(0, 1), (1, 2), (2, 5), (5, 6), (6, 7), (7, 9), (9, 12), (12, 13), (13, 15), (15, 17), (17, 19), (19, 20), (20, 22), (22, 23)] \n",
      "\n",
      "알겠습니다, 오디오 또는 비디오 콘텐츠에 관한 모든 것입니까?\n",
      "[1059, 96, 575, 1003, 8, 2867, 1530, 2232, 2338, 638, 1920, 1134, 1041, 700, 1152, 22]\n",
      "['▁알', '겠', '습', '니다', ',', '▁오디오', '▁또는', '▁비디오', '▁콘텐츠', '에', '▁관한', '▁모든', '▁것', '입', '니까', '?']\n",
      "[(0, 1), (1, 2), (2, 3), (3, 5), (5, 6), (6, 10), (10, 13), (13, 17), (17, 21), (21, 22), (22, 25), (25, 28), (28, 30), (30, 31), (31, 33), (33, 34)] \n",
      "\n",
      "거의 한달만에 집에 돌아온거야.\n",
      "[1771, 1022, 247, 386, 638, 1257, 638, 2074, 654, 86, 622, 10]\n",
      "['▁거의', '▁한', '달', '만', '에', '▁집', '에', '▁돌아', '온', '거', '야', '.']\n",
      "[(0, 2), (2, 4), (4, 5), (5, 6), (6, 7), (7, 9), (9, 10), (10, 13), (13, 14), (14, 15), (15, 16), (16, 17)] \n",
      "\n",
      "좋습니다, 가방이 어떻게 생겼는지 말씀해 주시겠어요?\n",
      "[1068, 575, 1003, 8, 1816, 693, 1336, 3047, 230, 755, 1354, 947, 7611, 96, 4872, 22]\n",
      "['▁좋', '습', '니다', ',', '▁가방', '이', '▁어떻게', '▁생겼', '는', '지', '▁말씀', '해', '▁주시', '겠', '어요', '?']\n",
      "[(0, 1), (1, 2), (2, 4), (4, 5), (5, 8), (8, 9), (9, 13), (13, 16), (16, 17), (17, 18), (18, 21), (21, 22), (22, 25), (25, 26), (26, 28), (28, 29)] \n",
      "\n",
      "하지만, 저는 당신에게 그 과정을 설명하고 싶습니다.\n",
      "[1210, 8, 1028, 230, 1159, 638, 93, 1021, 1826, 689, 1566, 939, 107, 1086, 575, 1003, 10]\n",
      "['▁하지만', ',', '▁저', '는', '▁당신', '에', '게', '▁그', '▁과정', '을', '▁설명', '하', '고', '▁싶', '습', '니다', '.']\n",
      "[(0, 3), (3, 4), (4, 6), (6, 7), (7, 10), (10, 11), (11, 12), (12, 14), (14, 17), (17, 18), (18, 21), (21, 22), (22, 23), (23, 25), (25, 26), (26, 28), (28, 29)] \n",
      "\n",
      "이 환상적인 기회를 놓치고 싶지 않습니다.\n",
      "[1004, 4646, 716, 695, 1872, 372, 3670, 107, 1086, 755, 1084, 575, 1003, 10]\n",
      "['▁이', '▁환상', '적', '인', '▁기회', '를', '▁놓치', '고', '▁싶', '지', '▁않', '습', '니다', '.']\n",
      "[(0, 1), (1, 4), (4, 5), (5, 6), (6, 9), (9, 10), (10, 13), (13, 14), (14, 16), (16, 17), (17, 19), (19, 20), (20, 22), (22, 23)] \n",
      "\n"
     ]
    }
   ],
   "source": [
    "for t in sample.tgt.values[:10]:\n",
    "    output = tokenizer2.encode(t)\n",
    "    print(t)\n",
    "    print(output.ids)\n",
    "    print(output.tokens)\n",
    "    print(output.offsets, '\\n')"
   ]
  },
  {
   "cell_type": "code",
   "execution_count": 81,
   "id": "c5ed9b0a",
   "metadata": {},
   "outputs": [],
   "source": [
    "# 분절 복원\n",
    "# 언어별 분절기 모듈을 통해 분절을 수행하고 기존 띄어쓰기와 새롭게 분절기에 의해 만들어진 공백을 구분하기 위해 '▁'를 원래의 공백위치에 삽입"
   ]
  },
  {
   "cell_type": "code",
   "execution_count": 82,
   "id": "1070ba75",
   "metadata": {},
   "outputs": [
    {
     "data": {
      "text/html": [
       "<div>\n",
       "<style scoped>\n",
       "    .dataframe tbody tr th:only-of-type {\n",
       "        vertical-align: middle;\n",
       "    }\n",
       "\n",
       "    .dataframe tbody tr th {\n",
       "        vertical-align: top;\n",
       "    }\n",
       "\n",
       "    .dataframe thead th {\n",
       "        text-align: right;\n",
       "    }\n",
       "</style>\n",
       "<table border=\"1\" class=\"dataframe\">\n",
       "  <thead>\n",
       "    <tr style=\"text-align: right;\">\n",
       "      <th></th>\n",
       "      <th>tgt</th>\n",
       "      <th>morphs_ko</th>\n",
       "      <th>morphs_length</th>\n",
       "      <th>replace_morphs_text</th>\n",
       "    </tr>\n",
       "  </thead>\n",
       "  <tbody>\n",
       "    <tr>\n",
       "      <th>0</th>\n",
       "      <td>저희 엑스레이 검사 기계를 사용할 수 있습니다.</td>\n",
       "      <td>[저희, 엑스레이, 검사, 기계, 를, 사용, 할, 수, 있, 습니다, .]</td>\n",
       "      <td>11</td>\n",
       "      <td>저희 엑스레이 검사 기계 를 사용 할 수 있 습니다 .</td>\n",
       "    </tr>\n",
       "    <tr>\n",
       "      <th>1</th>\n",
       "      <td>출시된지 약 일주일 정도 되었죠.</td>\n",
       "      <td>[출시, 된, 지, 약, 일, 주일, 정도, 되, 었, 죠, .]</td>\n",
       "      <td>11</td>\n",
       "      <td>출시 된 지 약 일 주일 정도 되 었 죠 .</td>\n",
       "    </tr>\n",
       "    <tr>\n",
       "      <th>2</th>\n",
       "      <td>따라서 투자자로서 해야 할 일이 있습니다.</td>\n",
       "      <td>[따라서, 투자자, 로서, 해야, 할, 일, 이, 있, 습니다, .]</td>\n",
       "      <td>10</td>\n",
       "      <td>따라서 투자자 로서 해야 할 일 이 있 습니다 .</td>\n",
       "    </tr>\n",
       "    <tr>\n",
       "      <th>3</th>\n",
       "      <td>투어 가이드가 현지 시장으로 안내해 줄 거예요.</td>\n",
       "      <td>[투어, 가이드, 가, 현지, 시장, 으로, 안내, 해, 줄, 거, 예요, .]</td>\n",
       "      <td>12</td>\n",
       "      <td>투어 가이드 가 현지 시장 으로 안내 해 줄 거 예요 .</td>\n",
       "    </tr>\n",
       "    <tr>\n",
       "      <th>4</th>\n",
       "      <td>위를 청소하는 데 도움이 될 수 있습니다.</td>\n",
       "      <td>[위, 를, 청소, 하, 는, 데, 도움, 이, 될, 수, 있, 습니다, .]</td>\n",
       "      <td>13</td>\n",
       "      <td>위 를 청소 하 는 데 도움 이 될 수 있 습니다 .</td>\n",
       "    </tr>\n",
       "    <tr>\n",
       "      <th>...</th>\n",
       "      <td>...</td>\n",
       "      <td>...</td>\n",
       "      <td>...</td>\n",
       "      <td>...</td>\n",
       "    </tr>\n",
       "    <tr>\n",
       "      <th>49995</th>\n",
       "      <td>집에 도착하려면 몇 분 동안 걸어야 하긴 해.</td>\n",
       "      <td>[집, 에, 도착, 하, 려면, 몇, 분, 동안, 걸어야, 하, 긴, 해, .]</td>\n",
       "      <td>13</td>\n",
       "      <td>집 에 도착 하 려면 몇 분 동안 걸어야 하 긴 해 .</td>\n",
       "    </tr>\n",
       "    <tr>\n",
       "      <th>49996</th>\n",
       "      <td>이 헤드폰은 무선 제품이므로 케이블이 없어요.</td>\n",
       "      <td>[이, 헤드폰, 은, 무선, 제품, 이, 므로, 케이블, 이, 없, 어요, .]</td>\n",
       "      <td>12</td>\n",
       "      <td>이 헤드폰 은 무선 제품 이 므로 케이블 이 없 어요 .</td>\n",
       "    </tr>\n",
       "    <tr>\n",
       "      <th>49997</th>\n",
       "      <td>안녕하세요, 인도네시아에서 연락을 드립니다.</td>\n",
       "      <td>[안녕, 하, 세요, ,, 인도네시아, 에서, 연락, 을, 드립니다, .]</td>\n",
       "      <td>10</td>\n",
       "      <td>안녕 하 세요 , 인도네시아 에서 연락 을 드립니다 .</td>\n",
       "    </tr>\n",
       "    <tr>\n",
       "      <th>49998</th>\n",
       "      <td>우리의 새 기계는 무선이며 내장 배터리가 있습니다.</td>\n",
       "      <td>[우리, 의, 새, 기계, 는, 무선, 이, 며, 내장, 배터리, 가, 있, 습니다...</td>\n",
       "      <td>14</td>\n",
       "      <td>우리 의 새 기계 는 무선 이 며 내장 배터리 가 있 습니다 .</td>\n",
       "    </tr>\n",
       "    <tr>\n",
       "      <th>49999</th>\n",
       "      <td>일단은, 느긋하게 아이스크림을 즐기죠.</td>\n",
       "      <td>[일단, 은, ,, 느긋, 하, 게, 아이스크림, 을, 즐기, 죠, .]</td>\n",
       "      <td>11</td>\n",
       "      <td>일단 은 , 느긋 하 게 아이스크림 을 즐기 죠 .</td>\n",
       "    </tr>\n",
       "  </tbody>\n",
       "</table>\n",
       "<p>50000 rows × 4 columns</p>\n",
       "</div>"
      ],
      "text/plain": [
       "                                tgt  \\\n",
       "0        저희 엑스레이 검사 기계를 사용할 수 있습니다.   \n",
       "1                출시된지 약 일주일 정도 되었죠.   \n",
       "2           따라서 투자자로서 해야 할 일이 있습니다.   \n",
       "3        투어 가이드가 현지 시장으로 안내해 줄 거예요.   \n",
       "4           위를 청소하는 데 도움이 될 수 있습니다.   \n",
       "...                             ...   \n",
       "49995     집에 도착하려면 몇 분 동안 걸어야 하긴 해.   \n",
       "49996     이 헤드폰은 무선 제품이므로 케이블이 없어요.   \n",
       "49997      안녕하세요, 인도네시아에서 연락을 드립니다.   \n",
       "49998  우리의 새 기계는 무선이며 내장 배터리가 있습니다.   \n",
       "49999         일단은, 느긋하게 아이스크림을 즐기죠.   \n",
       "\n",
       "                                               morphs_ko  morphs_length  \\\n",
       "0             [저희, 엑스레이, 검사, 기계, 를, 사용, 할, 수, 있, 습니다, .]             11   \n",
       "1                   [출시, 된, 지, 약, 일, 주일, 정도, 되, 었, 죠, .]             11   \n",
       "2                 [따라서, 투자자, 로서, 해야, 할, 일, 이, 있, 습니다, .]             10   \n",
       "3           [투어, 가이드, 가, 현지, 시장, 으로, 안내, 해, 줄, 거, 예요, .]             12   \n",
       "4            [위, 를, 청소, 하, 는, 데, 도움, 이, 될, 수, 있, 습니다, .]             13   \n",
       "...                                                  ...            ...   \n",
       "49995       [집, 에, 도착, 하, 려면, 몇, 분, 동안, 걸어야, 하, 긴, 해, .]             13   \n",
       "49996       [이, 헤드폰, 은, 무선, 제품, 이, 므로, 케이블, 이, 없, 어요, .]             12   \n",
       "49997          [안녕, 하, 세요, ,, 인도네시아, 에서, 연락, 을, 드립니다, .]             10   \n",
       "49998  [우리, 의, 새, 기계, 는, 무선, 이, 며, 내장, 배터리, 가, 있, 습니다...             14   \n",
       "49999           [일단, 은, ,, 느긋, 하, 게, 아이스크림, 을, 즐기, 죠, .]             11   \n",
       "\n",
       "                       replace_morphs_text  \n",
       "0           저희 엑스레이 검사 기계 를 사용 할 수 있 습니다 .  \n",
       "1                 출시 된 지 약 일 주일 정도 되 었 죠 .  \n",
       "2              따라서 투자자 로서 해야 할 일 이 있 습니다 .  \n",
       "3          투어 가이드 가 현지 시장 으로 안내 해 줄 거 예요 .  \n",
       "4            위 를 청소 하 는 데 도움 이 될 수 있 습니다 .  \n",
       "...                                    ...  \n",
       "49995       집 에 도착 하 려면 몇 분 동안 걸어야 하 긴 해 .  \n",
       "49996      이 헤드폰 은 무선 제품 이 므로 케이블 이 없 어요 .  \n",
       "49997       안녕 하 세요 , 인도네시아 에서 연락 을 드립니다 .  \n",
       "49998  우리 의 새 기계 는 무선 이 며 내장 배터리 가 있 습니다 .  \n",
       "49999         일단 은 , 느긋 하 게 아이스크림 을 즐기 죠 .  \n",
       "\n",
       "[50000 rows x 4 columns]"
      ]
     },
     "execution_count": 82,
     "metadata": {},
     "output_type": "execute_result"
    }
   ],
   "source": [
    "sample"
   ]
  },
  {
   "cell_type": "code",
   "execution_count": null,
   "id": "3d0fa087",
   "metadata": {},
   "outputs": [],
   "source": [
    "s = '▁'\n",
    "\n"
   ]
  },
  {
   "cell_type": "code",
   "execution_count": null,
   "id": "25562ced",
   "metadata": {},
   "outputs": [],
   "source": []
  },
  {
   "cell_type": "code",
   "execution_count": null,
   "id": "8342013a",
   "metadata": {},
   "outputs": [],
   "source": []
  },
  {
   "cell_type": "code",
   "execution_count": null,
   "id": "424c1826",
   "metadata": {},
   "outputs": [],
   "source": []
  },
  {
   "cell_type": "code",
   "execution_count": null,
   "id": "92d56d6e",
   "metadata": {},
   "outputs": [],
   "source": []
  },
  {
   "cell_type": "code",
   "execution_count": null,
   "id": "f39e3cf7",
   "metadata": {},
   "outputs": [],
   "source": []
  },
  {
   "cell_type": "code",
   "execution_count": null,
   "id": "7cbb8de5",
   "metadata": {},
   "outputs": [],
   "source": []
  },
  {
   "cell_type": "code",
   "execution_count": null,
   "id": "a15641fe",
   "metadata": {},
   "outputs": [],
   "source": []
  },
  {
   "cell_type": "code",
   "execution_count": null,
   "id": "96f2a51a",
   "metadata": {},
   "outputs": [],
   "source": []
  },
  {
   "cell_type": "code",
   "execution_count": null,
   "id": "07fdead4",
   "metadata": {},
   "outputs": [],
   "source": []
  },
  {
   "cell_type": "code",
   "execution_count": null,
   "id": "f07ee225",
   "metadata": {},
   "outputs": [],
   "source": []
  },
  {
   "cell_type": "code",
   "execution_count": null,
   "id": "24737a9e",
   "metadata": {},
   "outputs": [],
   "source": []
  },
  {
   "cell_type": "code",
   "execution_count": null,
   "id": "c7080396",
   "metadata": {},
   "outputs": [],
   "source": []
  },
  {
   "cell_type": "code",
   "execution_count": null,
   "id": "ac5a031c",
   "metadata": {},
   "outputs": [],
   "source": []
  }
 ],
 "metadata": {
  "kernelspec": {
   "display_name": "Python [conda env:ko_grammer_checker] *",
   "language": "python",
   "name": "conda-env-ko_grammer_checker-py"
  },
  "language_info": {
   "codemirror_mode": {
    "name": "ipython",
    "version": 3
   },
   "file_extension": ".py",
   "mimetype": "text/x-python",
   "name": "python",
   "nbconvert_exporter": "python",
   "pygments_lexer": "ipython3",
   "version": "3.8.13"
  }
 },
 "nbformat": 4,
 "nbformat_minor": 5
}
