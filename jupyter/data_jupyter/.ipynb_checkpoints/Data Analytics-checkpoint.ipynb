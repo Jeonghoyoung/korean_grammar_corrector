{
 "cells": [
  {
   "cell_type": "code",
   "execution_count": 3,
   "id": "bb4e6a4b",
   "metadata": {},
   "outputs": [],
   "source": [
    "%matplotlib inline\n",
    "import sys\n",
    "from collections import Counter\n",
    "import re\n",
    "import random\n",
    "\n",
    "import pandas as pd\n",
    "import matplotlib.pyplot as plt\n",
    "\n",
    "from mecab import MeCab\n",
    "\n",
    "from sklearn.model_selection import train_test_split"
   ]
  },
  {
   "cell_type": "markdown",
   "id": "ba5fe77c",
   "metadata": {},
   "source": [
    "### DATA\n",
    "\n",
    "1. 텍스트 데이터 분석 \n",
    "2. 에러 데이터 생성"
   ]
  },
  {
   "cell_type": "code",
   "execution_count": 4,
   "id": "1ab86324",
   "metadata": {},
   "outputs": [],
   "source": [
    "df = pd.read_csv('../../data/raw/colloquial_ko.csv')"
   ]
  },
  {
   "cell_type": "code",
   "execution_count": 5,
   "id": "72f3f3f5",
   "metadata": {},
   "outputs": [
    {
     "data": {
      "text/html": [
       "<div>\n",
       "<style scoped>\n",
       "    .dataframe tbody tr th:only-of-type {\n",
       "        vertical-align: middle;\n",
       "    }\n",
       "\n",
       "    .dataframe tbody tr th {\n",
       "        vertical-align: top;\n",
       "    }\n",
       "\n",
       "    .dataframe thead th {\n",
       "        text-align: right;\n",
       "    }\n",
       "</style>\n",
       "<table border=\"1\" class=\"dataframe\">\n",
       "  <thead>\n",
       "    <tr style=\"text-align: right;\">\n",
       "      <th></th>\n",
       "      <th>tgt</th>\n",
       "    </tr>\n",
       "  </thead>\n",
       "  <tbody>\n",
       "    <tr>\n",
       "      <th>0</th>\n",
       "      <td>그 말을 들으니 기쁘고, 저희와 거래하는 것을 고려해 주셨으면 합니다.</td>\n",
       "    </tr>\n",
       "    <tr>\n",
       "      <th>1</th>\n",
       "      <td>확실히 생각하고 있습니다만, 몇 가지 여쭤보고 싶은 게 있어요.</td>\n",
       "    </tr>\n",
       "    <tr>\n",
       "      <th>2</th>\n",
       "      <td>그들에게 말하면, 저희가 그 아이들을 돌볼 것입니다.</td>\n",
       "    </tr>\n",
       "    <tr>\n",
       "      <th>3</th>\n",
       "      <td>좋아요, 수영은 어떤가요?</td>\n",
       "    </tr>\n",
       "    <tr>\n",
       "      <th>4</th>\n",
       "      <td>현재 두 개의 수영장이 있습니다.</td>\n",
       "    </tr>\n",
       "  </tbody>\n",
       "</table>\n",
       "</div>"
      ],
      "text/plain": [
       "                                       tgt\n",
       "0  그 말을 들으니 기쁘고, 저희와 거래하는 것을 고려해 주셨으면 합니다.\n",
       "1      확실히 생각하고 있습니다만, 몇 가지 여쭤보고 싶은 게 있어요.\n",
       "2            그들에게 말하면, 저희가 그 아이들을 돌볼 것입니다.\n",
       "3                           좋아요, 수영은 어떤가요?\n",
       "4                       현재 두 개의 수영장이 있습니다."
      ]
     },
     "execution_count": 5,
     "metadata": {},
     "output_type": "execute_result"
    }
   ],
   "source": [
    "df.head()"
   ]
  },
  {
   "cell_type": "code",
   "execution_count": 6,
   "id": "137a55bd",
   "metadata": {},
   "outputs": [],
   "source": [
    "mecab = MeCab()"
   ]
  },
  {
   "cell_type": "code",
   "execution_count": 8,
   "id": "f0d6e37f",
   "metadata": {},
   "outputs": [],
   "source": [
    "def morphs_replace_text(text):\n",
    "    text = text.replace(' ', '▁')\n",
    "    \n",
    "    morphs_text = mecab.morphs(text)\n",
    "    return morphs_text\n",
    "\n",
    "def random_sampling(df, random_seed:int, sample_num:int, data:str):\n",
    "    random.seed(random_seed)\n",
    "    if sample_num > len(df):\n",
    "        random_sample_index = random.sample(range(len(df)), len(df))\n",
    "    else:\n",
    "        random_sample_index = random.sample(range(len(df)), sample_num)\n",
    "\n",
    "    if data == 'train':\n",
    "        result_df = df.drop(random_sample_index)\n",
    "        result_df.reset_index(inplace=True, drop=True)\n",
    "        return result_df\n",
    "    elif data == 'test':\n",
    "        result_df = df.loc[random_sample_index]\n",
    "        result_df.reset_index(inplace=True, drop=True)\n",
    "        return result_df"
   ]
  },
  {
   "cell_type": "code",
   "execution_count": 9,
   "id": "28fa2e89",
   "metadata": {},
   "outputs": [
    {
     "data": {
      "text/plain": [
       "'그 ▁ 말 을 ▁ 들으니 ▁ 기쁘 고 , ▁ 저희 와 ▁ 거래 하 는 ▁ 것 을 ▁ 고려 해 ▁ 주 셨 으면 ▁ 합니다 .'"
      ]
     },
     "execution_count": 9,
     "metadata": {},
     "output_type": "execute_result"
    }
   ],
   "source": [
    "## morphs 및 \n",
    "t = ' '.join(morphs_replace_text(df['tgt'][0]))\n",
    "# t.replace('▁▁', ' ').replace('▁', '').strip()\n",
    "t"
   ]
  },
  {
   "cell_type": "code",
   "execution_count": 10,
   "id": "284dec4b",
   "metadata": {},
   "outputs": [],
   "source": [
    "df['morphs_ko'] = df['tgt'].apply(lambda x: morphs_replace_text(str(x)))"
   ]
  },
  {
   "cell_type": "code",
   "execution_count": 27,
   "id": "83adf968",
   "metadata": {},
   "outputs": [],
   "source": [
    "df['morphs_length'] = df['morphs_ko'].apply(lambda x: len(x))"
   ]
  },
  {
   "cell_type": "code",
   "execution_count": 28,
   "id": "93c59bce",
   "metadata": {
    "scrolled": false
   },
   "outputs": [
    {
     "data": {
      "text/html": [
       "<div>\n",
       "<style scoped>\n",
       "    .dataframe tbody tr th:only-of-type {\n",
       "        vertical-align: middle;\n",
       "    }\n",
       "\n",
       "    .dataframe tbody tr th {\n",
       "        vertical-align: top;\n",
       "    }\n",
       "\n",
       "    .dataframe thead th {\n",
       "        text-align: right;\n",
       "    }\n",
       "</style>\n",
       "<table border=\"1\" class=\"dataframe\">\n",
       "  <thead>\n",
       "    <tr style=\"text-align: right;\">\n",
       "      <th></th>\n",
       "      <th>morphs_length</th>\n",
       "    </tr>\n",
       "  </thead>\n",
       "  <tbody>\n",
       "    <tr>\n",
       "      <th>count</th>\n",
       "      <td>1.260280e+06</td>\n",
       "    </tr>\n",
       "    <tr>\n",
       "      <th>mean</th>\n",
       "      <td>1.981234e+01</td>\n",
       "    </tr>\n",
       "    <tr>\n",
       "      <th>std</th>\n",
       "      <td>8.173237e+00</td>\n",
       "    </tr>\n",
       "    <tr>\n",
       "      <th>min</th>\n",
       "      <td>1.000000e+00</td>\n",
       "    </tr>\n",
       "    <tr>\n",
       "      <th>25%</th>\n",
       "      <td>1.400000e+01</td>\n",
       "    </tr>\n",
       "    <tr>\n",
       "      <th>50%</th>\n",
       "      <td>1.800000e+01</td>\n",
       "    </tr>\n",
       "    <tr>\n",
       "      <th>75%</th>\n",
       "      <td>2.400000e+01</td>\n",
       "    </tr>\n",
       "    <tr>\n",
       "      <th>max</th>\n",
       "      <td>1.220000e+02</td>\n",
       "    </tr>\n",
       "  </tbody>\n",
       "</table>\n",
       "</div>"
      ],
      "text/plain": [
       "       morphs_length\n",
       "count   1.260280e+06\n",
       "mean    1.981234e+01\n",
       "std     8.173237e+00\n",
       "min     1.000000e+00\n",
       "25%     1.400000e+01\n",
       "50%     1.800000e+01\n",
       "75%     2.400000e+01\n",
       "max     1.220000e+02"
      ]
     },
     "execution_count": 28,
     "metadata": {},
     "output_type": "execute_result"
    }
   ],
   "source": [
    "df.describe()"
   ]
  },
  {
   "cell_type": "code",
   "execution_count": 29,
   "id": "96b8d94d",
   "metadata": {},
   "outputs": [
    {
     "data": {
      "image/png": "[encoded data removed]",
      "text/plain": [
       "<Figure size 640x480 with 1 Axes>"
      ]
     },
     "metadata": {},
     "output_type": "display_data"
    }
   ],
   "source": [
    "length_list = df['morphs_length'].tolist()\n",
    "length_list.sort()\n",
    "length_cnt = Counter(length_list)\n",
    "\n",
    "x = length_cnt.keys()\n",
    "y = length_cnt.values()\n",
    "\n",
    "plt.bar(x, y)\n",
    "plt.show()"
   ]
  },
  {
   "cell_type": "markdown",
   "id": "6a022c04",
   "metadata": {},
   "source": [
    "- 텍스트 데이터 형태소 분석 결과 : 대부분 14개(전체 데이터의 약 25%) ~ 24개 (전체 데이터의 약 75%)의 형태소로 이루어져있음.\n",
    "\n",
    "- 학습 및 테스트 데이터 약 5만개 정도 샘플링 하되 위의 형태소 개수로 이루어진 데이터셋 구축 예정. "
   ]
  },
  {
   "cell_type": "code",
   "execution_count": 9,
   "id": "733a5d2e",
   "metadata": {},
   "outputs": [
    {
     "data": {
      "text/html": [
       "<div>\n",
       "<style scoped>\n",
       "    .dataframe tbody tr th:only-of-type {\n",
       "        vertical-align: middle;\n",
       "    }\n",
       "\n",
       "    .dataframe tbody tr th {\n",
       "        vertical-align: top;\n",
       "    }\n",
       "\n",
       "    .dataframe thead th {\n",
       "        text-align: right;\n",
       "    }\n",
       "</style>\n",
       "<table border=\"1\" class=\"dataframe\">\n",
       "  <thead>\n",
       "    <tr style=\"text-align: right;\">\n",
       "      <th></th>\n",
       "      <th>tgt</th>\n",
       "      <th>morphs_ko</th>\n",
       "      <th>morphs_length</th>\n",
       "    </tr>\n",
       "  </thead>\n",
       "  <tbody>\n",
       "    <tr>\n",
       "      <th>0</th>\n",
       "      <td>그 말을 들으니 기쁘고, 저희와 거래하는 것을 고려해 주셨으면 합니다.</td>\n",
       "      <td>[그, 말, 을, 들으니, 기쁘, 고, ,, 저희, 와, 거래, 하, 는, 것, 을...</td>\n",
       "      <td>21</td>\n",
       "    </tr>\n",
       "    <tr>\n",
       "      <th>1</th>\n",
       "      <td>확실히 생각하고 있습니다만, 몇 가지 여쭤보고 싶은 게 있어요.</td>\n",
       "      <td>[확실히, 생각, 하, 고, 있, 습니다, 만, ,, 몇, 가지, 여쭤, 보, 고,...</td>\n",
       "      <td>19</td>\n",
       "    </tr>\n",
       "    <tr>\n",
       "      <th>2</th>\n",
       "      <td>그들에게 말하면, 저희가 그 아이들을 돌볼 것입니다.</td>\n",
       "      <td>[그, 들, 에게, 말, 하, 면, ,, 저희, 가, 그, 아이, 들, 을, 돌볼,...</td>\n",
       "      <td>17</td>\n",
       "    </tr>\n",
       "    <tr>\n",
       "      <th>3</th>\n",
       "      <td>좋아요, 수영은 어떤가요?</td>\n",
       "      <td>[좋, 아요, ,, 수영, 은, 어떤, 가요, ?]</td>\n",
       "      <td>8</td>\n",
       "    </tr>\n",
       "    <tr>\n",
       "      <th>4</th>\n",
       "      <td>현재 두 개의 수영장이 있습니다.</td>\n",
       "      <td>[현재, 두, 개, 의, 수영장, 이, 있, 습니다, .]</td>\n",
       "      <td>9</td>\n",
       "    </tr>\n",
       "    <tr>\n",
       "      <th>...</th>\n",
       "      <td>...</td>\n",
       "      <td>...</td>\n",
       "      <td>...</td>\n",
       "    </tr>\n",
       "    <tr>\n",
       "      <th>1260275</th>\n",
       "      <td>가상 현실이 장비들에 통합됩니다.</td>\n",
       "      <td>[가상, 현실, 이, 장비, 들, 에, 통합, 됩니다, .]</td>\n",
       "      <td>9</td>\n",
       "    </tr>\n",
       "    <tr>\n",
       "      <th>1260276</th>\n",
       "      <td>귀하의 운동 경험을 향상시키는 프로그램이 있습니다.</td>\n",
       "      <td>[귀하, 의, 운동, 경험, 을, 향상, 시키, 는, 프로그램, 이, 있, 습니다, .]</td>\n",
       "      <td>13</td>\n",
       "    </tr>\n",
       "    <tr>\n",
       "      <th>1260277</th>\n",
       "      <td>자극을 주어 피로감을 줄여줍니다.</td>\n",
       "      <td>[자극, 을, 주, 어, 피로감, 을, 줄여, 줍니다, .]</td>\n",
       "      <td>9</td>\n",
       "    </tr>\n",
       "    <tr>\n",
       "      <th>1260278</th>\n",
       "      <td>주문하신 상품은 결제 후 영업일 기준으로 3일 후에 발송됩니다.</td>\n",
       "      <td>[주문, 하, 신, 상품, 은, 결제, 후, 영업, 일, 기준, 으로, 3, 일, ...</td>\n",
       "      <td>18</td>\n",
       "    </tr>\n",
       "    <tr>\n",
       "      <th>1260279</th>\n",
       "      <td>발송 2~3주 후에 귀하의 국가에서 받으실 수 있습니다.</td>\n",
       "      <td>[발송, 2, ~, 3, 주, 후, 에, 귀하, 의, 국가, 에서, 받, 으실, 수...</td>\n",
       "      <td>17</td>\n",
       "    </tr>\n",
       "  </tbody>\n",
       "</table>\n",
       "<p>1260280 rows × 3 columns</p>\n",
       "</div>"
      ],
      "text/plain": [
       "                                             tgt  \\\n",
       "0        그 말을 들으니 기쁘고, 저희와 거래하는 것을 고려해 주셨으면 합니다.   \n",
       "1            확실히 생각하고 있습니다만, 몇 가지 여쭤보고 싶은 게 있어요.   \n",
       "2                  그들에게 말하면, 저희가 그 아이들을 돌볼 것입니다.   \n",
       "3                                 좋아요, 수영은 어떤가요?   \n",
       "4                             현재 두 개의 수영장이 있습니다.   \n",
       "...                                          ...   \n",
       "1260275                       가상 현실이 장비들에 통합됩니다.   \n",
       "1260276             귀하의 운동 경험을 향상시키는 프로그램이 있습니다.   \n",
       "1260277                       자극을 주어 피로감을 줄여줍니다.   \n",
       "1260278      주문하신 상품은 결제 후 영업일 기준으로 3일 후에 발송됩니다.   \n",
       "1260279          발송 2~3주 후에 귀하의 국가에서 받으실 수 있습니다.   \n",
       "\n",
       "                                                 morphs_ko  morphs_length  \n",
       "0        [그, 말, 을, 들으니, 기쁘, 고, ,, 저희, 와, 거래, 하, 는, 것, 을...             21  \n",
       "1        [확실히, 생각, 하, 고, 있, 습니다, 만, ,, 몇, 가지, 여쭤, 보, 고,...             19  \n",
       "2        [그, 들, 에게, 말, 하, 면, ,, 저희, 가, 그, 아이, 들, 을, 돌볼,...             17  \n",
       "3                             [좋, 아요, ,, 수영, 은, 어떤, 가요, ?]              8  \n",
       "4                         [현재, 두, 개, 의, 수영장, 이, 있, 습니다, .]              9  \n",
       "...                                                    ...            ...  \n",
       "1260275                  [가상, 현실, 이, 장비, 들, 에, 통합, 됩니다, .]              9  \n",
       "1260276  [귀하, 의, 운동, 경험, 을, 향상, 시키, 는, 프로그램, 이, 있, 습니다, .]             13  \n",
       "1260277                  [자극, 을, 주, 어, 피로감, 을, 줄여, 줍니다, .]              9  \n",
       "1260278  [주문, 하, 신, 상품, 은, 결제, 후, 영업, 일, 기준, 으로, 3, 일, ...             18  \n",
       "1260279  [발송, 2, ~, 3, 주, 후, 에, 귀하, 의, 국가, 에서, 받, 으실, 수...             17  \n",
       "\n",
       "[1260280 rows x 3 columns]"
      ]
     },
     "execution_count": 9,
     "metadata": {},
     "output_type": "execute_result"
    }
   ],
   "source": [
    "df"
   ]
  },
  {
   "cell_type": "code",
   "execution_count": 30,
   "id": "110cae17",
   "metadata": {},
   "outputs": [],
   "source": [
    "df_idx = [i for i in range(len(df)) if 14 <= df['morphs_length'][i] < 25]"
   ]
  },
  {
   "cell_type": "code",
   "execution_count": 31,
   "id": "e8ed60c2",
   "metadata": {},
   "outputs": [
    {
     "name": "stdout",
     "output_type": "stream",
     "text": [
      "1260280\n",
      "673331\n"
     ]
    }
   ],
   "source": [
    "# 약 50만개의 데이터가 걸러짐\n",
    "print(len(df))\n",
    "print(len(df_idx))\n",
    "df2 = df.loc[df_idx]\n",
    "df2.reset_index(inplace=True, drop=True)"
   ]
  },
  {
   "cell_type": "code",
   "execution_count": 33,
   "id": "251928fc",
   "metadata": {},
   "outputs": [],
   "source": [
    "sample = random_sampling(df2, random_seed=123, sample_num=50000, data = 'test')"
   ]
  },
  {
   "cell_type": "code",
   "execution_count": 34,
   "id": "fa10ad50",
   "metadata": {},
   "outputs": [],
   "source": [
    "sample['replace_morphs_text'] = sample['morphs_ko'].apply(lambda x: ' '.join(x))"
   ]
  },
  {
   "cell_type": "code",
   "execution_count": 71,
   "id": "e438582b",
   "metadata": {},
   "outputs": [],
   "source": [
    "with open('colloquial_replace_morphs2.txt', 'w') as f:\n",
    "    for line in sample.replace_morphs_text.values:\n",
    "        try:\n",
    "            f.write(line + '\\n')\n",
    "        except:\n",
    "            print(line)"
   ]
  },
  {
   "cell_type": "markdown",
   "id": "4f0a3ca3",
   "metadata": {},
   "source": [
    "#### Subword 분절\n",
    "\n",
    "- 서브워드 분절은 기본적으로 '단어는 의미를 가진 더 작은 서브워드들의 조합으로 이루어진다'는 가정하에 적용되는 알고리즘\n",
    "\n",
    "- 적절한 서브워드를 발견하여 해당 단위로 쪼개어주면 어휘수를 줄일 수 있고 희소성을 효과적으로 줄일 수 있다.\n",
    "\n",
    "- 신조어나 오타와 같은 UNK에 대해 서브워드 단위나 문자 단위로 쪼개줌으로써 기존 훈련 데이터에서 보았던 토큰들의 조합으로 만들 수 있다.\n",
    "\n",
    "- 자연어 전처리에 필수 절차이다.\n",
    "\n",
    "\n",
    "- Huggingface tokenizer\n",
    "    - byte level bpe tokenizer\n",
    "    - char bpe tokenizer\n",
    "    - sentencepiece bpe tokenizer\n",
    "    - bert wordpiece tokenizer\n",
    "\n",
    "\n",
    "- 한국어 Subword 순서\n",
    "    * src, tgt 둘다 실행.\n",
    "    \n",
    "    1. Mecab 등의 분절기로 분절후 Subword 수행."
   ]
  },
  {
   "cell_type": "code",
   "execution_count": 1,
   "id": "6fdf8bdc",
   "metadata": {},
   "outputs": [],
   "source": [
    "from tokenizers import SentencePieceBPETokenizer, Tokenizer"
   ]
  },
  {
   "cell_type": "code",
   "execution_count": 77,
   "id": "aeaae8ac",
   "metadata": {},
   "outputs": [],
   "source": [
    "tokenizer = SentencePieceBPETokenizer()"
   ]
  },
  {
   "cell_type": "code",
   "execution_count": 78,
   "id": "f6705e45",
   "metadata": {},
   "outputs": [
    {
     "name": "stdout",
     "output_type": "stream",
     "text": [
      "\n",
      "\n",
      "\n",
      "CPU times: user 3.24 s, sys: 1.04 s, total: 4.27 s\n",
      "Wall time: 529 ms\n"
     ]
    },
    {
     "data": {
      "text/plain": [
       "Tokenizer(vocabulary_size=8138, model=SentencePieceBPE, unk_token=<unk>, replacement=▁, add_prefix_space=True, dropout=None)"
      ]
     },
     "execution_count": 78,
     "metadata": {},
     "output_type": "execute_result"
    }
   ],
   "source": [
    "%%time\n",
    "# train\n",
    "min_frequency = 5\n",
    "vocab_size = 30000\n",
    "\n",
    "tokenizer.train([\"../../data/sample/colloquial_replace_morphs.txt\"], vocab_size=vocab_size, min_frequency=min_frequency)\n",
    "tokenizer"
   ]
  },
  {
   "cell_type": "code",
   "execution_count": 79,
   "id": "d2af9021",
   "metadata": {
    "scrolled": true
   },
   "outputs": [
    {
     "name": "stdout",
     "output_type": "stream",
     "text": [
      "당사 의 ▁ A 스마트 ▁ 비서 는 ▁ AI ▁ 기반 ▁ 도우미 입니다 .\n",
      "[1198, 1017, 69, 69, 2076, 1690, 69, 69, 4622, 1006, 69, 69, 3325, 69, 69, 2168, 69, 69, 5053, 436, 1040, 1001]\n",
      "▁당사▁의▁▁▁A▁스마트▁▁▁비서▁는▁▁▁AI▁▁▁기반▁▁▁도우미▁입니다▁.\n",
      "[(0, 2), (2, 4), (4, 5), (5, 6), (6, 8), (8, 12), (12, 13), (13, 14), (14, 17), (17, 19), (19, 20), (20, 21), (21, 24), (24, 25), (25, 26), (26, 29), (29, 30), (30, 31), (31, 34), (34, 35), (35, 39), (39, 41)] \n",
      "\n",
      "그래서 ▁ 우체국 을 ▁ 방문 하 면 ▁ 주변 에 ▁ 나이 ▁ 드신 ▁ 분 들 이 ▁ 많이 ▁ 보입니다 .\n",
      "[1314, 69, 69, 7656, 1007, 69, 69, 1514, 1008, 1078, 69, 69, 2301, 1005, 69, 69, 3135, 69, 69, 7649, 69, 69, 1208, 1044, 1004, 69, 69, 1338, 69, 69, 4356, 1001]\n",
      "▁그래서▁▁▁우체국▁을▁▁▁방문▁하▁면▁▁▁주변▁에▁▁▁나이▁▁▁드신▁▁▁분▁들▁이▁▁▁많이▁▁▁보입니다▁.\n",
      "[(0, 3), (3, 4), (4, 5), (5, 9), (9, 11), (11, 12), (12, 13), (13, 16), (16, 18), (18, 20), (20, 21), (21, 22), (22, 25), (25, 27), (27, 28), (28, 29), (29, 32), (32, 33), (33, 34), (34, 37), (37, 38), (38, 39), (39, 41), (41, 43), (43, 45), (45, 46), (46, 47), (47, 50), (50, 51), (51, 52), (52, 57), (57, 59)] \n",
      "\n",
      "한국 이 ▁ 국제 ▁ 저작 권 ▁ 협약 과 ▁ 관련 이 ▁ 있 다고 ▁ 들 었 습니다 .\n",
      "[1164, 1004, 69, 69, 1562, 69, 69, 4481, 1702, 69, 69, 1651, 625, 1057, 69, 69, 1609, 1004, 69, 69, 1011, 1280, 69, 69, 1044, 1081, 1010, 1001]\n",
      "▁한국▁이▁▁▁국제▁▁▁저작▁권▁▁▁협약▁과▁▁▁관련▁이▁▁▁있▁다고▁▁▁들▁었▁습니다▁.\n",
      "[(0, 2), (2, 4), (4, 5), (5, 6), (6, 9), (9, 10), (10, 11), (11, 14), (14, 16), (16, 17), (17, 18), (18, 20), (20, 21), (21, 23), (23, 24), (24, 25), (25, 28), (28, 30), (30, 31), (31, 32), (32, 34), (34, 37), (37, 38), (38, 39), (39, 41), (41, 43), (43, 47), (47, 49)] \n",
      "\n",
      "이런 ▁ 채널 을 ▁ 여 는 ▁ 것 은 ▁ 우리 ▁ 회사 만 을 ▁ 위한 ▁ 일 이 ▁ 아닙니다 .\n",
      "[1679, 69, 69, 3543, 1007, 69, 69, 1061, 1006, 69, 69, 1041, 1016, 69, 69, 1083, 69, 69, 1149, 1072, 1007, 69, 69, 1275, 69, 69, 1074, 1004, 69, 69, 2002, 1001]\n",
      "▁이런▁▁▁채널▁을▁▁▁여▁는▁▁▁것▁은▁▁▁우리▁▁▁회사▁만▁을▁▁▁위한▁▁▁일▁이▁▁▁아닙니다▁.\n",
      "[(0, 2), (2, 3), (3, 4), (4, 7), (7, 9), (9, 10), (10, 11), (11, 13), (13, 15), (15, 16), (16, 17), (17, 19), (19, 21), (21, 22), (22, 23), (23, 26), (26, 27), (27, 28), (28, 31), (31, 33), (33, 35), (35, 36), (36, 37), (37, 40), (40, 41), (41, 42), (42, 44), (44, 46), (46, 47), (47, 48), (48, 53), (53, 55)] \n",
      "\n",
      "또한 ▁ 그 의 ▁ 두통 에 도 ▁ 도움 이 ▁ 될 ▁ 것 입니다 .\n",
      "[1170, 69, 69, 1021, 1017, 69, 69, 1287, 885, 1005, 1027, 69, 69, 1320, 1004, 69, 69, 1212, 69, 69, 1041, 1040, 1001]\n",
      "▁또한▁▁▁그▁의▁▁▁두통▁에▁도▁▁▁도움▁이▁▁▁될▁▁▁것▁입니다▁.\n",
      "[(0, 2), (2, 3), (3, 4), (4, 6), (6, 8), (8, 9), (9, 10), (10, 12), (12, 13), (13, 15), (15, 17), (17, 18), (18, 19), (19, 22), (22, 24), (24, 25), (25, 26), (26, 28), (28, 29), (29, 30), (30, 32), (32, 36), (36, 38)] \n",
      "\n"
     ]
    }
   ],
   "source": [
    "for t in sample.replace_morphs_text.values[:5]:\n",
    "    output = tokenizer.encode(t)\n",
    "    print(t)\n",
    "    print(output.ids)\n",
    "    print(''.join(output.tokens))\n",
    "    print(output.offsets, '\\n')"
   ]
  },
  {
   "cell_type": "code",
   "execution_count": 86,
   "id": "acfa60e5",
   "metadata": {},
   "outputs": [],
   "source": [
    "def tokenizer_text(text, tokenizer):\n",
    "    output = tokenizer.encode(text)\n",
    "    tok_text = ''.join(output.tokens)\n",
    "    return tok_text.replace('▁▁▁', '▁▁')\n",
    "\n",
    "def detokenizer_text(text):\n",
    "    return text.replace(' ', '').replace('▁▁', ' ').replace('▁','')"
   ]
  },
  {
   "cell_type": "markdown",
   "id": "114ae9ab",
   "metadata": {},
   "source": [
    "``` python\n",
    "# 원본으로 복원 예제\n",
    "t = '▁당사▁의▁▁A▁스마트▁▁비서▁는▁▁AI▁▁기반▁▁도우미▁입니다▁.'\n",
    "t.replace(' ', '').replace('▁▁', ' ').replace('▁','')\n",
    "\n",
    "# save\n",
    "tokenizer.save('../../data/subword_tokenizer/my-tokenizer.json')\n",
    "\n",
    "#load\n",
    "tokenizer2 = Tokenizer.from_file(\"../../data/subword_tokenizer/my-tokenizer.json\")\n",
    "```"
   ]
  },
  {
   "cell_type": "code",
   "execution_count": 82,
   "id": "94d1eaf0",
   "metadata": {},
   "outputs": [
    {
     "data": {
      "text/plain": [
       "'▁당사▁의▁▁A▁스마트▁▁비서▁는▁▁AI▁▁기반▁▁도우미▁입니다▁.'"
      ]
     },
     "execution_count": 82,
     "metadata": {},
     "output_type": "execute_result"
    }
   ],
   "source": [
    "tokenizer_text(sample['replace_morphs_text'][0], tokenizer)"
   ]
  },
  {
   "cell_type": "code",
   "execution_count": 84,
   "id": "25562ced",
   "metadata": {},
   "outputs": [],
   "source": [
    "sample['tokenizing_text'] = sample['replace_morphs_text'].apply(lambda x: tokenizer_text(x, tokenizer))"
   ]
  },
  {
   "cell_type": "code",
   "execution_count": 89,
   "id": "8342013a",
   "metadata": {},
   "outputs": [
    {
     "data": {
      "text/plain": [
       "'그래서 우체국을 방문하면 주변에 나이 드신 분들이 많이 보입니다.'"
      ]
     },
     "execution_count": 89,
     "metadata": {},
     "output_type": "execute_result"
    }
   ],
   "source": [
    "detokenizer_text(sample['tokenizing_text'][1])"
   ]
  },
  {
   "cell_type": "code",
   "execution_count": 90,
   "id": "424c1826",
   "metadata": {},
   "outputs": [
    {
     "data": {
      "text/plain": [
       "'그래서 우체국을 방문하면 주변에 나이 드신 분들이 많이 보입니다.'"
      ]
     },
     "execution_count": 90,
     "metadata": {},
     "output_type": "execute_result"
    }
   ],
   "source": [
    "sample['tgt'][1]"
   ]
  },
  {
   "cell_type": "code",
   "execution_count": null,
   "id": "07fdead4",
   "metadata": {},
   "outputs": [],
   "source": []
  },
  {
   "cell_type": "code",
   "execution_count": null,
   "id": "f07ee225",
   "metadata": {},
   "outputs": [],
   "source": []
  },
  {
   "cell_type": "code",
   "execution_count": null,
   "id": "24737a9e",
   "metadata": {},
   "outputs": [],
   "source": []
  },
  {
   "cell_type": "code",
   "execution_count": null,
   "id": "c7080396",
   "metadata": {},
   "outputs": [],
   "source": []
  },
  {
   "cell_type": "code",
   "execution_count": null,
   "id": "ac5a031c",
   "metadata": {},
   "outputs": [],
   "source": []
  }
 ],
 "metadata": {
  "kernelspec": {
   "display_name": "Python [conda env:ko_grammer_checker] *",
   "language": "python",
   "name": "conda-env-ko_grammer_checker-py"
  },
  "language_info": {
   "codemirror_mode": {
    "name": "ipython",
    "version": 3
   },
   "file_extension": ".py",
   "mimetype": "text/x-python",
   "name": "python",
   "nbconvert_exporter": "python",
   "pygments_lexer": "ipython3",
   "version": "3.8.13"
  }
 },
 "nbformat": 4,
 "nbformat_minor": 5
}
